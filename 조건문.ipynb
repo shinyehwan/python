{
  "nbformat": 4,
  "nbformat_minor": 0,
  "metadata": {
    "colab": {
      "name": "조건문",
      "provenance": [],
      "authorship_tag": "ABX9TyNxEUzEwzEemYQT/0XbsgrE",
      "include_colab_link": true
    },
    "kernelspec": {
      "name": "python3",
      "display_name": "Python 3"
    },
    "language_info": {
      "name": "python"
    }
  },
  "cells": [
    {
      "cell_type": "markdown",
      "metadata": {
        "id": "view-in-github",
        "colab_type": "text"
      },
      "source": [
        "<a href=\"https://colab.research.google.com/github/shinyehwan/python_basic/blob/main/%EC%A1%B0%EA%B1%B4%EB%AC%B8.ipynb\" target=\"_parent\"><img src=\"https://colab.research.google.com/assets/colab-badge.svg\" alt=\"Open In Colab\"/></a>"
      ]
    },
    {
      "cell_type": "code",
      "execution_count": 8,
      "metadata": {
        "colab": {
          "base_uri": "https://localhost:8080/"
        },
        "id": "MqVP5bBmcSIt",
        "outputId": "d2192cc1-4ac4-4464-9f2f-ef25b50e65c3"
      },
      "outputs": [
        {
          "output_type": "stream",
          "name": "stdout",
          "text": [
            "15\n",
            "학점 : B\n",
            "[1, 2, 4]\n",
            "[1, 2, 4]\n"
          ]
        }
      ],
      "source": [
        "# 조건문\n",
        "\n",
        "x=15\n",
        "\n",
        "if x>10:\n",
        "  print(x)\n",
        "\n",
        "# examle\n",
        "score =85\n",
        "\n",
        "if score >= 90:\n",
        "  print('학점 : A')\n",
        "elif score >= 80:\n",
        "  print('학점 : B')\n",
        "elif score >= 70:\n",
        "  print('학점 : C')\n",
        "else:\n",
        "  print('학점 : F')\n",
        "\n",
        "\n",
        "# 비교 연산자 -> ==, !=, >, <, >=, <=\n",
        "# 논리 연산자 -> and or not\n",
        "# pass문\n",
        "\n",
        "# 리스트에서 특정한 원소값만을 없앨 때 예시\n",
        "# 일반적\n",
        "a= [1,2,3,4,5,5,5]\n",
        "remove_set={3,5}\n",
        "\n",
        "result=[]\n",
        "\n",
        "for i in a:\n",
        "  if i not in remove_set:\n",
        "    result.append(i)\n",
        "print(result)\n",
        "\n",
        "# 쉬운코드\n",
        "a= [1,2,3,4,5,5,5]\n",
        "remove_set={3,5}\n",
        "\n",
        "result = [i for i in a if i not in remove_set]\n",
        "print(result)"
      ]
    }
  ]
}