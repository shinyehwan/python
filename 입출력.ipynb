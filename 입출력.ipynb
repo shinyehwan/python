{
  "nbformat": 4,
  "nbformat_minor": 0,
  "metadata": {
    "colab": {
      "name": "입출력.ipynb",
      "provenance": [],
      "authorship_tag": "ABX9TyMpu65V7ZeBIlH+/Obm31Uw",
      "include_colab_link": true
    },
    "kernelspec": {
      "name": "python3",
      "display_name": "Python 3"
    },
    "language_info": {
      "name": "python"
    }
  },
  "cells": [
    {
      "cell_type": "markdown",
      "metadata": {
        "id": "view-in-github",
        "colab_type": "text"
      },
      "source": [
        "<a href=\"https://colab.research.google.com/github/shinyehwan/python_basic/blob/main/%EC%9E%85%EC%B6%9C%EB%A0%A5.ipynb\" target=\"_parent\"><img src=\"https://colab.research.google.com/assets/colab-badge.svg\" alt=\"Open In Colab\"/></a>"
      ]
    },
    {
      "cell_type": "code",
      "execution_count": 5,
      "metadata": {
        "colab": {
          "base_uri": "https://localhost:8080/"
        },
        "id": "nyDJ21r6gEwh",
        "outputId": "bf9f0037-95ee-4c43-c203-ae788bbf35ac"
      },
      "outputs": [
        {
          "output_type": "stream",
          "name": "stdout",
          "text": [
            "3\n",
            "1 2 45\n",
            "[45, 2, 1]\n"
          ]
        }
      ],
      "source": [
        "# 입출력\n",
        "# list(map(int, input().split()))\n",
        "# input()으로 입력받은 문자열을 split()을 이용해 공백으로 나눈 리스트로 바꾼 뒤에, map을 이용하여\n",
        "# 해당 리스트의 모든 원소에 int()함수를 적용한다.\n",
        "# 최종적으로 그 결과를 list()로 다시 바꿈으로써 입력받은 문자열을 띄어쓰기로 구분하여\n",
        "# 각각 숫자 자료형으로 저장하게 되는것이다.\n",
        "\n",
        "# 데이터의 개수 입력\n",
        "n = int(input())\n",
        "# 각 데이터를 공백으로 구분하여입력\n",
        "data = list(map(int, input().split()))\n",
        "\n",
        "data.sort(reverse = True)\n",
        "print(data)"
      ]
    },
    {
      "cell_type": "code",
      "source": [
        "# 공백을 기준으로 구분하여 적은 수의 데이터 입력\n",
        "# n,m,k를 공백으로 구분하여 입력\n",
        "n, m, k = map(int, input().split())\n",
        "\n",
        "print(n,m,k)"
      ],
      "metadata": {
        "colab": {
          "base_uri": "https://localhost:8080/"
        },
        "id": "BeW-DB7TjuNr",
        "outputId": "9cb6e8a0-5ce4-4d54-e729-e3673d868273"
      },
      "execution_count": 6,
      "outputs": [
        {
          "output_type": "stream",
          "name": "stdout",
          "text": [
            "3 4 12\n",
            "3 4 12\n"
          ]
        }
      ]
    },
    {
      "cell_type": "code",
      "source": [
        "import sys\n",
        "\n",
        "# 문자열 입력 받기\n",
        "data = sys.stdin.readline().rstrip()\n",
        "print(data)"
      ],
      "metadata": {
        "colab": {
          "base_uri": "https://localhost:8080/"
        },
        "id": "K2VPAJPhlDTx",
        "outputId": "90f0720a-51a5-4518-ce86-a95e2ac546a0"
      },
      "execution_count": 11,
      "outputs": [
        {
          "output_type": "stream",
          "name": "stdout",
          "text": [
            "\n"
          ]
        }
      ]
    },
    {
      "cell_type": "code",
      "source": [
        "# 출력\n",
        "\n",
        "answer = 7\n",
        "\n",
        "print(\"정답은 \"+ str(answer) + \"입니다.\")\n",
        "print(\"정답은 \", str(answer), \"입니다.\")\n",
        "print(f\"정답은 {answer}입니다.\")"
      ],
      "metadata": {
        "colab": {
          "base_uri": "https://localhost:8080/"
        },
        "id": "chW2CiijmGaz",
        "outputId": "a5603481-ded7-49d5-ead4-4092d727b77a"
      },
      "execution_count": 13,
      "outputs": [
        {
          "output_type": "stream",
          "name": "stdout",
          "text": [
            "정답은 7입니다.\n",
            "정답은  7 입니다.\n",
            "정답은 7입니다.\n"
          ]
        }
      ]
    }
  ]
}