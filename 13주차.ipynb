{
  "nbformat": 4,
  "nbformat_minor": 0,
  "metadata": {
    "colab": {
      "name": "13주차.ipynb",
      "provenance": [],
      "authorship_tag": "ABX9TyMMaYPCoxvziAdVynm9uXlc",
      "include_colab_link": true
    },
    "kernelspec": {
      "name": "python3",
      "display_name": "Python 3"
    },
    "language_info": {
      "name": "python"
    }
  },
  "cells": [
    {
      "cell_type": "markdown",
      "metadata": {
        "id": "view-in-github",
        "colab_type": "text"
      },
      "source": [
        "<a href=\"https://colab.research.google.com/github/shinyehwan/python_basic/blob/main/13%EC%A3%BC%EC%B0%A8.ipynb\" target=\"_parent\"><img src=\"https://colab.research.google.com/assets/colab-badge.svg\" alt=\"Open In Colab\"/></a>"
      ]
    },
    {
      "cell_type": "code",
      "execution_count": 3,
      "metadata": {
        "colab": {
          "base_uri": "https://localhost:8080/"
        },
        "id": "u-Y6WkZ9lSL_",
        "outputId": "778aaf8d-4e64-45ec-fba7-56b21c7a170a"
      },
      "outputs": [
        {
          "output_type": "stream",
          "name": "stdout",
          "text": [
            "30\n",
            "200\n"
          ]
        }
      ],
      "source": [
        "# 정적 메서드\n",
        "\n",
        "class Calc:\n",
        "  @staticmethod\n",
        "  def add(a,b):\n",
        "    print(a+b)\n",
        "\n",
        "  @staticmethod\n",
        "  def mul(a,b):\n",
        "    print(a*b)\n",
        "\n",
        "\n",
        "Calc.add(10,20) # 클래스에서바로 메서드를 호출\n",
        "Calc.mul(10,20) # 클래스에서바로 메서드를 호출"
      ]
    },
    {
      "cell_type": "code",
      "source": [
        "# 클래스 메서드\n",
        "\n",
        "class Person:\n",
        "  count = 0 # 클래스 속성\n",
        "\n",
        "  def __init__(self):\n",
        "    Person.count += 1 # 인스턴스가 만들어질 때, 클래스 속성 countdp 1을 더함\n",
        "\n",
        "  \n",
        "  @classmethod\n",
        "  def print_count(cls):\n",
        "    print('{0}명 생성되었습니다.'.format(cls.count)) # cls로 클래스 속성에 접근\n",
        "\n",
        "james = Person()\n",
        "maria = Person()\n",
        "\n",
        "Person.print_count()"
      ],
      "metadata": {
        "colab": {
          "base_uri": "https://localhost:8080/"
        },
        "id": "wmLCTbEMl8OE",
        "outputId": "e15c273b-b567-4cbb-b066-fbd2226b90a6"
      },
      "execution_count": 6,
      "outputs": [
        {
          "output_type": "stream",
          "name": "stdout",
          "text": [
            "2명 생성되었습니다.\n"
          ]
        }
      ]
    },
    {
      "cell_type": "code",
      "source": [
        "# 상속\n",
        "\n",
        "class Person:\n",
        "  def greeting(self):\n",
        "    print('안녕하세요.')\n",
        "\n",
        "\n",
        "class Student(Person):\n",
        "  def study(self):\n",
        "    print('공부하기')\n",
        "\n",
        "james = Student() \n",
        "\n",
        "james.greeting() # 기반 클래스 Person의 메소드 호출\n",
        "\n",
        "james.study() # 파생 클래스 Student에 추가한 studey 메소드\n"
      ],
      "metadata": {
        "colab": {
          "base_uri": "https://localhost:8080/"
        },
        "id": "vEYQ6g8RotPE",
        "outputId": "af1709c0-056a-43f6-fbd1-0f92afdb303c"
      },
      "execution_count": 10,
      "outputs": [
        {
          "output_type": "stream",
          "name": "stdout",
          "text": [
            "안녕하세요.\n",
            "공부하기\n"
          ]
        }
      ]
    },
    {
      "cell_type": "code",
      "source": [
        "# 상속 - super()\n",
        "\n",
        "class Person:\n",
        "  def __init__(self):\n",
        "    print('Person __init__')\n",
        "    self.hello = '안녕하세요.'\n",
        "\n",
        "class Student(Person):\n",
        "  def __init__(self):\n",
        "    print('Student __init__')\n",
        "    self.school = '단국대학교!'\n",
        "\n",
        "james = Student()\n",
        "\n",
        "print(james.school)\n",
        "print(james.hello) # 기반 클래스의 속성을 출력하려고 하면 에러 발생 -> person을 상속받았다고 해서 슈퍼클래스의 초기화까지 발생하지는 않는다"
      ],
      "metadata": {
        "colab": {
          "base_uri": "https://localhost:8080/",
          "height": 236
        },
        "id": "R6G4bKaVpiYb",
        "outputId": "913161a8-3fe3-4cc6-d871-6dc3a76dd3f0"
      },
      "execution_count": 12,
      "outputs": [
        {
          "output_type": "stream",
          "name": "stdout",
          "text": [
            "Student __init__\n",
            "단국대학교!\n"
          ]
        },
        {
          "output_type": "error",
          "ename": "AttributeError",
          "evalue": "ignored",
          "traceback": [
            "\u001b[0;31m---------------------------------------------------------------------------\u001b[0m",
            "\u001b[0;31mAttributeError\u001b[0m                            Traceback (most recent call last)",
            "\u001b[0;32m<ipython-input-12-002d8ce81f1c>\u001b[0m in \u001b[0;36m<module>\u001b[0;34m()\u001b[0m\n\u001b[1;32m     14\u001b[0m \u001b[0;34m\u001b[0m\u001b[0m\n\u001b[1;32m     15\u001b[0m \u001b[0mprint\u001b[0m\u001b[0;34m(\u001b[0m\u001b[0mjames\u001b[0m\u001b[0;34m.\u001b[0m\u001b[0mschool\u001b[0m\u001b[0;34m)\u001b[0m\u001b[0;34m\u001b[0m\u001b[0;34m\u001b[0m\u001b[0m\n\u001b[0;32m---> 16\u001b[0;31m \u001b[0mprint\u001b[0m\u001b[0;34m(\u001b[0m\u001b[0mjames\u001b[0m\u001b[0;34m.\u001b[0m\u001b[0mhello\u001b[0m\u001b[0;34m)\u001b[0m\u001b[0;34m\u001b[0m\u001b[0;34m\u001b[0m\u001b[0m\n\u001b[0m",
            "\u001b[0;31mAttributeError\u001b[0m: 'Student' object has no attribute 'hello'"
          ]
        }
      ]
    },
    {
      "cell_type": "code",
      "source": [
        "# 상속 - super()\n",
        "\n",
        "class Person:\n",
        "  def __init__(self):\n",
        "    print('Person __init__')\n",
        "    self.hello = '안녕하세요.'\n",
        "\n",
        "class Student(Person):\n",
        "  def __init__(self):\n",
        "    print('Student __init__')\n",
        "    super().__init__() # super()로 부모 클래스의 __init__메서드 호출\n",
        "                       # 둘다 초기화할 때는, 자식클래스에서만 초기화가 되기 때문에\n",
        "    self.school = '단국대학교!'\n",
        "\n",
        "james = Student()\n",
        "\n",
        "print(james.school)\n",
        "print(james.hello)"
      ],
      "metadata": {
        "colab": {
          "base_uri": "https://localhost:8080/"
        },
        "id": "55hihMDMqTNQ",
        "outputId": "bb114191-84ba-41b2-e3ac-c083db086e0d"
      },
      "execution_count": 15,
      "outputs": [
        {
          "output_type": "stream",
          "name": "stdout",
          "text": [
            "Student __init__\n",
            "Person __init__\n",
            "단국대학교!\n",
            "안녕하세요.\n"
          ]
        }
      ]
    },
    {
      "cell_type": "code",
      "source": [
        "# 상속\n",
        "# 파생클래스에서 초기화를 진행하지 않은 경우\n",
        "# 슈퍼클래스에서 자동으로 초기화가 진행된다.\n",
        "class Person:\n",
        "  def __init__(self):\n",
        "    print('Person __init__')\n",
        "    self.hello = '안녕하세요.'\n",
        "\n",
        "class Student(Person):\n",
        "  pass\n",
        "\n",
        "\n",
        "james = Student()\n",
        "print(james.hello)\n",
        "james.hello"
      ],
      "metadata": {
        "colab": {
          "base_uri": "https://localhost:8080/",
          "height": 70
        },
        "id": "JimjjAF8q3HW",
        "outputId": "f389a452-1269-4a87-d7b6-9d80f7fb1bbf"
      },
      "execution_count": 19,
      "outputs": [
        {
          "output_type": "stream",
          "name": "stdout",
          "text": [
            "Person __init__\n",
            "안녕하세요.\n"
          ]
        },
        {
          "output_type": "execute_result",
          "data": {
            "application/vnd.google.colaboratory.intrinsic+json": {
              "type": "string"
            },
            "text/plain": [
              "'안녕하세요.'"
            ]
          },
          "metadata": {},
          "execution_count": 19
        }
      ]
    },
    {
      "cell_type": "code",
      "source": [
        "# 메소드 오버라이딩\n",
        "# 메소드가 겹칠때는 자식부터\n",
        "class Person:\n",
        "  def greeting(self):\n",
        "    print('안녕하세요.')\n",
        "\n",
        "class Student(Person):\n",
        "  def greeting(self):\n",
        "    print('안녕하세요. 저는 단국대학교 학생입니다.')\n",
        "\n",
        "james = Student()\n",
        "\n",
        "james.greeting() "
      ],
      "metadata": {
        "colab": {
          "base_uri": "https://localhost:8080/"
        },
        "id": "hdMQV4oNrjkK",
        "outputId": "667a56a2-3887-4931-fe0b-6a3a53b65eae"
      },
      "execution_count": 20,
      "outputs": [
        {
          "output_type": "stream",
          "name": "stdout",
          "text": [
            "안녕하세요. 저는 단국대학교 학생입니다.\n"
          ]
        }
      ]
    },
    {
      "cell_type": "code",
      "source": [
        "class Person:\n",
        "  def greeting(self):\n",
        "    print('안녕하세요.')\n",
        "\n",
        "class Student(Person):\n",
        "  def greeting(self):\n",
        "    super().greeting() # 기반 클래스의 메서드 호출하여 중복을 줄임\n",
        "    print('안녕하세요. 저는 단국대학교 학생입니다.')\n",
        "\n",
        "james = Student()\n",
        "james.greeting()"
      ],
      "metadata": {
        "colab": {
          "base_uri": "https://localhost:8080/"
        },
        "id": "amSVzJAsr-VS",
        "outputId": "6ea954c1-6b2e-428e-b166-eff8636090dc"
      },
      "execution_count": 22,
      "outputs": [
        {
          "output_type": "stream",
          "name": "stdout",
          "text": [
            "안녕하세요.\n",
            "안녕하세요. 저는 단국대학교 학생입니다.\n"
          ]
        }
      ]
    }
  ]
}