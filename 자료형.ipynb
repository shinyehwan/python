{
  "nbformat": 4,
  "nbformat_minor": 0,
  "metadata": {
    "colab": {
      "name": "자료형",
      "provenance": [],
      "authorship_tag": "ABX9TyPJgyrAu6GzHs/hxTslq6ho",
      "include_colab_link": true
    },
    "kernelspec": {
      "name": "python3",
      "display_name": "Python 3"
    },
    "language_info": {
      "name": "python"
    }
  },
  "cells": [
    {
      "cell_type": "markdown",
      "metadata": {
        "id": "view-in-github",
        "colab_type": "text"
      },
      "source": [
        "<a href=\"https://colab.research.google.com/github/shinyehwan/python_basic/blob/main/%EC%9E%90%EB%A3%8C%ED%98%95.ipynb\" target=\"_parent\"><img src=\"https://colab.research.google.com/assets/colab-badge.svg\" alt=\"Open In Colab\"/></a>"
      ]
    },
    {
      "cell_type": "code",
      "execution_count": null,
      "metadata": {
        "colab": {
          "base_uri": "https://localhost:8080/"
        },
        "id": "ZDJc67AsGjQN",
        "outputId": "081eb5e9-b088-45b5-933c-67e5295182b5"
      },
      "outputs": [
        {
          "output_type": "stream",
          "name": "stdout",
          "text": [
            "1000000000.0\n",
            "752.5\n",
            "3.954\n",
            "0.8999999999999999\n",
            "False\n",
            "0.9\n",
            "True\n"
          ]
        }
      ],
      "source": [
        "# 10억의 지수 표현 방식\n",
        "a = 1e9\n",
        "print(a)\n",
        "\n",
        "\n",
        "# 752.5\n",
        "a = 75.25e1\n",
        "print(a)\n",
        "\n",
        "#3.954\n",
        "a = 3954e-3\n",
        "print(a)\n",
        "\n",
        "#컴퓨터가 실수를 정확히 표현하지 못한다\n",
        "a = 0.3 + 0.6\n",
        "print(a)\n",
        "if a == 0.9 :\n",
        "  print(True)\n",
        "else:\n",
        "  print(False)\n",
        "\n",
        "# round\n",
        "\n",
        "a = 0.3 + 0.6\n",
        "print(round(a, 4))\n",
        "\n",
        "if round(a,4) == 0.9:\n",
        "  print(True)\n",
        "else:\n",
        "  print(False)"
      ]
    },
    {
      "cell_type": "code",
      "source": [
        "a=7\n",
        "b=3\n",
        "\n",
        "# 나누기\n",
        "print(a/b)\n",
        "\n",
        "# 나머지\n",
        "print(a%b)\n",
        "\n",
        "# 몫\n",
        "print(a//b)\n",
        "\n",
        "# 거듭제곱 연산자\n",
        "print(a**b)"
      ],
      "metadata": {
        "colab": {
          "base_uri": "https://localhost:8080/"
        },
        "id": "z5ShWFP6KTO9",
        "outputId": "a10c6ef6-77fa-44ef-c6f1-b5b434f23a96"
      },
      "execution_count": null,
      "outputs": [
        {
          "output_type": "stream",
          "name": "stdout",
          "text": [
            "2.3333333333333335\n",
            "1\n",
            "2\n",
            "343\n"
          ]
        }
      ]
    },
    {
      "cell_type": "code",
      "source": [
        "# 리스트 자료형\n",
        "# 리스트 만들기\n",
        "\n",
        "a = [1,2,3,4,5,6,7,8,9]\n",
        "print(a)\n",
        "\n",
        "print(a[4])\n",
        "\n",
        "# 빈 리스트 선언 방법\n",
        "\n",
        "a = list()\n",
        "print(a)\n",
        "\n",
        "a = []\n",
        "print(a)\n",
        "\n",
        "# 크기가 N이고, 모든 값이 0인 1차원 리스트 초기화\n",
        "n = 10\n",
        "a=[0] * 10\n",
        "print(a)"
      ],
      "metadata": {
        "id": "m4zCRCsFx1Ys",
        "colab": {
          "base_uri": "https://localhost:8080/"
        },
        "outputId": "d224e54c-718c-4ae2-fd59-feefba21babb"
      },
      "execution_count": null,
      "outputs": [
        {
          "output_type": "stream",
          "name": "stdout",
          "text": [
            "[1, 2, 3, 4, 5, 6, 7, 8, 9]\n",
            "5\n",
            "[]\n",
            "[]\n",
            "[0, 0, 0, 0, 0, 0, 0, 0, 0, 0]\n"
          ]
        }
      ]
    },
    {
      "cell_type": "code",
      "source": [
        "# 리스트 인덱싱과 슬라이싱\n",
        "# 특정원소에 접근하는 것 -> 인덱싱\n",
        "\n",
        "a = [1,2,3,4,5,6,7,8,9]\n",
        "# 뒤에서 첫번째 원소 출력\n",
        "print(a[-1])\n",
        "\n",
        "# 뒤에서 세번재 원소 출력\n",
        "print(a[-3])\n",
        "\n",
        "# 네번째 원소 값 변경\n",
        "a[3]=7\n",
        "print(a)\n",
        "\n",
        "# 리스트에서 연속적인 위치를 갖는 원소를 가져온다 -> 슬라이싱\n",
        "\n",
        "# 두 번째 원소부터 네 번째 원소까지 -> 끝 인덱스의 경우 1을 뺀 값의 인덱스까지 처리\n",
        "print(a[1:4])"
      ],
      "metadata": {
        "colab": {
          "base_uri": "https://localhost:8080/"
        },
        "id": "ksa-qaW-Bqn_",
        "outputId": "e8262468-8664-4127-e904-a1b9655511ac"
      },
      "execution_count": null,
      "outputs": [
        {
          "output_type": "stream",
          "name": "stdout",
          "text": [
            "9\n",
            "7\n",
            "[1, 2, 3, 7, 5, 6, 7, 8, 9]\n",
            "[2, 3, 7]\n"
          ]
        }
      ]
    },
    {
      "cell_type": "code",
      "source": [
        "# 리스트 컴프리헨션 -> 초기화\n",
        "# 0부터 19까지의 수 중에서 홀수만 포함하는 리스트\n",
        "\n",
        "array = [i for i in range(20) if i % 2 == 1]\n",
        "print(array)\n",
        "\n",
        "# array=[]\n",
        "# for i in range(20):\n",
        "#   if i % 2 == 1:\n",
        "#     array.append(i)\n",
        "# print(array)\n",
        "\n",
        "# 1부터 9까지의 수의 제곱 값을 포함하는 리스트\n",
        "array = [i*i for i in range(1,10)]\n",
        "print(array)\n",
        "\n",
        "\n",
        "# N X M 크기의 2차원 리스트 초기화\n",
        "n=3\n",
        "m=4\n",
        "array = [[0]*m for _ in range(n)]\n",
        "print(array)\n",
        "\n",
        "# N X M 크기의 2차원 리스트 초기화(잘못된 방법)\n",
        "n=3\n",
        "m=4\n",
        "array = [[0]*m]*n\n",
        "print(array)\n",
        "\n",
        "array[1][1]=5\n",
        "print(array) # 내부적으로 포함된 3개의 리스트가 모두 동일한 객체에 대한 3개의 레퍼런스로 인식되기 때문이다"
      ],
      "metadata": {
        "colab": {
          "base_uri": "https://localhost:8080/"
        },
        "id": "NL8wr8GQCvDy",
        "outputId": "feb1ce27-ae61-4e47-c6ad-041968fdae2e"
      },
      "execution_count": null,
      "outputs": [
        {
          "output_type": "stream",
          "name": "stdout",
          "text": [
            "[1, 3, 5, 7, 9, 11, 13, 15, 17, 19]\n",
            "[1, 4, 9, 16, 25, 36, 49, 64, 81]\n",
            "[[0, 0, 0, 0], [0, 0, 0, 0], [0, 0, 0, 0]]\n",
            "[[0, 0, 0, 0], [0, 0, 0, 0], [0, 0, 0, 0]]\n",
            "[[0, 5, 0, 0], [0, 5, 0, 0], [0, 5, 0, 0]]\n"
          ]
        }
      ]
    },
    {
      "cell_type": "code",
      "source": [
        "# 리스트 관련 기타 메서드\n",
        "\n",
        "a = [1,4,3]\n",
        "print(\"기본 리스트 : \", a)\n",
        "\n",
        "# 리스트에 원소 삽입\n",
        "a.append(2)\n",
        "print(\"삽입 : \", a)\n",
        "\n",
        "# 오름차순 정렬\n",
        "a.sort()\n",
        "print(\"오름차순 : \", a)\n",
        "\n",
        "# 내림차순 정렬\n",
        "a.sort(reverse = True)\n",
        "print(\"내림차순 : \", a)\n",
        "\n",
        "# 리스트 원소 뒤집기\n",
        "a.reverse()\n",
        "print(\"원소 뒤집기 : \", a)\n",
        "\n",
        "# 특정 인덱스에 데이터 추가\n",
        "a.insert(2,3)\n",
        "print(\"인덱스 2에 3 추가 : \", a)\n",
        "\n",
        "# 특정 값인 데이터 개수 세기\n",
        "print(\"값이 3인 데이터 개수 : \", a.count(3))\n",
        "\n",
        "# 특정 값 데이터 삭제\n",
        "a.remove(1)\n",
        "print(\"값이 1인 데이터 삭제 : \", a)\n",
        "\n",
        "# remove\n",
        "a = [1,2,3,4,5,5,5]\n",
        "remove_set = {3,5}\n",
        "# remove_set에 포함되지 않은 값만을 저장\n",
        "result = [i for i in a if i not in remove_set]\n",
        "print(result)"
      ],
      "metadata": {
        "colab": {
          "base_uri": "https://localhost:8080/"
        },
        "id": "vIFt1iYkGObn",
        "outputId": "1f2a10dc-2c93-466e-8f29-99ce1bdb5bcf"
      },
      "execution_count": null,
      "outputs": [
        {
          "output_type": "stream",
          "name": "stdout",
          "text": [
            "기본 리스트 :  [1, 4, 3]\n",
            "삽입 :  [1, 4, 3, 2]\n",
            "오름차순 :  [1, 2, 3, 4]\n",
            "내림차순 :  [4, 3, 2, 1]\n",
            "원소 뒤집기 :  [1, 2, 3, 4]\n",
            "인덱스 2에 3 추가 :  [1, 2, 3, 3, 4]\n",
            "값이 3인 데이터 개수 :  2\n",
            "값이 1인 데이터 삭제 :  [2, 3, 3, 4]\n",
            "[1, 2, 4]\n"
          ]
        }
      ]
    }
  ]
}