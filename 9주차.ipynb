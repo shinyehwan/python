{
  "nbformat": 4,
  "nbformat_minor": 0,
  "metadata": {
    "colab": {
      "name": "9주차.ipynb",
      "provenance": [],
      "authorship_tag": "ABX9TyNRRNNG2t3d7Kk53sRNxuZa",
      "include_colab_link": true
    },
    "kernelspec": {
      "name": "python3",
      "display_name": "Python 3"
    },
    "language_info": {
      "name": "python"
    }
  },
  "cells": [
    {
      "cell_type": "markdown",
      "metadata": {
        "id": "view-in-github",
        "colab_type": "text"
      },
      "source": [
        "<a href=\"https://colab.research.google.com/github/shinyehwan/python_basic/blob/main/9%EC%A3%BC%EC%B0%A8.ipynb\" target=\"_parent\"><img src=\"https://colab.research.google.com/assets/colab-badge.svg\" alt=\"Open In Colab\"/></a>"
      ]
    },
    {
      "cell_type": "code",
      "execution_count": 3,
      "metadata": {
        "colab": {
          "base_uri": "https://localhost:8080/"
        },
        "id": "xbMZVUpedjBk",
        "outputId": "25f9407b-587d-4f65-e6d8-b9a8ed0dd061"
      },
      "outputs": [
        {
          "output_type": "stream",
          "name": "stdout",
          "text": [
            "이름:  홍길동\n",
            "나이:  30\n",
            "주소:  용인시\n",
            "이름:  홍길동\n",
            "나이:  30\n",
            "주소:  용인시\n",
            "이름:  name\n",
            "나이:  age\n",
            "주소:  address\n"
          ]
        }
      ],
      "source": [
        "# 함수(가변 인수 함수, 매개변수 활용)\n",
        "# 재귀함수\n",
        "\n",
        "# 가변 인수를 받는 함수\n",
        "\n",
        "def personal_info(name, age, address):\n",
        "  print('이름: ', name)\n",
        "  print('나이: ', age)\n",
        "  print('주소: ', address)\n",
        "\n",
        "personal_info(\"홍길동\", 30, \"용인시\")\n",
        "\n",
        "info = {'name': '홍길동', 'age': 30, 'address' : '용인시'}\n",
        "\n",
        "personal_info(**info)\n",
        "personal_info(*info)"
      ]
    },
    {
      "cell_type": "code",
      "source": [
        "def personal_info(**kwargs):\n",
        "  for kw, arg in kwargs.items():\n",
        "    print(kw, ': ',arg, sep='')\n",
        "\n",
        "personal_info(name='홍길동')\n",
        "\n",
        "personal_info(name='홍길동', age=30, address='용인시')\n",
        "\n",
        "x={'name':'홍길동'}\n",
        "personal_info(**x)\n",
        "\n",
        "y={'name': '홍길동', 'age' : 30, 'address' : '용인시'}\n",
        "personal_info(**y)"
      ],
      "metadata": {
        "colab": {
          "base_uri": "https://localhost:8080/"
        },
        "id": "yqnCucrXem_b",
        "outputId": "11ec5f73-169a-4530-8841-a4ee210c4d40"
      },
      "execution_count": 8,
      "outputs": [
        {
          "output_type": "stream",
          "name": "stdout",
          "text": [
            "name: 홍길동\n",
            "name: 홍길동\n",
            "age: 30\n",
            "address: 용인시\n",
            "name: 홍길동\n",
            "name: 홍길동\n",
            "age: 30\n",
            "address: 용인시\n"
          ]
        }
      ]
    },
    {
      "cell_type": "code",
      "source": [
        "# 재귀함수\n",
        "\n",
        "# def hello():\n",
        "#   print(\"hello, world!\")\n",
        "#   hello()\n",
        "\n",
        "# hello()\n",
        "\n",
        "\n",
        "def hello(count):\n",
        "  if count == 0:\n",
        "    return\n",
        "  print('Hello, world!', count)\n",
        "  count-=1\n",
        "  hello(count)\n",
        "\n",
        "hello(5)"
      ],
      "metadata": {
        "colab": {
          "base_uri": "https://localhost:8080/"
        },
        "id": "d6hQ3gy2flhZ",
        "outputId": "2cef6da3-deab-4424-e78b-0c465c3997f9"
      },
      "execution_count": 20,
      "outputs": [
        {
          "output_type": "stream",
          "name": "stdout",
          "text": [
            "Hello, world! 5\n",
            "Hello, world! 4\n",
            "Hello, world! 3\n",
            "Hello, world! 2\n",
            "Hello, world! 1\n"
          ]
        }
      ]
    }
  ]
}