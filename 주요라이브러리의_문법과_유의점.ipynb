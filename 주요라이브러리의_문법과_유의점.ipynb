{
  "nbformat": 4,
  "nbformat_minor": 0,
  "metadata": {
    "colab": {
      "name": "주요라이브러리의 문법과 유의점",
      "provenance": [],
      "authorship_tag": "ABX9TyPmWcTYXxNe4RKQAaszUhUa",
      "include_colab_link": true
    },
    "kernelspec": {
      "name": "python3",
      "display_name": "Python 3"
    },
    "language_info": {
      "name": "python"
    }
  },
  "cells": [
    {
      "cell_type": "markdown",
      "metadata": {
        "id": "view-in-github",
        "colab_type": "text"
      },
      "source": [
        "<a href=\"https://colab.research.google.com/github/shinyehwan/python_basic/blob/main/%EC%A3%BC%EC%9A%94%EB%9D%BC%EC%9D%B4%EB%B8%8C%EB%9F%AC%EB%A6%AC%EC%9D%98_%EB%AC%B8%EB%B2%95%EA%B3%BC_%EC%9C%A0%EC%9D%98%EC%A0%90.ipynb\" target=\"_parent\"><img src=\"https://colab.research.google.com/assets/colab-badge.svg\" alt=\"Open In Colab\"/></a>"
      ]
    },
    {
      "cell_type": "code",
      "execution_count": 1,
      "metadata": {
        "colab": {
          "base_uri": "https://localhost:8080/"
        },
        "id": "5YoLoWZsnH_a",
        "outputId": "a5f7cdeb-633f-4c66-adf0-d2dfa6c7b78b"
      },
      "outputs": [
        {
          "output_type": "stream",
          "name": "stdout",
          "text": [
            "15\n"
          ]
        }
      ],
      "source": [
        "# 내장 함수\n",
        "\n",
        "result = sum([1,2,3,4,5])\n",
        "print(result)"
      ]
    },
    {
      "cell_type": "code",
      "source": [
        "result = min(7,3,5,2)\n",
        "print(result)"
      ],
      "metadata": {
        "colab": {
          "base_uri": "https://localhost:8080/"
        },
        "id": "aV7q10kyoy5b",
        "outputId": "5af3f7c2-52a5-4c20-ac1d-5456aab52c34"
      },
      "execution_count": 3,
      "outputs": [
        {
          "output_type": "stream",
          "name": "stdout",
          "text": [
            "2\n"
          ]
        }
      ]
    },
    {
      "cell_type": "code",
      "source": [
        "result = max(6,4,7,2)\n",
        "print(result)"
      ],
      "metadata": {
        "colab": {
          "base_uri": "https://localhost:8080/"
        },
        "id": "IR27vC0vo8XJ",
        "outputId": "84fe7e4f-65b2-4271-904b-b605eb4dcae8"
      },
      "execution_count": 4,
      "outputs": [
        {
          "output_type": "stream",
          "name": "stdout",
          "text": [
            "7\n"
          ]
        }
      ]
    },
    {
      "cell_type": "code",
      "source": [
        "result = eval(\"(3+5)*7\")\n",
        "print(result)"
      ],
      "metadata": {
        "colab": {
          "base_uri": "https://localhost:8080/"
        },
        "id": "HzvqmhaipBhR",
        "outputId": "e3b15658-80af-4779-c7da-7e348165dc58"
      },
      "execution_count": 5,
      "outputs": [
        {
          "output_type": "stream",
          "name": "stdout",
          "text": [
            "56\n"
          ]
        }
      ]
    },
    {
      "cell_type": "code",
      "source": [
        "result=sorted([9,1,8,5,4])\n",
        "print(result)\n",
        "\n",
        "result=sorted([9,1,8,5,4], reverse = True)\n",
        "print(result)"
      ],
      "metadata": {
        "colab": {
          "base_uri": "https://localhost:8080/"
        },
        "id": "KePwEtX8pSmf",
        "outputId": "b3e9dfd0-708a-4223-b61b-f70b60be0b7f"
      },
      "execution_count": 7,
      "outputs": [
        {
          "output_type": "stream",
          "name": "stdout",
          "text": [
            "[1, 4, 5, 8, 9]\n",
            "[9, 8, 5, 4, 1]\n"
          ]
        }
      ]
    },
    {
      "cell_type": "code",
      "source": [
        "result = sorted([('홍길동',35), ('이순신',75), ('아무개',50)], key = lambda x : x[1], reverse=True)\n",
        "print(result)\n",
        "\n",
        "data = [9,1,8,5,4]\n",
        "data.sort()\n",
        "print(data)"
      ],
      "metadata": {
        "colab": {
          "base_uri": "https://localhost:8080/"
        },
        "id": "0IuEhn71pl_I",
        "outputId": "24ea344e-c640-41f1-9edd-9b7d79ca3762"
      },
      "execution_count": 12,
      "outputs": [
        {
          "output_type": "stream",
          "name": "stdout",
          "text": [
            "[('이순신', 75), ('아무개', 50), ('홍길동', 35)]\n",
            "[1, 4, 5, 8, 9]\n"
          ]
        }
      ]
    },
    {
      "cell_type": "code",
      "source": [
        "# itertools\n",
        "\n",
        "#permutations\n",
        "from itertools import permutations\n",
        "\n",
        "data = ['A', 'B', 'C'] #data 준비\n",
        "result = list(permutations(data, 3)) #모든 순열 구하기\n",
        "print(result)\n",
        "\n",
        "#combinations\n",
        "from itertools import combinations\n",
        "\n",
        "data = ['A', 'B', 'C'] #data 준비\n",
        "result = list(combinations(data, 2)) # 2개를 뽑는 모든 조합 구하기\n",
        "print(result)\n",
        "\n",
        "#product\n",
        "from itertools import product\n",
        "\n",
        "data = ['A', 'B', 'C']\n",
        "result = list(product(data,repeat=2)) # 2개를 뽑는 모든 순열 구하기(중복 허용)\n",
        "print(result)\n",
        "\n",
        "#combination_with_replacement\n",
        "from itertools import combinations_with_replacement\n",
        "\n",
        "data = ['A', 'B', 'C']\n",
        "result = list(combinations_with_replacement(data,2))# 두개를 뽑는 모든 조합 구하기(중복 허용)\n",
        "print(result)"
      ],
      "metadata": {
        "colab": {
          "base_uri": "https://localhost:8080/"
        },
        "id": "Pyh9Br_Hqouo",
        "outputId": "422d4113-4482-4af6-f156-a723bdf8da78"
      },
      "execution_count": 20,
      "outputs": [
        {
          "output_type": "stream",
          "name": "stdout",
          "text": [
            "[('A', 'B', 'C'), ('A', 'C', 'B'), ('B', 'A', 'C'), ('B', 'C', 'A'), ('C', 'A', 'B'), ('C', 'B', 'A')]\n",
            "[('A', 'B'), ('A', 'C'), ('B', 'C')]\n",
            "[('A', 'A'), ('A', 'B'), ('A', 'C'), ('B', 'A'), ('B', 'B'), ('B', 'C'), ('C', 'A'), ('C', 'B'), ('C', 'C')]\n",
            "[('A', 'A'), ('A', 'B'), ('A', 'C'), ('B', 'B'), ('B', 'C'), ('C', 'C')]\n"
          ]
        }
      ]
    },
    {
      "cell_type": "code",
      "source": [
        "# heapq\n",
        "# heapq.heappush()\n",
        "# heapq.heappop()\n",
        "\n",
        "import heapq\n",
        "\n",
        "# 최소힙\n",
        "def heapsort(iterable):\n",
        "  h=[]\n",
        "  result=[]\n",
        "  # 모든 원소를 차례대로 힙에 삽입\n",
        "  for value in iterable:\n",
        "    heapq.heappush(h,value)\n",
        "  # 힙에 삽입된 모든 원소를 차례대로 꺼내어 담기\n",
        "  for i in range(len(h)):\n",
        "    result.append(heapq.heappop(h))\n",
        "  return result\n",
        "\n",
        "result = heapsort([1,3,5,7,9,2,4,6,8,0])\n",
        "print(result)\n",
        "\n",
        "# 최대힙\n",
        "\n",
        "def heapsort(iterable):\n",
        "  h=[]\n",
        "  result=[]\n",
        "  # 모든 원소를 차례대로 힙에 삽입\n",
        "  for value in iterable:\n",
        "    heapq.heappush(h,-value)\n",
        "  # 힙에 삽입된 모든 원소를 차례대로 꺼내어 담기\n",
        "  for i in range(len(h)):\n",
        "    result.append(-heapq.heappop(h))\n",
        "  return result\n",
        "\n",
        "result = heapsort([1,3,5,7,9,2,4,6,8,0])\n",
        "print(result)"
      ],
      "metadata": {
        "colab": {
          "base_uri": "https://localhost:8080/"
        },
        "id": "m5YAeQ0ur9FV",
        "outputId": "b92152e2-1bfb-4578-fab4-3e82f5f597d8"
      },
      "execution_count": 22,
      "outputs": [
        {
          "output_type": "stream",
          "name": "stdout",
          "text": [
            "[0, 1, 2, 3, 4, 5, 6, 7, 8, 9]\n",
            "[9, 8, 7, 6, 5, 4, 3, 2, 1, 0]\n"
          ]
        }
      ]
    },
    {
      "cell_type": "code",
      "source": [
        "# bisect\n",
        "# bisect_left(a, x) : 정렬된 순서를 유지하면서 리스트 a에 데이터 x를 삽입할 가장 왼쪽 인덱스를 찾는 메서드\n",
        "# bisect_right(a, x) : 정렬된 순서를 유지하면서 리스트 a에 데이터 x를 삽입할 가장 오른쪽 인덱스를 찾는 메서드\n",
        "\n",
        "from bisect import bisect_left, bisect_right\n",
        "\n",
        "a=[1,2,4,4,8]\n",
        "x=4\n",
        "\n",
        "print(bisect_left(a,x))\n",
        "print(bisect_right(a,x))\n",
        "\n",
        "# 값이 [left_value,right_value]인 데이터의 개수를 반환하는 함수\n",
        "def count_by_range(a, left_value, right_value):\n",
        "  right_index = bisect_right(a, right_value)\n",
        "  left_index =bisect_left(a, left_value)\n",
        "  return right_index - left_index\n",
        "\n",
        "# 리스트 선언\n",
        "a = [1,2,3,3,3,3,4,4,8,9]\n",
        "\n",
        "# 값이 4인 데이터 개수 출력\n",
        "print(count_by_range(a,4,4))\n",
        "\n",
        "# 값이 [-1,3] 범위에 있는 데이터 개수 출력\n",
        "print(count_by_range(a,-1,3))\n"
      ],
      "metadata": {
        "colab": {
          "base_uri": "https://localhost:8080/"
        },
        "id": "Rl9XhESLrbce",
        "outputId": "23bdbda2-545a-41fb-8e51-e63861a416f0"
      },
      "execution_count": 2,
      "outputs": [
        {
          "output_type": "stream",
          "name": "stdout",
          "text": [
            "2\n",
            "4\n",
            "2\n",
            "6\n"
          ]
        }
      ]
    },
    {
      "cell_type": "code",
      "source": [
        "# collections\n",
        "\n",
        "# deque\n",
        "# 첫 번째 원소를 제거 할 때 popleft(), 마지막 원소 제거 pop()\n",
        "# 첫 번째 인덱스에 원소 x를 삽입할 때 appendleft(x), 마지막 인덱스에 원소를 삽입 append(x)\n",
        "\n",
        "\n",
        "from collections import deque\n",
        "\n",
        "data = deque([2,3,4])\n",
        "data.appendleft(1)\n",
        "data.append(5)\n",
        "print(data)\n",
        "print(list(data)) # 리스트 자료형으로 변환\n",
        "\n",
        "# Counter는 등장 횟수를 세는 기능 제공\n",
        "\n",
        "from collections import Counter\n",
        "\n",
        "counter = Counter(['red', 'blue', 'red', 'green', 'blue', 'blue'])\n",
        "print(counter['blue']) # blue가 등장한 횟수 출력\n",
        "print(counter['green']) # green이 등장한 횟수 출력\n",
        "print(dict(counter)) # 사전 자료형으로 변환"
      ],
      "metadata": {
        "colab": {
          "base_uri": "https://localhost:8080/"
        },
        "id": "3spYqB0DvpYd",
        "outputId": "cc2413d4-e1d9-43e2-c14f-6e5895009e6b"
      },
      "execution_count": 5,
      "outputs": [
        {
          "output_type": "stream",
          "name": "stdout",
          "text": [
            "deque([1, 2, 3, 4, 5])\n",
            "[1, 2, 3, 4, 5]\n",
            "3\n",
            "1\n",
            "{'red': 2, 'blue': 3, 'green': 1}\n"
          ]
        }
      ]
    },
    {
      "cell_type": "code",
      "source": [
        "# math\n",
        "\n",
        "import math\n",
        "\n",
        "print(math.factorial(5))\n",
        "\n",
        "print(math.sqrt(7)) # 7의 제곱근\n",
        "\n",
        "print(math.gcd(21,14)) # 최대 공약수\n",
        "\n",
        "print(math.pi)\n",
        "\n",
        "print(math.e)"
      ],
      "metadata": {
        "colab": {
          "base_uri": "https://localhost:8080/"
        },
        "id": "HmnjT1r0zZXc",
        "outputId": "fe32c1d3-4c0d-411e-85d5-a2da62e55013"
      },
      "execution_count": 9,
      "outputs": [
        {
          "output_type": "stream",
          "name": "stdout",
          "text": [
            "120\n",
            "2.6457513110645907\n",
            "7\n",
            "3.141592653589793\n",
            "2.718281828459045\n"
          ]
        }
      ]
    }
  ]
}