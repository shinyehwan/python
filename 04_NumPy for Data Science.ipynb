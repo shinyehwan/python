{
 "cells": [
  {
   "cell_type": "markdown",
   "metadata": {
    "id": "5P8gRUXXaklN"
   },
   "source": [
    "# Numpy"
   ]
  },
  {
   "cell_type": "markdown",
   "metadata": {
    "id": "hSyWbVXHabtI"
   },
   "source": [
    "## Numpy의 특징"
   ]
  },
  {
   "cell_type": "markdown",
   "metadata": {
    "id": "o0rOyWAhappE"
   },
   "source": [
    "- 수치 데이터를 다루기 위한 라이브러리\n",
    "\n",
    "- 다차원 배열(ndarray)을 지원하며, 배열의 모든 요소는 동일한 데이터 타입이어야 한다.\n",
    "\n",
    "- 파이썬의 List에 비해 속도가 빠르고, 훨씬 더 효율적이다.\n",
    "\n",
    "- [broadcasting](https://numpy.org/doc/stable/user/basics.broadcasting.html)을 지원해서 반복문 없이 데이터를 빠르고 편리하게 처리할 수 있다.\n",
    "\n",
    "[참고링크] -> [Numpy github 사이트](https://github.com/numpy/numpy)"
   ]
  },
  {
   "cell_type": "markdown",
   "metadata": {
    "id": "8aYH4ogEia7a"
   },
   "source": [
    "## Numpy 라이브러리 임포트"
   ]
  },
  {
   "cell_type": "code",
   "execution_count": 2,
   "metadata": {
    "ExecuteTime": {
     "end_time": "2021-03-31T01:31:39.567628Z",
     "start_time": "2021-03-31T01:31:39.558597Z"
    },
    "executionInfo": {
     "elapsed": 1048,
     "status": "ok",
     "timestamp": 1615398790417,
     "user": {
      "displayName": "L.A.K",
      "photoUrl": "https://lh3.googleusercontent.com/a-/AOh14GjwuaaIJMBxd-C-hVJfn1aom04Ryk7Wt0sM-t03=s64",
      "userId": "04026815740573691214"
     },
     "user_tz": -540
    },
    "id": "iO6kO9iqimUa"
   },
   "outputs": [],
   "source": [
    "import numpy as np # numpy 라이브러리를 임포트할 때, np로 별명을 지정해서 사용한다."
   ]
  },
  {
   "cell_type": "code",
   "execution_count": 4,
   "metadata": {
    "ExecuteTime": {
     "end_time": "2021-03-31T01:32:03.460481Z",
     "start_time": "2021-03-31T01:32:03.439481Z"
    }
   },
   "outputs": [
    {
     "data": {
      "text/plain": [
       "'1.18.1'"
      ]
     },
     "execution_count": 4,
     "metadata": {},
     "output_type": "execute_result"
    }
   ],
   "source": [
    "np.__version__"
   ]
  },
  {
   "cell_type": "code",
   "execution_count": 1,
   "metadata": {
    "ExecuteTime": {
     "end_time": "2021-03-31T01:30:25.910178Z",
     "start_time": "2021-03-31T01:30:25.892336Z"
    },
    "colab": {
     "base_uri": "https://localhost:8080/"
    },
    "executionInfo": {
     "elapsed": 1899,
     "status": "ok",
     "timestamp": 1615398791276,
     "user": {
      "displayName": "L.A.K",
      "photoUrl": "https://lh3.googleusercontent.com/a-/AOh14GjwuaaIJMBxd-C-hVJfn1aom04Ryk7Wt0sM-t03=s64",
      "userId": "04026815740573691214"
     },
     "user_tz": -540
    },
    "id": "C7uB6DmGXvmm",
    "outputId": "0aa0a239-f954-4051-8c57-7561ff13b6c2"
   },
   "outputs": [
    {
     "name": "stdout",
     "output_type": "stream",
     "text": [
      "Help on getset descriptor numpy.ndarray.dtype:\n",
      "\n",
      "dtype\n",
      "    Data-type of the array's elements.\n",
      "    \n",
      "    Parameters\n",
      "    ----------\n",
      "    None\n",
      "    \n",
      "    Returns\n",
      "    -------\n",
      "    d : numpy dtype object\n",
      "    \n",
      "    See Also\n",
      "    --------\n",
      "    numpy.dtype\n",
      "    \n",
      "    Examples\n",
      "    --------\n",
      "    >>> x\n",
      "    array([[0, 1],\n",
      "           [2, 3]])\n",
      "    >>> x.dtype\n",
      "    dtype('int32')\n",
      "    >>> type(x.dtype)\n",
      "    <type 'numpy.dtype'>\n",
      "\n"
     ]
    }
   ],
   "source": [
    "# 함수를 어떻게 사용했는지 기억이 안날 때,\n",
    "# 인터넷에 검색해서 사용방법을 알아낼 수 있지만,\n",
    "# help()를 이용해서 함수의 사용방법을 알 수 있다.\n",
    "\n",
    "help(np.ndarray.dtype)"
   ]
  },
  {
   "cell_type": "markdown",
   "metadata": {
    "id": "HHajMK_ei7BM"
   },
   "source": [
    "## Numpy의 배열, ndarray object"
   ]
  },
  {
   "cell_type": "markdown",
   "metadata": {},
   "source": [
    "### 1D array 또는 (column)vector "
   ]
  },
  {
   "cell_type": "code",
   "execution_count": 3,
   "metadata": {
    "colab": {
     "base_uri": "https://localhost:8080/"
    },
    "executionInfo": {
     "elapsed": 1892,
     "status": "ok",
     "timestamp": 1615398791276,
     "user": {
      "displayName": "L.A.K",
      "photoUrl": "https://lh3.googleusercontent.com/a-/AOh14GjwuaaIJMBxd-C-hVJfn1aom04Ryk7Wt0sM-t03=s64",
      "userId": "04026815740573691214"
     },
     "user_tz": -540
    },
    "id": "08Euix_GkHs1",
    "outputId": "932f9fb2-556e-478b-b6b0-46fc5e15c5b5"
   },
   "outputs": [
    {
     "data": {
      "text/plain": [
       "array([ 1.,  2.,  3.,  4.,  5.,  6.,  7.,  8.,  9., 10., 11., 12.],\n",
       "      dtype=float32)"
      ]
     },
     "execution_count": 3,
     "metadata": {
      "tags": []
     },
     "output_type": "execute_result"
    }
   ],
   "source": [
    "np.array([1, 2, 3, 4, 5, 6, 7, 8, 9, 10, 11, 12], dtype = np.float32)"
   ]
  },
  {
   "cell_type": "markdown",
   "metadata": {},
   "source": [
    "### 2D array 또는 matrix"
   ]
  },
  {
   "cell_type": "code",
   "execution_count": 4,
   "metadata": {
    "colab": {
     "base_uri": "https://localhost:8080/"
    },
    "executionInfo": {
     "elapsed": 1886,
     "status": "ok",
     "timestamp": 1615398791277,
     "user": {
      "displayName": "L.A.K",
      "photoUrl": "https://lh3.googleusercontent.com/a-/AOh14GjwuaaIJMBxd-C-hVJfn1aom04Ryk7Wt0sM-t03=s64",
      "userId": "04026815740573691214"
     },
     "user_tz": -540
    },
    "id": "1J1j1DJekaS7",
    "outputId": "a1e4ab89-2273-4432-8997-6196ab5338f8"
   },
   "outputs": [
    {
     "data": {
      "text/plain": [
       "array([[ 1.,  2.,  3.,  4.],\n",
       "       [ 5.,  6.,  7.,  8.],\n",
       "       [ 9., 10., 11., 12.]], dtype=float32)"
      ]
     },
     "execution_count": 4,
     "metadata": {
      "tags": []
     },
     "output_type": "execute_result"
    }
   ],
   "source": [
    "np.array([[1, 2, 3, 4], \n",
    "          [5, 6, 7, 8],\n",
    "          [9, 10, 11, 12]], dtype = np.float32)"
   ]
  },
  {
   "cell_type": "markdown",
   "metadata": {},
   "source": [
    "### 3D array 또는 tensor"
   ]
  },
  {
   "cell_type": "code",
   "execution_count": 5,
   "metadata": {
    "colab": {
     "base_uri": "https://localhost:8080/"
    },
    "executionInfo": {
     "elapsed": 1878,
     "status": "ok",
     "timestamp": 1615398791277,
     "user": {
      "displayName": "L.A.K",
      "photoUrl": "https://lh3.googleusercontent.com/a-/AOh14GjwuaaIJMBxd-C-hVJfn1aom04Ryk7Wt0sM-t03=s64",
      "userId": "04026815740573691214"
     },
     "user_tz": -540
    },
    "id": "CYajbfw-lCku",
    "outputId": "d77b7eed-8c77-46e8-a2f3-8f84c45108ea"
   },
   "outputs": [
    {
     "data": {
      "text/plain": [
       "array([[[ 1.,  2.],\n",
       "        [ 3.,  4.],\n",
       "        [ 5.,  6.]],\n",
       "\n",
       "       [[ 7.,  8.],\n",
       "        [ 9., 10.],\n",
       "        [11., 12.]]], dtype=float32)"
      ]
     },
     "execution_count": 5,
     "metadata": {
      "tags": []
     },
     "output_type": "execute_result"
    }
   ],
   "source": [
    "np.array([[[1, 2],\n",
    "           [3, 4],\n",
    "           [5, 6]],\n",
    "          [[7, 8],\n",
    "           [9, 10],\n",
    "           [11, 12]]], dtype = np.float32)"
   ]
  },
  {
   "cell_type": "markdown",
   "metadata": {
    "id": "4xt0-aJst1en"
   },
   "source": [
    "## Numpy의 데이터 타입"
   ]
  },
  {
   "cell_type": "markdown",
   "metadata": {
    "id": "ivRZ_xkYunX0"
   },
   "source": [
    "Numpy의 데이터 타입은 C에서 사용되는 데이터 타입과 유사하다. 거기에 추가적으로 복소수 타입도 지원을 한다."
   ]
  },
  {
   "cell_type": "code",
   "execution_count": 6,
   "metadata": {
    "colab": {
     "base_uri": "https://localhost:8080/"
    },
    "executionInfo": {
     "elapsed": 1872,
     "status": "ok",
     "timestamp": 1615398791278,
     "user": {
      "displayName": "L.A.K",
      "photoUrl": "https://lh3.googleusercontent.com/a-/AOh14GjwuaaIJMBxd-C-hVJfn1aom04Ryk7Wt0sM-t03=s64",
      "userId": "04026815740573691214"
     },
     "user_tz": -540
    },
    "id": "KE6epm5iuPkn",
    "outputId": "b20c5d7c-fab4-46de-898f-baab29ec4912"
   },
   "outputs": [
    {
     "data": {
      "text/plain": [
       "numpy.int64"
      ]
     },
     "execution_count": 6,
     "metadata": {
      "tags": []
     },
     "output_type": "execute_result"
    }
   ],
   "source": [
    "np.int64 # Signed 64-bit integer types"
   ]
  },
  {
   "cell_type": "code",
   "execution_count": 7,
   "metadata": {
    "colab": {
     "base_uri": "https://localhost:8080/"
    },
    "executionInfo": {
     "elapsed": 1865,
     "status": "ok",
     "timestamp": 1615398791278,
     "user": {
      "displayName": "L.A.K",
      "photoUrl": "https://lh3.googleusercontent.com/a-/AOh14GjwuaaIJMBxd-C-hVJfn1aom04Ryk7Wt0sM-t03=s64",
      "userId": "04026815740573691214"
     },
     "user_tz": -540
    },
    "id": "TQJ8cL0lvCqD",
    "outputId": "0617f5e1-99d1-487f-f208-2b4d1876bc1b"
   },
   "outputs": [
    {
     "data": {
      "text/plain": [
       "numpy.float32"
      ]
     },
     "execution_count": 7,
     "metadata": {
      "tags": []
     },
     "output_type": "execute_result"
    }
   ],
   "source": [
    "np.float32 # Standard double-precision floating point"
   ]
  },
  {
   "cell_type": "code",
   "execution_count": 8,
   "metadata": {
    "colab": {
     "base_uri": "https://localhost:8080/"
    },
    "executionInfo": {
     "elapsed": 1859,
     "status": "ok",
     "timestamp": 1615398791279,
     "user": {
      "displayName": "L.A.K",
      "photoUrl": "https://lh3.googleusercontent.com/a-/AOh14GjwuaaIJMBxd-C-hVJfn1aom04Ryk7Wt0sM-t03=s64",
      "userId": "04026815740573691214"
     },
     "user_tz": -540
    },
    "id": "pJ7UoB_JvCnD",
    "outputId": "6473aa8f-4988-4089-e86b-a91402f8cd82"
   },
   "outputs": [
    {
     "data": {
      "text/plain": [
       "complex"
      ]
     },
     "execution_count": 8,
     "metadata": {
      "tags": []
     },
     "output_type": "execute_result"
    }
   ],
   "source": [
    "np.complex # Complex numbers represented by 128 floats"
   ]
  },
  {
   "cell_type": "code",
   "execution_count": 9,
   "metadata": {
    "colab": {
     "base_uri": "https://localhost:8080/"
    },
    "executionInfo": {
     "elapsed": 1851,
     "status": "ok",
     "timestamp": 1615398791279,
     "user": {
      "displayName": "L.A.K",
      "photoUrl": "https://lh3.googleusercontent.com/a-/AOh14GjwuaaIJMBxd-C-hVJfn1aom04Ryk7Wt0sM-t03=s64",
      "userId": "04026815740573691214"
     },
     "user_tz": -540
    },
    "id": "sW5G_SpwvCkt",
    "outputId": "38eeb269-ba8a-4807-cfaf-cdcc62334531"
   },
   "outputs": [
    {
     "data": {
      "text/plain": [
       "bool"
      ]
     },
     "execution_count": 9,
     "metadata": {
      "tags": []
     },
     "output_type": "execute_result"
    }
   ],
   "source": [
    "np.bool # Boolean type storing TRUE and FALSE values"
   ]
  },
  {
   "cell_type": "code",
   "execution_count": 10,
   "metadata": {
    "colab": {
     "base_uri": "https://localhost:8080/"
    },
    "executionInfo": {
     "elapsed": 1844,
     "status": "ok",
     "timestamp": 1615398791279,
     "user": {
      "displayName": "L.A.K",
      "photoUrl": "https://lh3.googleusercontent.com/a-/AOh14GjwuaaIJMBxd-C-hVJfn1aom04Ryk7Wt0sM-t03=s64",
      "userId": "04026815740573691214"
     },
     "user_tz": -540
    },
    "id": "u2odU3i8vCiB",
    "outputId": "3d52a636-ff92-4700-d215-e62c7df86eb8"
   },
   "outputs": [
    {
     "data": {
      "text/plain": [
       "object"
      ]
     },
     "execution_count": 10,
     "metadata": {
      "tags": []
     },
     "output_type": "execute_result"
    }
   ],
   "source": [
    "np.object # Python object type"
   ]
  },
  {
   "cell_type": "code",
   "execution_count": 11,
   "metadata": {
    "colab": {
     "base_uri": "https://localhost:8080/"
    },
    "executionInfo": {
     "elapsed": 1838,
     "status": "ok",
     "timestamp": 1615398791280,
     "user": {
      "displayName": "L.A.K",
      "photoUrl": "https://lh3.googleusercontent.com/a-/AOh14GjwuaaIJMBxd-C-hVJfn1aom04Ryk7Wt0sM-t03=s64",
      "userId": "04026815740573691214"
     },
     "user_tz": -540
    },
    "id": "lSfKTEx7vCeo",
    "outputId": "11928bde-0ba8-416f-a941-88045b91c5bf"
   },
   "outputs": [
    {
     "data": {
      "text/plain": [
       "numpy.bytes_"
      ]
     },
     "execution_count": 11,
     "metadata": {
      "tags": []
     },
     "output_type": "execute_result"
    }
   ],
   "source": [
    "np.string_ # Fixed-length string type"
   ]
  },
  {
   "cell_type": "code",
   "execution_count": 12,
   "metadata": {
    "colab": {
     "base_uri": "https://localhost:8080/"
    },
    "executionInfo": {
     "elapsed": 1831,
     "status": "ok",
     "timestamp": 1615398791280,
     "user": {
      "displayName": "L.A.K",
      "photoUrl": "https://lh3.googleusercontent.com/a-/AOh14GjwuaaIJMBxd-C-hVJfn1aom04Ryk7Wt0sM-t03=s64",
      "userId": "04026815740573691214"
     },
     "user_tz": -540
    },
    "id": "8MeO1gh8vCJT",
    "outputId": "effe33e9-b156-4a83-d70a-c678f78cb651"
   },
   "outputs": [
    {
     "data": {
      "text/plain": [
       "numpy.str_"
      ]
     },
     "execution_count": 12,
     "metadata": {
      "tags": []
     },
     "output_type": "execute_result"
    }
   ],
   "source": [
    "np.unicode_ # Fixed-length unicode type"
   ]
  },
  {
   "cell_type": "markdown",
   "metadata": {
    "id": "270rJbcrnB-x"
   },
   "source": [
    "## placeholder를 이용해서 ndarray object 생성"
   ]
  },
  {
   "cell_type": "markdown",
   "metadata": {
    "id": "Oq1Is1ZlnFrS"
   },
   "source": [
    "placeholder를 사용해서, 특수한 벡터와 행렬를 쉽게 생성할 수 있다.\n",
    "\n",
    "그 외에도 균일한 간격의 배열, 무작위 값을 가지는 배열등을 생성할 수 있다."
   ]
  },
  {
   "cell_type": "markdown",
   "metadata": {},
   "source": [
    "### zeros-vector(영벡터) 생성"
   ]
  },
  {
   "cell_type": "code",
   "execution_count": 11,
   "metadata": {
    "ExecuteTime": {
     "end_time": "2021-03-31T03:36:41.096578Z",
     "start_time": "2021-03-31T03:36:41.078577Z"
    },
    "colab": {
     "base_uri": "https://localhost:8080/"
    },
    "executionInfo": {
     "elapsed": 1825,
     "status": "ok",
     "timestamp": 1615398791281,
     "user": {
      "displayName": "L.A.K",
      "photoUrl": "https://lh3.googleusercontent.com/a-/AOh14GjwuaaIJMBxd-C-hVJfn1aom04Ryk7Wt0sM-t03=s64",
      "userId": "04026815740573691214"
     },
     "user_tz": -540
    },
    "id": "aIhZCd4QnnRO",
    "outputId": "2ef05bec-6889-4b14-9329-40d959c75295"
   },
   "outputs": [
    {
     "data": {
      "text/plain": [
       "array([[0., 0., 0., 0.],\n",
       "       [0., 0., 0., 0.],\n",
       "       [0., 0., 0., 0.]], dtype=float32)"
      ]
     },
     "execution_count": 11,
     "metadata": {},
     "output_type": "execute_result"
    }
   ],
   "source": [
    "np.zeros((3, 4), dtype = np.float32)"
   ]
  },
  {
   "cell_type": "markdown",
   "metadata": {},
   "source": [
    "### ones-vector(일벡터) 생성"
   ]
  },
  {
   "cell_type": "code",
   "execution_count": 14,
   "metadata": {
    "colab": {
     "base_uri": "https://localhost:8080/"
    },
    "executionInfo": {
     "elapsed": 1818,
     "status": "ok",
     "timestamp": 1615398791281,
     "user": {
      "displayName": "L.A.K",
      "photoUrl": "https://lh3.googleusercontent.com/a-/AOh14GjwuaaIJMBxd-C-hVJfn1aom04Ryk7Wt0sM-t03=s64",
      "userId": "04026815740573691214"
     },
     "user_tz": -540
    },
    "id": "8Q1TFFF0ogWV",
    "outputId": "9160a847-a019-4394-b436-67efdfc88305"
   },
   "outputs": [
    {
     "data": {
      "text/plain": [
       "array([[1., 1., 1., 1.],\n",
       "       [1., 1., 1., 1.],\n",
       "       [1., 1., 1., 1.]], dtype=float32)"
      ]
     },
     "execution_count": 14,
     "metadata": {
      "tags": []
     },
     "output_type": "execute_result"
    }
   ],
   "source": [
    "np.ones((3, 4), dtype = np.float32)"
   ]
  },
  {
   "cell_type": "markdown",
   "metadata": {},
   "source": [
    "### np.arange(시작값, 끝값, 간격)"
   ]
  },
  {
   "cell_type": "code",
   "execution_count": 13,
   "metadata": {
    "ExecuteTime": {
     "end_time": "2021-03-31T03:38:02.624397Z",
     "start_time": "2021-03-31T03:38:02.615428Z"
    }
   },
   "outputs": [
    {
     "data": {
      "text/plain": [
       "array([10, 15, 20])"
      ]
     },
     "execution_count": 13,
     "metadata": {},
     "output_type": "execute_result"
    }
   ],
   "source": [
    "d = np.arange(10, 25, 5)\n",
    "d"
   ]
  },
  {
   "cell_type": "markdown",
   "metadata": {},
   "source": [
    "### 다른 배열과 같은 크기의 배열을 생성\n",
    "- np.zeros_like() or np.ones_like()"
   ]
  },
  {
   "cell_type": "code",
   "execution_count": 23,
   "metadata": {
    "ExecuteTime": {
     "end_time": "2021-03-31T03:45:19.629197Z",
     "start_time": "2021-03-31T03:45:19.622165Z"
    },
    "colab": {
     "base_uri": "https://localhost:8080/"
    },
    "executionInfo": {
     "elapsed": 1812,
     "status": "ok",
     "timestamp": 1615398791282,
     "user": {
      "displayName": "L.A.K",
      "photoUrl": "https://lh3.googleusercontent.com/a-/AOh14GjwuaaIJMBxd-C-hVJfn1aom04Ryk7Wt0sM-t03=s64",
      "userId": "04026815740573691214"
     },
     "user_tz": -540
    },
    "id": "xK3ttHC-3321",
    "outputId": "19225242-4b1b-4451-86d5-c383fb3ee5b8"
   },
   "outputs": [
    {
     "data": {
      "text/plain": [
       "array([[[0, 0, 0, 0],\n",
       "        [0, 0, 0, 0],\n",
       "        [0, 0, 0, 0]],\n",
       "\n",
       "       [[0, 0, 0, 0],\n",
       "        [0, 0, 0, 0],\n",
       "        [0, 0, 0, 0]]])"
      ]
     },
     "execution_count": 23,
     "metadata": {},
     "output_type": "execute_result"
    }
   ],
   "source": [
    "tmp = np.arange(24).reshape((2, 3, 4))\n",
    "np.zeros_like(tmp)                      # tmp 배열과 동일한 shape으로 0으로 채워진 배열 생성\n"
   ]
  },
  {
   "cell_type": "markdown",
   "metadata": {},
   "source": [
    "### diagonal matrix(대각행렬) 생성"
   ]
  },
  {
   "cell_type": "code",
   "execution_count": 16,
   "metadata": {
    "colab": {
     "base_uri": "https://localhost:8080/"
    },
    "executionInfo": {
     "elapsed": 1805,
     "status": "ok",
     "timestamp": 1615398791282,
     "user": {
      "displayName": "L.A.K",
      "photoUrl": "https://lh3.googleusercontent.com/a-/AOh14GjwuaaIJMBxd-C-hVJfn1aom04Ryk7Wt0sM-t03=s64",
      "userId": "04026815740573691214"
     },
     "user_tz": -540
    },
    "id": "A62xJuxhohxD",
    "outputId": "a026c991-22c2-415b-e1ec-87b3ba53f47d"
   },
   "outputs": [
    {
     "data": {
      "text/plain": [
       "array([[1, 0, 0, 0, 0],\n",
       "       [0, 2, 0, 0, 0],\n",
       "       [0, 0, 3, 0, 0],\n",
       "       [0, 0, 0, 4, 0],\n",
       "       [0, 0, 0, 0, 5]])"
      ]
     },
     "execution_count": 16,
     "metadata": {
      "tags": []
     },
     "output_type": "execute_result"
    }
   ],
   "source": [
    "np.diag([1, 2, 3, 4, 5])"
   ]
  },
  {
   "cell_type": "markdown",
   "metadata": {},
   "source": [
    "### identity matrix(항등행렬) 생성"
   ]
  },
  {
   "cell_type": "code",
   "execution_count": 29,
   "metadata": {
    "ExecuteTime": {
     "end_time": "2021-03-31T10:42:05.158228Z",
     "start_time": "2021-03-31T10:42:05.153267Z"
    },
    "colab": {
     "base_uri": "https://localhost:8080/"
    },
    "executionInfo": {
     "elapsed": 1798,
     "status": "ok",
     "timestamp": 1615398791282,
     "user": {
      "displayName": "L.A.K",
      "photoUrl": "https://lh3.googleusercontent.com/a-/AOh14GjwuaaIJMBxd-C-hVJfn1aom04Ryk7Wt0sM-t03=s64",
      "userId": "04026815740573691214"
     },
     "user_tz": -540
    },
    "id": "ZvBJllwLo0SG",
    "outputId": "926cc8de-eec1-419a-b236-c23aaf23bcb3"
   },
   "outputs": [
    {
     "data": {
      "text/plain": [
       "array([[1., 0., 0.],\n",
       "       [0., 1., 0.],\n",
       "       [0., 0., 1.]])"
      ]
     },
     "execution_count": 29,
     "metadata": {},
     "output_type": "execute_result"
    }
   ],
   "source": [
    "np.eye(3)"
   ]
  },
  {
   "cell_type": "markdown",
   "metadata": {},
   "source": [
    "### 균일한 간격으로 배열 생성\n",
    "- 파이썬의 range와 비슷"
   ]
  },
  {
   "cell_type": "code",
   "execution_count": 30,
   "metadata": {
    "ExecuteTime": {
     "end_time": "2021-03-31T10:42:51.221474Z",
     "start_time": "2021-03-31T10:42:51.205474Z"
    },
    "colab": {
     "base_uri": "https://localhost:8080/"
    },
    "executionInfo": {
     "elapsed": 1792,
     "status": "ok",
     "timestamp": 1615398791283,
     "user": {
      "displayName": "L.A.K",
      "photoUrl": "https://lh3.googleusercontent.com/a-/AOh14GjwuaaIJMBxd-C-hVJfn1aom04Ryk7Wt0sM-t03=s64",
      "userId": "04026815740573691214"
     },
     "user_tz": -540
    },
    "id": "9Ph6Mg8QpxQL",
    "outputId": "d7336077-be71-4a9b-df8a-048e54a6e3ec"
   },
   "outputs": [
    {
     "data": {
      "text/plain": [
       "array([ 0.,  2.,  4.,  6.,  8., 10., 12., 14.], dtype=float32)"
      ]
     },
     "execution_count": 30,
     "metadata": {},
     "output_type": "execute_result"
    }
   ],
   "source": [
    "np.arange(0, 15, 2, dtype = np.float32)"
   ]
  },
  {
   "cell_type": "markdown",
   "metadata": {},
   "source": [
    "### 균등한 간격으로 배열 생성\n",
    "- linspace(start, stop, num)\n",
    "- num 생략할 경우 50개의 수열 생성"
   ]
  },
  {
   "cell_type": "code",
   "execution_count": 32,
   "metadata": {
    "ExecuteTime": {
     "end_time": "2021-03-31T10:46:03.656679Z",
     "start_time": "2021-03-31T10:46:03.638649Z"
    },
    "colab": {
     "base_uri": "https://localhost:8080/"
    },
    "executionInfo": {
     "elapsed": 2062,
     "status": "ok",
     "timestamp": 1615398791560,
     "user": {
      "displayName": "L.A.K",
      "photoUrl": "https://lh3.googleusercontent.com/a-/AOh14GjwuaaIJMBxd-C-hVJfn1aom04Ryk7Wt0sM-t03=s64",
      "userId": "04026815740573691214"
     },
     "user_tz": -540
    },
    "id": "16P9mTbuqeSe",
    "outputId": "b72feb19-f077-4d1d-cf96-e2a0b06c792a"
   },
   "outputs": [
    {
     "data": {
      "text/plain": [
       "array([ 0.   ,  1.875,  3.75 ,  5.625,  7.5  ,  9.375, 11.25 , 13.125,\n",
       "       15.   ], dtype=float32)"
      ]
     },
     "execution_count": 32,
     "metadata": {},
     "output_type": "execute_result"
    }
   ],
   "source": [
    "np.linspace(0, 15, 9, dtype = np.float32) # (15 - 0) * (1 / (9 - 1)), (15 - 0) * (2 / (9 - 1)) ..."
   ]
  },
  {
   "cell_type": "markdown",
   "metadata": {},
   "source": [
    "### 지정된 상수값만을 가진 배열 생성"
   ]
  },
  {
   "cell_type": "code",
   "execution_count": 39,
   "metadata": {
    "ExecuteTime": {
     "end_time": "2021-03-31T10:50:41.946918Z",
     "start_time": "2021-03-31T10:50:41.932919Z"
    },
    "colab": {
     "base_uri": "https://localhost:8080/"
    },
    "executionInfo": {
     "elapsed": 2056,
     "status": "ok",
     "timestamp": 1615398791561,
     "user": {
      "displayName": "L.A.K",
      "photoUrl": "https://lh3.googleusercontent.com/a-/AOh14GjwuaaIJMBxd-C-hVJfn1aom04Ryk7Wt0sM-t03=s64",
      "userId": "04026815740573691214"
     },
     "user_tz": -540
    },
    "id": "ZisXUR2Argh2",
    "outputId": "f14048cc-d1d8-4f58-b159-1bf07ca7131c"
   },
   "outputs": [
    {
     "data": {
      "text/plain": [
       "array([[2., 2., 2., 2.],\n",
       "       [2., 2., 2., 2.],\n",
       "       [2., 2., 2., 2.]], dtype=float32)"
      ]
     },
     "execution_count": 39,
     "metadata": {},
     "output_type": "execute_result"
    }
   ],
   "source": [
    "np.full((3, 4), 2, dtype = np.float32) # or np.ones((3, 4), dtype = np.float32) * 3"
   ]
  },
  {
   "cell_type": "markdown",
   "metadata": {},
   "source": [
    "### 무작위 값을 가지는 배열 생성\n",
    "- [0, 1] 범위에서"
   ]
  },
  {
   "cell_type": "code",
   "execution_count": 21,
   "metadata": {
    "colab": {
     "base_uri": "https://localhost:8080/"
    },
    "executionInfo": {
     "elapsed": 2049,
     "status": "ok",
     "timestamp": 1615398791561,
     "user": {
      "displayName": "L.A.K",
      "photoUrl": "https://lh3.googleusercontent.com/a-/AOh14GjwuaaIJMBxd-C-hVJfn1aom04Ryk7Wt0sM-t03=s64",
      "userId": "04026815740573691214"
     },
     "user_tz": -540
    },
    "id": "g8gtXDFBrv-z",
    "outputId": "e414e41e-bb17-4792-d7e9-e8c4c28640f8"
   },
   "outputs": [
    {
     "data": {
      "text/plain": [
       "array([[0.81920796, 0.02180711, 0.96269948, 0.68198585],\n",
       "       [0.43346512, 0.45324723, 0.9636029 , 0.00490605],\n",
       "       [0.1126417 , 0.56109776, 0.60379757, 0.75817443]])"
      ]
     },
     "execution_count": 21,
     "metadata": {
      "tags": []
     },
     "output_type": "execute_result"
    }
   ],
   "source": [
    "np.random.random((3, 4))"
   ]
  },
  {
   "cell_type": "markdown",
   "metadata": {},
   "source": [
    "### 초기화 되지 않은 배열 생성\n",
    "- 값을 초기화할 때 사용\n",
    "- 다른 것들에 비해서 속도가 생성 속도가 빠름"
   ]
  },
  {
   "cell_type": "code",
   "execution_count": 22,
   "metadata": {
    "colab": {
     "base_uri": "https://localhost:8080/"
    },
    "executionInfo": {
     "elapsed": 2043,
     "status": "ok",
     "timestamp": 1615398791562,
     "user": {
      "displayName": "L.A.K",
      "photoUrl": "https://lh3.googleusercontent.com/a-/AOh14GjwuaaIJMBxd-C-hVJfn1aom04Ryk7Wt0sM-t03=s64",
      "userId": "04026815740573691214"
     },
     "user_tz": -540
    },
    "id": "xf4LO5udsEht",
    "outputId": "348b3058-c2f6-42f6-8bfd-7188fa1a0a96"
   },
   "outputs": [
    {
     "data": {
      "text/plain": [
       "array([[0.81920796, 0.02180711, 0.96269948, 0.68198585],\n",
       "       [0.43346512, 0.45324723, 0.9636029 , 0.00490605],\n",
       "       [0.1126417 , 0.56109776, 0.60379757, 0.75817443]])"
      ]
     },
     "execution_count": 22,
     "metadata": {
      "tags": []
     },
     "output_type": "execute_result"
    }
   ],
   "source": [
    "np.empty((3, 4)) # 쓰레기 값이 들어가 있다."
   ]
  },
  {
   "cell_type": "markdown",
   "metadata": {
    "id": "3PN4olyAvyqB"
   },
   "source": [
    "## ndarray에 대한 기본적인 정보 조사하기"
   ]
  },
  {
   "cell_type": "code",
   "execution_count": 41,
   "metadata": {
    "ExecuteTime": {
     "end_time": "2021-03-31T11:37:34.682147Z",
     "start_time": "2021-03-31T11:37:34.669116Z"
    },
    "colab": {
     "base_uri": "https://localhost:8080/"
    },
    "executionInfo": {
     "elapsed": 2036,
     "status": "ok",
     "timestamp": 1615398791562,
     "user": {
      "displayName": "L.A.K",
      "photoUrl": "https://lh3.googleusercontent.com/a-/AOh14GjwuaaIJMBxd-C-hVJfn1aom04Ryk7Wt0sM-t03=s64",
      "userId": "04026815740573691214"
     },
     "user_tz": -540
    },
    "id": "py2W6CKnwCCQ",
    "outputId": "c2d49959-61e4-4e81-8db8-123f739889a5"
   },
   "outputs": [
    {
     "data": {
      "text/plain": [
       "array([[[ 0,  1,  2,  3],\n",
       "        [ 4,  5,  6,  7],\n",
       "        [ 8,  9, 10, 11]],\n",
       "\n",
       "       [[12, 13, 14, 15],\n",
       "        [16, 17, 18, 19],\n",
       "        [20, 21, 22, 23]]])"
      ]
     },
     "execution_count": 41,
     "metadata": {},
     "output_type": "execute_result"
    }
   ],
   "source": [
    "# 다음과 같은 배열이 있다고 가정한다.\n",
    "a = np.arange(24).reshape(2, 3, 4)\n",
    "a"
   ]
  },
  {
   "cell_type": "markdown",
   "metadata": {},
   "source": [
    "### 배열의 shape를 확인"
   ]
  },
  {
   "cell_type": "code",
   "execution_count": 42,
   "metadata": {
    "ExecuteTime": {
     "end_time": "2021-03-31T11:37:36.294129Z",
     "start_time": "2021-03-31T11:37:36.276128Z"
    },
    "colab": {
     "base_uri": "https://localhost:8080/"
    },
    "executionInfo": {
     "elapsed": 2030,
     "status": "ok",
     "timestamp": 1615398791563,
     "user": {
      "displayName": "L.A.K",
      "photoUrl": "https://lh3.googleusercontent.com/a-/AOh14GjwuaaIJMBxd-C-hVJfn1aom04Ryk7Wt0sM-t03=s64",
      "userId": "04026815740573691214"
     },
     "user_tz": -540
    },
    "id": "0jUL3WPpwWP8",
    "outputId": "deaa12ff-6a83-444d-dab9-dde7417fe164"
   },
   "outputs": [
    {
     "data": {
      "text/plain": [
       "(2, 3, 4)"
      ]
     },
     "execution_count": 42,
     "metadata": {},
     "output_type": "execute_result"
    }
   ],
   "source": [
    "a.shape                  # 2 X 3 X 4 (depth, row, column)"
   ]
  },
  {
   "cell_type": "markdown",
   "metadata": {},
   "source": [
    "### 배열의 길이(크기) 확인"
   ]
  },
  {
   "cell_type": "code",
   "execution_count": 43,
   "metadata": {
    "ExecuteTime": {
     "end_time": "2021-03-31T11:37:37.604822Z",
     "start_time": "2021-03-31T11:37:37.596823Z"
    },
    "colab": {
     "base_uri": "https://localhost:8080/"
    },
    "executionInfo": {
     "elapsed": 2023,
     "status": "ok",
     "timestamp": 1615398791563,
     "user": {
      "displayName": "L.A.K",
      "photoUrl": "https://lh3.googleusercontent.com/a-/AOh14GjwuaaIJMBxd-C-hVJfn1aom04Ryk7Wt0sM-t03=s64",
      "userId": "04026815740573691214"
     },
     "user_tz": -540
    },
    "id": "1wsbp2IvWWyU",
    "outputId": "925d661d-5e52-4e0b-fd5a-ecb92f8cd06c"
   },
   "outputs": [
    {
     "data": {
      "text/plain": [
       "2"
      ]
     },
     "execution_count": 43,
     "metadata": {},
     "output_type": "execute_result"
    }
   ],
   "source": [
    "len(a)"
   ]
  },
  {
   "cell_type": "markdown",
   "metadata": {},
   "source": [
    "### 배열의 차원(dimension) 확인"
   ]
  },
  {
   "cell_type": "code",
   "execution_count": 44,
   "metadata": {
    "ExecuteTime": {
     "end_time": "2021-03-31T11:37:41.636533Z",
     "start_time": "2021-03-31T11:37:41.622533Z"
    },
    "colab": {
     "base_uri": "https://localhost:8080/"
    },
    "executionInfo": {
     "elapsed": 2017,
     "status": "ok",
     "timestamp": 1615398791564,
     "user": {
      "displayName": "L.A.K",
      "photoUrl": "https://lh3.googleusercontent.com/a-/AOh14GjwuaaIJMBxd-C-hVJfn1aom04Ryk7Wt0sM-t03=s64",
      "userId": "04026815740573691214"
     },
     "user_tz": -540
    },
    "id": "fHl1ILBLWWwG",
    "outputId": "54cdc9cf-38fe-4d00-85aa-029ab35a1db2"
   },
   "outputs": [
    {
     "data": {
      "text/plain": [
       "3"
      ]
     },
     "execution_count": 44,
     "metadata": {},
     "output_type": "execute_result"
    }
   ],
   "source": [
    "a.ndim"
   ]
  },
  {
   "cell_type": "markdown",
   "metadata": {},
   "source": [
    "### 배열의 요소(element) 개수를 확인"
   ]
  },
  {
   "cell_type": "code",
   "execution_count": 45,
   "metadata": {
    "ExecuteTime": {
     "end_time": "2021-03-31T11:38:24.787747Z",
     "start_time": "2021-03-31T11:38:24.772747Z"
    },
    "colab": {
     "base_uri": "https://localhost:8080/"
    },
    "executionInfo": {
     "elapsed": 2010,
     "status": "ok",
     "timestamp": 1615398791564,
     "user": {
      "displayName": "L.A.K",
      "photoUrl": "https://lh3.googleusercontent.com/a-/AOh14GjwuaaIJMBxd-C-hVJfn1aom04Ryk7Wt0sM-t03=s64",
      "userId": "04026815740573691214"
     },
     "user_tz": -540
    },
    "id": "u_74tztXWWpq",
    "outputId": "13dc6487-0f7d-4c7e-8c8b-71f6ca023fb2"
   },
   "outputs": [
    {
     "data": {
      "text/plain": [
       "24"
      ]
     },
     "execution_count": 45,
     "metadata": {},
     "output_type": "execute_result"
    }
   ],
   "source": [
    "a.size"
   ]
  },
  {
   "cell_type": "markdown",
   "metadata": {},
   "source": [
    "### 배열 요소의 데이터 타입 확인"
   ]
  },
  {
   "cell_type": "code",
   "execution_count": 46,
   "metadata": {
    "ExecuteTime": {
     "end_time": "2021-03-31T11:38:44.922248Z",
     "start_time": "2021-03-31T11:38:44.909248Z"
    },
    "colab": {
     "base_uri": "https://localhost:8080/"
    },
    "executionInfo": {
     "elapsed": 2003,
     "status": "ok",
     "timestamp": 1615398791564,
     "user": {
      "displayName": "L.A.K",
      "photoUrl": "https://lh3.googleusercontent.com/a-/AOh14GjwuaaIJMBxd-C-hVJfn1aom04Ryk7Wt0sM-t03=s64",
      "userId": "04026815740573691214"
     },
     "user_tz": -540
    },
    "id": "k8D15WtYWWiS",
    "outputId": "edaf5179-9545-468f-f8e0-5661a9bc2edc"
   },
   "outputs": [
    {
     "data": {
      "text/plain": [
       "dtype('int32')"
      ]
     },
     "execution_count": 46,
     "metadata": {},
     "output_type": "execute_result"
    }
   ],
   "source": [
    "a.dtype          # Data Type of array elements"
   ]
  },
  {
   "cell_type": "markdown",
   "metadata": {},
   "source": [
    "### 배열 요소의 데이터 타입의 이름 확인"
   ]
  },
  {
   "cell_type": "code",
   "execution_count": 47,
   "metadata": {
    "ExecuteTime": {
     "end_time": "2021-03-31T11:40:19.155538Z",
     "start_time": "2021-03-31T11:40:19.149541Z"
    },
    "colab": {
     "base_uri": "https://localhost:8080/",
     "height": 0
    },
    "executionInfo": {
     "elapsed": 1996,
     "status": "ok",
     "timestamp": 1615398791565,
     "user": {
      "displayName": "L.A.K",
      "photoUrl": "https://lh3.googleusercontent.com/a-/AOh14GjwuaaIJMBxd-C-hVJfn1aom04Ryk7Wt0sM-t03=s64",
      "userId": "04026815740573691214"
     },
     "user_tz": -540
    },
    "id": "LssWM-psW48k",
    "outputId": "b8c65c4d-13bf-4b92-84d2-76e0c1a472e7"
   },
   "outputs": [
    {
     "data": {
      "text/plain": [
       "'int32'"
      ]
     },
     "execution_count": 47,
     "metadata": {},
     "output_type": "execute_result"
    }
   ],
   "source": [
    "a.dtype.name"
   ]
  },
  {
   "cell_type": "markdown",
   "metadata": {},
   "source": [
    "### 배열 요소의 데이터 타입을 변경"
   ]
  },
  {
   "cell_type": "code",
   "execution_count": 48,
   "metadata": {
    "ExecuteTime": {
     "end_time": "2021-03-31T11:42:10.306804Z",
     "start_time": "2021-03-31T11:42:10.301807Z"
    },
    "colab": {
     "base_uri": "https://localhost:8080/"
    },
    "executionInfo": {
     "elapsed": 1988,
     "status": "ok",
     "timestamp": 1615398791565,
     "user": {
      "displayName": "L.A.K",
      "photoUrl": "https://lh3.googleusercontent.com/a-/AOh14GjwuaaIJMBxd-C-hVJfn1aom04Ryk7Wt0sM-t03=s64",
      "userId": "04026815740573691214"
     },
     "user_tz": -540
    },
    "id": "kXqyFikUW52t",
    "outputId": "0c79d12e-70f0-4ccb-a739-760fb01d1db2"
   },
   "outputs": [
    {
     "data": {
      "text/plain": [
       "array([[[False,  True,  True,  True],\n",
       "        [ True,  True,  True,  True],\n",
       "        [ True,  True,  True,  True]],\n",
       "\n",
       "       [[ True,  True,  True,  True],\n",
       "        [ True,  True,  True,  True],\n",
       "        [ True,  True,  True,  True]]])"
      ]
     },
     "execution_count": 48,
     "metadata": {},
     "output_type": "execute_result"
    }
   ],
   "source": [
    "#원본 배열에 영향을 끼치지 않음.\n",
    "a.astype(np.bool) # 0 이하는 False, 0 초과는 True"
   ]
  },
  {
   "cell_type": "markdown",
   "metadata": {
    "id": "hcGcB9W-YiTz"
   },
   "source": [
    "## Numpy 배열 연산"
   ]
  },
  {
   "cell_type": "code",
   "execution_count": 72,
   "metadata": {
    "ExecuteTime": {
     "end_time": "2021-03-31T11:56:05.123654Z",
     "start_time": "2021-03-31T11:56:05.116689Z"
    },
    "colab": {
     "base_uri": "https://localhost:8080/"
    },
    "executionInfo": {
     "elapsed": 1981,
     "status": "ok",
     "timestamp": 1615398791566,
     "user": {
      "displayName": "L.A.K",
      "photoUrl": "https://lh3.googleusercontent.com/a-/AOh14GjwuaaIJMBxd-C-hVJfn1aom04Ryk7Wt0sM-t03=s64",
      "userId": "04026815740573691214"
     },
     "user_tz": -540
    },
    "id": "5KxJzSqpY4n-",
    "outputId": "70df0dcd-e7df-4676-830e-198863f47d7c",
    "scrolled": true
   },
   "outputs": [
    {
     "data": {
      "text/plain": [
       "(array([[0.75444917, 0.91015037, 0.9619816 , 0.71961407],\n",
       "        [0.72561276, 0.07266444, 0.45992843, 0.57873331],\n",
       "        [0.1249774 , 0.59099547, 0.08786286, 0.53104185]]),\n",
       " array([[ 0.,  1.,  2.,  3.],\n",
       "        [ 4.,  5.,  6.,  7.],\n",
       "        [ 8.,  9., 10., 11.]], dtype=float32))"
      ]
     },
     "execution_count": 72,
     "metadata": {},
     "output_type": "execute_result"
    }
   ],
   "source": [
    "# 다음과 같은 Numpy 배열을 사용\n",
    "a = np.random.random((3, 4))\n",
    "b = np.arange(12, dtype=np.float32).reshape((3, 4))\n",
    "\n",
    "a, b"
   ]
  },
  {
   "cell_type": "markdown",
   "metadata": {
    "id": "gPfF_5c-amrQ"
   },
   "source": [
    "### 사칙연산"
   ]
  },
  {
   "cell_type": "code",
   "execution_count": 73,
   "metadata": {
    "ExecuteTime": {
     "end_time": "2021-03-31T11:56:06.540061Z",
     "start_time": "2021-03-31T11:56:06.532061Z"
    },
    "colab": {
     "base_uri": "https://localhost:8080/"
    },
    "executionInfo": {
     "elapsed": 1974,
     "status": "ok",
     "timestamp": 1615398791566,
     "user": {
      "displayName": "L.A.K",
      "photoUrl": "https://lh3.googleusercontent.com/a-/AOh14GjwuaaIJMBxd-C-hVJfn1aom04Ryk7Wt0sM-t03=s64",
      "userId": "04026815740573691214"
     },
     "user_tz": -540
    },
    "id": "BJS7WfxRY4l5",
    "outputId": "c07861da-cabd-413a-a461-4402fcfcfa1d"
   },
   "outputs": [
    {
     "data": {
      "text/plain": [
       "array([[ 0.75444917,  1.91015037,  2.9619816 ,  3.71961407],\n",
       "       [ 4.72561276,  5.07266444,  6.45992843,  7.57873331],\n",
       "       [ 8.1249774 ,  9.59099547, 10.08786286, 11.53104185]])"
      ]
     },
     "execution_count": 73,
     "metadata": {},
     "output_type": "execute_result"
    }
   ],
   "source": [
    "# 더하기(+) 연산, elementwise 방식으로 동작\n",
    "a + b # np.add(a, b)"
   ]
  },
  {
   "cell_type": "code",
   "execution_count": 74,
   "metadata": {
    "ExecuteTime": {
     "end_time": "2021-03-31T11:56:07.175271Z",
     "start_time": "2021-03-31T11:56:07.158270Z"
    },
    "colab": {
     "base_uri": "https://localhost:8080/"
    },
    "executionInfo": {
     "elapsed": 1968,
     "status": "ok",
     "timestamp": 1615398791567,
     "user": {
      "displayName": "L.A.K",
      "photoUrl": "https://lh3.googleusercontent.com/a-/AOh14GjwuaaIJMBxd-C-hVJfn1aom04Ryk7Wt0sM-t03=s64",
      "userId": "04026815740573691214"
     },
     "user_tz": -540
    },
    "id": "XiNeaZ4PY4kK",
    "outputId": "e55d737b-6f4d-4505-e206-fa01a3d28567"
   },
   "outputs": [
    {
     "data": {
      "text/plain": [
       "array([[  0.75444917,  -0.08984963,  -1.0380184 ,  -2.28038593],\n",
       "       [ -3.27438724,  -4.92733556,  -5.54007157,  -6.42126669],\n",
       "       [ -7.8750226 ,  -8.40900453,  -9.91213714, -10.46895815]])"
      ]
     },
     "execution_count": 74,
     "metadata": {},
     "output_type": "execute_result"
    }
   ],
   "source": [
    "# 빼기(-) 연산, elementwise 방식으로 동작\n",
    "a - b # np.subtract(a, b)"
   ]
  },
  {
   "cell_type": "code",
   "execution_count": 75,
   "metadata": {
    "ExecuteTime": {
     "end_time": "2021-03-31T11:56:08.067728Z",
     "start_time": "2021-03-31T11:56:08.063761Z"
    },
    "colab": {
     "base_uri": "https://localhost:8080/"
    },
    "executionInfo": {
     "elapsed": 1961,
     "status": "ok",
     "timestamp": 1615398791567,
     "user": {
      "displayName": "L.A.K",
      "photoUrl": "https://lh3.googleusercontent.com/a-/AOh14GjwuaaIJMBxd-C-hVJfn1aom04Ryk7Wt0sM-t03=s64",
      "userId": "04026815740573691214"
     },
     "user_tz": -540
    },
    "id": "dktJIDCnY4Vz",
    "outputId": "e90811c8-7470-4edc-f642-2b4d99813a75"
   },
   "outputs": [
    {
     "data": {
      "text/plain": [
       "array([[0.        , 0.91015037, 1.9239632 , 2.1588422 ],\n",
       "       [2.90245105, 0.36332218, 2.75957058, 4.05113314],\n",
       "       [0.99981921, 5.31895924, 0.87862858, 5.84146033]])"
      ]
     },
     "execution_count": 75,
     "metadata": {},
     "output_type": "execute_result"
    }
   ],
   "source": [
    "# 곱하기(*) 연산, elementwise 방식으로 동작\n",
    "a * b # np.multiply(a, b)"
   ]
  },
  {
   "cell_type": "code",
   "execution_count": 77,
   "metadata": {
    "ExecuteTime": {
     "end_time": "2021-03-31T11:56:22.105328Z",
     "start_time": "2021-03-31T11:56:22.092329Z"
    },
    "colab": {
     "base_uri": "https://localhost:8080/"
    },
    "executionInfo": {
     "elapsed": 1955,
     "status": "ok",
     "timestamp": 1615398791568,
     "user": {
      "displayName": "L.A.K",
      "photoUrl": "https://lh3.googleusercontent.com/a-/AOh14GjwuaaIJMBxd-C-hVJfn1aom04Ryk7Wt0sM-t03=s64",
      "userId": "04026815740573691214"
     },
     "user_tz": -540
    },
    "id": "gdPsyt3jY4Tn",
    "outputId": "35188721-dd91-40b2-bf1a-60ea382d8994"
   },
   "outputs": [
    {
     "name": "stderr",
     "output_type": "stream",
     "text": [
      "C:\\Anaconda3\\lib\\site-packages\\ipykernel_launcher.py:2: RuntimeWarning: divide by zero encountered in true_divide\n",
      "  \n"
     ]
    },
    {
     "data": {
      "text/plain": [
       "array([[       inf, 0.91015037, 0.4809908 , 0.23987136],\n",
       "       [0.18140319, 0.01453289, 0.07665474, 0.08267619],\n",
       "       [0.01562218, 0.06566616, 0.00878629, 0.04827653]])"
      ]
     },
     "execution_count": 77,
     "metadata": {},
     "output_type": "execute_result"
    }
   ],
   "source": [
    "# 나누기(/) 연산, elementwise 방식으로 동작\n",
    "a / b # np.divide(a, b)"
   ]
  },
  {
   "cell_type": "code",
   "execution_count": 55,
   "metadata": {
    "ExecuteTime": {
     "end_time": "2021-03-31T11:47:01.048163Z",
     "start_time": "2021-03-31T11:47:01.045137Z"
    },
    "colab": {
     "base_uri": "https://localhost:8080/"
    },
    "executionInfo": {
     "elapsed": 1948,
     "status": "ok",
     "timestamp": 1615398791568,
     "user": {
      "displayName": "L.A.K",
      "photoUrl": "https://lh3.googleusercontent.com/a-/AOh14GjwuaaIJMBxd-C-hVJfn1aom04Ryk7Wt0sM-t03=s64",
      "userId": "04026815740573691214"
     },
     "user_tz": -540
    },
    "id": "i35KAmDpY4Rh",
    "outputId": "9144d3e7-65be-4e9e-d208-9828039400be"
   },
   "outputs": [
    {
     "name": "stderr",
     "output_type": "stream",
     "text": [
      "C:\\Anaconda3\\lib\\site-packages\\ipykernel_launcher.py:2: RuntimeWarning: invalid value encountered in remainder\n",
      "  \n"
     ]
    },
    {
     "data": {
      "text/plain": [
       "array([[       nan, 0.4459302 , 0.22952302, 0.29617736],\n",
       "       [0.82637304, 0.33304049, 0.23435041, 0.85031144],\n",
       "       [0.74321888, 0.49418589, 0.92697234, 0.088483  ]])"
      ]
     },
     "execution_count": 55,
     "metadata": {},
     "output_type": "execute_result"
    }
   ],
   "source": [
    "# 나머지(%) 연산, elementwise 방식으로 동작\n",
    "a % b # np.remainder(a, b)"
   ]
  },
  {
   "cell_type": "markdown",
   "metadata": {
    "id": "BBW0tFCiaqRT"
   },
   "source": [
    "### 기본적인 수학 관련 연산"
   ]
  },
  {
   "cell_type": "markdown",
   "metadata": {},
   "source": [
    "#### 지수함수"
   ]
  },
  {
   "cell_type": "code",
   "execution_count": 78,
   "metadata": {
    "ExecuteTime": {
     "end_time": "2021-03-31T11:57:15.058447Z",
     "start_time": "2021-03-31T11:57:15.046445Z"
    },
    "colab": {
     "base_uri": "https://localhost:8080/"
    },
    "executionInfo": {
     "elapsed": 2628,
     "status": "ok",
     "timestamp": 1615398792255,
     "user": {
      "displayName": "L.A.K",
      "photoUrl": "https://lh3.googleusercontent.com/a-/AOh14GjwuaaIJMBxd-C-hVJfn1aom04Ryk7Wt0sM-t03=s64",
      "userId": "04026815740573691214"
     },
     "user_tz": -540
    },
    "id": "63YWkamYaqjc",
    "outputId": "1d387844-122f-4722-8502-c744c92c991b",
    "scrolled": true
   },
   "outputs": [
    {
     "data": {
      "text/plain": [
       "array([[1.0000000e+00, 2.7182817e+00, 7.3890562e+00, 2.0085537e+01],\n",
       "       [5.4598148e+01, 1.4841316e+02, 4.0342880e+02, 1.0966332e+03],\n",
       "       [2.9809580e+03, 8.1030840e+03, 2.2026465e+04, 5.9874141e+04]],\n",
       "      dtype=float32)"
      ]
     },
     "execution_count": 78,
     "metadata": {},
     "output_type": "execute_result"
    }
   ],
   "source": [
    "# 자연함수 e, 배열의 값이 지수함수(e^x)의 지수로 들어가서 연산이 이뤄진다.\n",
    "np.exp(b)"
   ]
  },
  {
   "cell_type": "markdown",
   "metadata": {
    "ExecuteTime": {
     "end_time": "2021-03-31T12:05:47.999919Z",
     "start_time": "2021-03-31T12:05:47.989896Z"
    }
   },
   "source": [
    "#### 제곱근함수"
   ]
  },
  {
   "cell_type": "code",
   "execution_count": 57,
   "metadata": {
    "ExecuteTime": {
     "end_time": "2021-03-31T11:47:37.267741Z",
     "start_time": "2021-03-31T11:47:37.251741Z"
    },
    "colab": {
     "base_uri": "https://localhost:8080/"
    },
    "executionInfo": {
     "elapsed": 2622,
     "status": "ok",
     "timestamp": 1615398792256,
     "user": {
      "displayName": "L.A.K",
      "photoUrl": "https://lh3.googleusercontent.com/a-/AOh14GjwuaaIJMBxd-C-hVJfn1aom04Ryk7Wt0sM-t03=s64",
      "userId": "04026815740573691214"
     },
     "user_tz": -540
    },
    "id": "mXcuWtwxbkL7",
    "outputId": "f34dc6be-93b4-418b-e3ce-02f3398982fc",
    "scrolled": true
   },
   "outputs": [
    {
     "data": {
      "text/plain": [
       "array([[0.       , 1.       , 1.4142135, 1.7320508],\n",
       "       [2.       , 2.236068 , 2.4494898, 2.6457512],\n",
       "       [2.828427 , 3.       , 3.1622777, 3.3166249]], dtype=float32)"
      ]
     },
     "execution_count": 57,
     "metadata": {},
     "output_type": "execute_result"
    }
   ],
   "source": [
    "\n",
    "np.sqrt(b)"
   ]
  },
  {
   "cell_type": "markdown",
   "metadata": {},
   "source": [
    "#### 사인함수"
   ]
  },
  {
   "cell_type": "code",
   "execution_count": 58,
   "metadata": {
    "ExecuteTime": {
     "end_time": "2021-03-31T11:47:38.917933Z",
     "start_time": "2021-03-31T11:47:38.908932Z"
    },
    "colab": {
     "base_uri": "https://localhost:8080/"
    },
    "executionInfo": {
     "elapsed": 2615,
     "status": "ok",
     "timestamp": 1615398792256,
     "user": {
      "displayName": "L.A.K",
      "photoUrl": "https://lh3.googleusercontent.com/a-/AOh14GjwuaaIJMBxd-C-hVJfn1aom04Ryk7Wt0sM-t03=s64",
      "userId": "04026815740573691214"
     },
     "user_tz": -540
    },
    "id": "leuCLOQ7bkGB",
    "outputId": "a451f3b5-21d3-4508-89a3-a87e6e02bc3c"
   },
   "outputs": [
    {
     "data": {
      "text/plain": [
       "array([[0.38086132, 0.43129731, 0.22751308, 0.29186615],\n",
       "       [0.73547877, 0.32691796, 0.2322112 , 0.75148591],\n",
       "       [0.67666146, 0.4743151 , 0.79980623, 0.08836758]])"
      ]
     },
     "execution_count": 58,
     "metadata": {},
     "output_type": "execute_result"
    }
   ],
   "source": [
    "np.sin(a)"
   ]
  },
  {
   "cell_type": "markdown",
   "metadata": {},
   "source": [
    "#### 코사인함수"
   ]
  },
  {
   "cell_type": "code",
   "execution_count": 59,
   "metadata": {
    "ExecuteTime": {
     "end_time": "2021-03-31T11:47:39.822810Z",
     "start_time": "2021-03-31T11:47:39.806812Z"
    },
    "colab": {
     "base_uri": "https://localhost:8080/"
    },
    "executionInfo": {
     "elapsed": 2608,
     "status": "ok",
     "timestamp": 1615398792256,
     "user": {
      "displayName": "L.A.K",
      "photoUrl": "https://lh3.googleusercontent.com/a-/AOh14GjwuaaIJMBxd-C-hVJfn1aom04Ryk7Wt0sM-t03=s64",
      "userId": "04026815740573691214"
     },
     "user_tz": -540
    },
    "id": "7vf7FPoPbkDF",
    "outputId": "ed4f8d22-977a-44bc-aa78-66be3a20db6f"
   },
   "outputs": [
    {
     "data": {
      "text/plain": [
       "array([[0.38086132, 0.43129731, 0.22751308, 0.29186615],\n",
       "       [0.73547877, 0.32691796, 0.2322112 , 0.75148591],\n",
       "       [0.67666146, 0.4743151 , 0.79980623, 0.08836758]])"
      ]
     },
     "execution_count": 59,
     "metadata": {},
     "output_type": "execute_result"
    }
   ],
   "source": [
    "np.sin(a)"
   ]
  },
  {
   "cell_type": "markdown",
   "metadata": {},
   "source": [
    "#### 로그함수"
   ]
  },
  {
   "cell_type": "code",
   "execution_count": 60,
   "metadata": {
    "ExecuteTime": {
     "end_time": "2021-03-31T11:47:41.235135Z",
     "start_time": "2021-03-31T11:47:41.221135Z"
    },
    "colab": {
     "base_uri": "https://localhost:8080/"
    },
    "executionInfo": {
     "elapsed": 2602,
     "status": "ok",
     "timestamp": 1615398792257,
     "user": {
      "displayName": "L.A.K",
      "photoUrl": "https://lh3.googleusercontent.com/a-/AOh14GjwuaaIJMBxd-C-hVJfn1aom04Ryk7Wt0sM-t03=s64",
      "userId": "04026815740573691214"
     },
     "user_tz": -540
    },
    "id": "Iqud36F1bkAN",
    "outputId": "0a9ab463-75e1-438c-e81e-af68f32b0021"
   },
   "outputs": [
    {
     "data": {
      "text/plain": [
       "array([[-0.93974452, -0.80759283, -1.47175194, -1.21679683],\n",
       "       [-0.19070899, -1.0994912 , -1.45093781, -0.1621526 ],\n",
       "       [-0.29676469, -0.70484354, -0.07583155, -2.42494485]])"
      ]
     },
     "execution_count": 60,
     "metadata": {},
     "output_type": "execute_result"
    }
   ],
   "source": [
    "np.log(a)"
   ]
  },
  {
   "cell_type": "markdown",
   "metadata": {},
   "source": [
    "#### 내적계산"
   ]
  },
  {
   "cell_type": "code",
   "execution_count": 90,
   "metadata": {
    "ExecuteTime": {
     "end_time": "2021-03-31T12:22:45.849888Z",
     "start_time": "2021-03-31T12:22:45.844917Z"
    },
    "colab": {
     "base_uri": "https://localhost:8080/"
    },
    "executionInfo": {
     "elapsed": 2595,
     "status": "ok",
     "timestamp": 1615398792257,
     "user": {
      "displayName": "L.A.K",
      "photoUrl": "https://lh3.googleusercontent.com/a-/AOh14GjwuaaIJMBxd-C-hVJfn1aom04Ryk7Wt0sM-t03=s64",
      "userId": "04026815740573691214"
     },
     "user_tz": -540
    },
    "id": "4Ty25rM7dHoz",
    "outputId": "6a5ef682-9885-4f9b-8082-477560aa51e9",
    "scrolled": false
   },
   "outputs": [
    {
     "data": {
      "text/plain": [
       "array([[ 4.99295578, 18.3777366 , 31.76251742],\n",
       "       [ 2.72872121, 10.07647695, 17.42423269],\n",
       "       [ 2.35984673,  7.69935704, 13.03886735]])"
      ]
     },
     "execution_count": 90,
     "metadata": {},
     "output_type": "execute_result"
    }
   ],
   "source": [
    "np.dot(a, b.T)"
   ]
  },
  {
   "cell_type": "markdown",
   "metadata": {
    "id": "pNBE1-I8figP"
   },
   "source": [
    "### 비교 연산"
   ]
  },
  {
   "cell_type": "code",
   "execution_count": 43,
   "metadata": {
    "colab": {
     "base_uri": "https://localhost:8080/"
    },
    "executionInfo": {
     "elapsed": 2590,
     "status": "ok",
     "timestamp": 1615398792258,
     "user": {
      "displayName": "L.A.K",
      "photoUrl": "https://lh3.googleusercontent.com/a-/AOh14GjwuaaIJMBxd-C-hVJfn1aom04Ryk7Wt0sM-t03=s64",
      "userId": "04026815740573691214"
     },
     "user_tz": -540
    },
    "id": "95zDR68LfixV",
    "outputId": "ebcd408f-d002-4eaf-da5a-4ae1d6194414"
   },
   "outputs": [
    {
     "data": {
      "text/plain": [
       "array([[False, False, False, False],\n",
       "       [False, False, False, False],\n",
       "       [False, False, False, False]])"
      ]
     },
     "execution_count": 43,
     "metadata": {
      "tags": []
     },
     "output_type": "execute_result"
    }
   ],
   "source": [
    "# 필터링 할 때 자주 사용. elementwise 방식으로 동작\n",
    "\n",
    "a == b"
   ]
  },
  {
   "cell_type": "code",
   "execution_count": 44,
   "metadata": {
    "colab": {
     "base_uri": "https://localhost:8080/"
    },
    "executionInfo": {
     "elapsed": 2582,
     "status": "ok",
     "timestamp": 1615398792258,
     "user": {
      "displayName": "L.A.K",
      "photoUrl": "https://lh3.googleusercontent.com/a-/AOh14GjwuaaIJMBxd-C-hVJfn1aom04Ryk7Wt0sM-t03=s64",
      "userId": "04026815740573691214"
     },
     "user_tz": -540
    },
    "id": "dMeXtqlSgEhR",
    "outputId": "4d7e6913-8270-4aec-d359-cda5233d2a2e"
   },
   "outputs": [
    {
     "data": {
      "text/plain": [
       "array([[ True,  True,  True,  True],\n",
       "       [ True,  True,  True,  True],\n",
       "       [ True,  True,  True,  True]])"
      ]
     },
     "execution_count": 44,
     "metadata": {
      "tags": []
     },
     "output_type": "execute_result"
    }
   ],
   "source": [
    "a != b"
   ]
  },
  {
   "cell_type": "code",
   "execution_count": 45,
   "metadata": {
    "colab": {
     "base_uri": "https://localhost:8080/"
    },
    "executionInfo": {
     "elapsed": 2576,
     "status": "ok",
     "timestamp": 1615398792259,
     "user": {
      "displayName": "L.A.K",
      "photoUrl": "https://lh3.googleusercontent.com/a-/AOh14GjwuaaIJMBxd-C-hVJfn1aom04Ryk7Wt0sM-t03=s64",
      "userId": "04026815740573691214"
     },
     "user_tz": -540
    },
    "id": "2FUW8z05fxly",
    "outputId": "22d5dc93-288a-46a6-b443-66b1cb4f3e86"
   },
   "outputs": [
    {
     "data": {
      "text/plain": [
       "array([[False, False, False, False],\n",
       "       [False, False,  True,  True],\n",
       "       [ True,  True,  True,  True]])"
      ]
     },
     "execution_count": 45,
     "metadata": {
      "tags": []
     },
     "output_type": "execute_result"
    }
   ],
   "source": [
    "b > 5"
   ]
  },
  {
   "cell_type": "code",
   "execution_count": 46,
   "metadata": {
    "colab": {
     "base_uri": "https://localhost:8080/"
    },
    "executionInfo": {
     "elapsed": 2569,
     "status": "ok",
     "timestamp": 1615398792259,
     "user": {
      "displayName": "L.A.K",
      "photoUrl": "https://lh3.googleusercontent.com/a-/AOh14GjwuaaIJMBxd-C-hVJfn1aom04Ryk7Wt0sM-t03=s64",
      "userId": "04026815740573691214"
     },
     "user_tz": -540
    },
    "id": "XrVGD1FXf05M",
    "outputId": "3bd2fe05-40b6-4216-f37e-d673f167d0ed"
   },
   "outputs": [
    {
     "data": {
      "text/plain": [
       "array([[False, False, False, False],\n",
       "       [False,  True,  True,  True],\n",
       "       [ True,  True,  True,  True]])"
      ]
     },
     "execution_count": 46,
     "metadata": {
      "tags": []
     },
     "output_type": "execute_result"
    }
   ],
   "source": [
    "b >= 5"
   ]
  },
  {
   "cell_type": "code",
   "execution_count": 47,
   "metadata": {
    "colab": {
     "base_uri": "https://localhost:8080/"
    },
    "executionInfo": {
     "elapsed": 2561,
     "status": "ok",
     "timestamp": 1615398792259,
     "user": {
      "displayName": "L.A.K",
      "photoUrl": "https://lh3.googleusercontent.com/a-/AOh14GjwuaaIJMBxd-C-hVJfn1aom04Ryk7Wt0sM-t03=s64",
      "userId": "04026815740573691214"
     },
     "user_tz": -540
    },
    "id": "3H4WJbRjf1B7",
    "outputId": "81427906-52a6-42ed-d271-cfffd1820831"
   },
   "outputs": [
    {
     "data": {
      "text/plain": [
       "array([[ True,  True,  True,  True],\n",
       "       [ True, False, False, False],\n",
       "       [False, False, False, False]])"
      ]
     },
     "execution_count": 47,
     "metadata": {
      "tags": []
     },
     "output_type": "execute_result"
    }
   ],
   "source": [
    "b < 5"
   ]
  },
  {
   "cell_type": "code",
   "execution_count": 48,
   "metadata": {
    "colab": {
     "base_uri": "https://localhost:8080/"
    },
    "executionInfo": {
     "elapsed": 2555,
     "status": "ok",
     "timestamp": 1615398792260,
     "user": {
      "displayName": "L.A.K",
      "photoUrl": "https://lh3.googleusercontent.com/a-/AOh14GjwuaaIJMBxd-C-hVJfn1aom04Ryk7Wt0sM-t03=s64",
      "userId": "04026815740573691214"
     },
     "user_tz": -540
    },
    "id": "ssEiC_YAf02S",
    "outputId": "6709d174-327e-4599-c6c6-54e020e18315"
   },
   "outputs": [
    {
     "data": {
      "text/plain": [
       "array([[ True,  True,  True,  True],\n",
       "       [ True,  True, False, False],\n",
       "       [False, False, False, False]])"
      ]
     },
     "execution_count": 48,
     "metadata": {
      "tags": []
     },
     "output_type": "execute_result"
    }
   ],
   "source": [
    "b <= 5"
   ]
  },
  {
   "cell_type": "markdown",
   "metadata": {
    "id": "T113ZE9igL3y"
   },
   "source": [
    "### Aggregate Function(집계함수)"
   ]
  },
  {
   "cell_type": "markdown",
   "metadata": {
    "id": "DIzHlYlwjLyP"
   },
   "source": [
    "![numpy about axis](https://user-images.githubusercontent.com/45147152/110644693-b399b680-81f8-11eb-8bf4-c411b38bb850.png)\n"
   ]
  },
  {
   "cell_type": "code",
   "execution_count": 109,
   "metadata": {
    "ExecuteTime": {
     "end_time": "2021-03-31T12:40:46.359496Z",
     "start_time": "2021-03-31T12:40:46.352527Z"
    },
    "scrolled": true
   },
   "outputs": [
    {
     "data": {
      "text/plain": [
       "array([[ 0.,  1.,  2.,  3.],\n",
       "       [ 4.,  5.,  6.,  7.],\n",
       "       [ 8.,  9., 10., 11.]], dtype=float32)"
      ]
     },
     "execution_count": 109,
     "metadata": {},
     "output_type": "execute_result"
    }
   ],
   "source": [
    "#b = np.array([[0, 1, 2, 3], [4, 5, 6, 7], [8, 9, 10, 11]])\n",
    "b = np.arange(12, dtype = np.float32).reshape((3, 4))\n",
    "b"
   ]
  },
  {
   "cell_type": "code",
   "execution_count": 110,
   "metadata": {
    "ExecuteTime": {
     "end_time": "2021-03-31T12:40:48.397576Z",
     "start_time": "2021-03-31T12:40:48.382545Z"
    },
    "colab": {
     "base_uri": "https://localhost:8080/"
    },
    "executionInfo": {
     "elapsed": 2898,
     "status": "ok",
     "timestamp": 1615398792610,
     "user": {
      "displayName": "L.A.K",
      "photoUrl": "https://lh3.googleusercontent.com/a-/AOh14GjwuaaIJMBxd-C-hVJfn1aom04Ryk7Wt0sM-t03=s64",
      "userId": "04026815740573691214"
     },
     "user_tz": -540
    },
    "id": "l6Sjq3Cqf0yl",
    "outputId": "efd673b5-069a-40d5-d873-2d9aa2c7fa25"
   },
   "outputs": [
    {
     "data": {
      "text/plain": [
       "66.0"
      ]
     },
     "execution_count": 110,
     "metadata": {},
     "output_type": "execute_result"
    }
   ],
   "source": [
    "# 디폴트로, 배열의 모든 요소를 더한다.\n",
    "# `axis` 매개변수를 조절해서, row 별로 또는 column 별로 요소를 더할 수 있다.\n",
    "np.sum(b) # or b.sum()"
   ]
  },
  {
   "cell_type": "code",
   "execution_count": 111,
   "metadata": {
    "ExecuteTime": {
     "end_time": "2021-03-31T12:40:49.030034Z",
     "start_time": "2021-03-31T12:40:49.025062Z"
    },
    "colab": {
     "base_uri": "https://localhost:8080/"
    },
    "executionInfo": {
     "elapsed": 2891,
     "status": "ok",
     "timestamp": 1615398792610,
     "user": {
      "displayName": "L.A.K",
      "photoUrl": "https://lh3.googleusercontent.com/a-/AOh14GjwuaaIJMBxd-C-hVJfn1aom04Ryk7Wt0sM-t03=s64",
      "userId": "04026815740573691214"
     },
     "user_tz": -540
    },
    "id": "klASJr2Jf0u_",
    "outputId": "1f5ce9cc-4323-4b47-d4f4-858b13a6ae40"
   },
   "outputs": [
    {
     "data": {
      "text/plain": [
       "array([12., 15., 18., 21.], dtype=float32)"
      ]
     },
     "execution_count": 111,
     "metadata": {},
     "output_type": "execute_result"
    }
   ],
   "source": [
    "# axis = 0, row 별로 요소를 더한다.\n",
    "np.sum(b, axis = 0)"
   ]
  },
  {
   "cell_type": "code",
   "execution_count": 112,
   "metadata": {
    "ExecuteTime": {
     "end_time": "2021-03-31T12:40:49.483275Z",
     "start_time": "2021-03-31T12:40:49.477244Z"
    },
    "colab": {
     "base_uri": "https://localhost:8080/"
    },
    "executionInfo": {
     "elapsed": 2885,
     "status": "ok",
     "timestamp": 1615398792611,
     "user": {
      "displayName": "L.A.K",
      "photoUrl": "https://lh3.googleusercontent.com/a-/AOh14GjwuaaIJMBxd-C-hVJfn1aom04Ryk7Wt0sM-t03=s64",
      "userId": "04026815740573691214"
     },
     "user_tz": -540
    },
    "id": "MBft8OAVgw_4",
    "outputId": "daf85e81-29f4-4b93-ae21-39b139ea74f4"
   },
   "outputs": [
    {
     "data": {
      "text/plain": [
       "array([ 6., 22., 38.], dtype=float32)"
      ]
     },
     "execution_count": 112,
     "metadata": {},
     "output_type": "execute_result"
    }
   ],
   "source": [
    "# axis = 1, column 별로 요소를 더한다.\n",
    "np.sum(b, axis = 1)"
   ]
  },
  {
   "cell_type": "code",
   "execution_count": 113,
   "metadata": {
    "ExecuteTime": {
     "end_time": "2021-03-31T12:40:49.949387Z",
     "start_time": "2021-03-31T12:40:49.942387Z"
    },
    "colab": {
     "base_uri": "https://localhost:8080/"
    },
    "executionInfo": {
     "elapsed": 2874,
     "status": "ok",
     "timestamp": 1615398792611,
     "user": {
      "displayName": "L.A.K",
      "photoUrl": "https://lh3.googleusercontent.com/a-/AOh14GjwuaaIJMBxd-C-hVJfn1aom04Ryk7Wt0sM-t03=s64",
      "userId": "04026815740573691214"
     },
     "user_tz": -540
    },
    "id": "XLhxMMTpf0b_",
    "outputId": "f6e7a104-77d7-4b82-9858-94f79bfa3a40"
   },
   "outputs": [
    {
     "data": {
      "text/plain": [
       "0.0"
      ]
     },
     "execution_count": 113,
     "metadata": {},
     "output_type": "execute_result"
    }
   ],
   "source": [
    "# 디폴트로, 배열의 요소중 최소값을 가져온다.\n",
    "# `axis` 매개변수를 조절해서, row 별로 또는 column 별로 최소값을 가져올 수 있다.\n",
    "np.min(b) # b.min()"
   ]
  },
  {
   "cell_type": "code",
   "execution_count": 114,
   "metadata": {
    "ExecuteTime": {
     "end_time": "2021-03-31T12:40:50.369389Z",
     "start_time": "2021-03-31T12:40:50.349419Z"
    },
    "colab": {
     "base_uri": "https://localhost:8080/"
    },
    "executionInfo": {
     "elapsed": 2866,
     "status": "ok",
     "timestamp": 1615398792611,
     "user": {
      "displayName": "L.A.K",
      "photoUrl": "https://lh3.googleusercontent.com/a-/AOh14GjwuaaIJMBxd-C-hVJfn1aom04Ryk7Wt0sM-t03=s64",
      "userId": "04026815740573691214"
     },
     "user_tz": -540
    },
    "id": "d-a43qmmjgFE",
    "outputId": "09e77a19-aaae-4c38-9dfb-92508e3b1934"
   },
   "outputs": [
    {
     "data": {
      "text/plain": [
       "array([0., 1., 2., 3.], dtype=float32)"
      ]
     },
     "execution_count": 114,
     "metadata": {},
     "output_type": "execute_result"
    }
   ],
   "source": [
    "# axis = 0, row 별로 최소값을 가져온다.\n",
    "np.min(b, axis = 0) "
   ]
  },
  {
   "cell_type": "code",
   "execution_count": 115,
   "metadata": {
    "ExecuteTime": {
     "end_time": "2021-03-31T12:40:50.809464Z",
     "start_time": "2021-03-31T12:40:50.798497Z"
    },
    "colab": {
     "base_uri": "https://localhost:8080/"
    },
    "executionInfo": {
     "elapsed": 2860,
     "status": "ok",
     "timestamp": 1615398792612,
     "user": {
      "displayName": "L.A.K",
      "photoUrl": "https://lh3.googleusercontent.com/a-/AOh14GjwuaaIJMBxd-C-hVJfn1aom04Ryk7Wt0sM-t03=s64",
      "userId": "04026815740573691214"
     },
     "user_tz": -540
    },
    "id": "z641E4uMjf_F",
    "outputId": "875cb9fe-6b94-4ee3-db0e-0b5dbc6b9ba1"
   },
   "outputs": [
    {
     "data": {
      "text/plain": [
       "array([0., 4., 8.], dtype=float32)"
      ]
     },
     "execution_count": 115,
     "metadata": {},
     "output_type": "execute_result"
    }
   ],
   "source": [
    "# axis = 1, column 별로 최소값을 가져온다.\n",
    "np.min(b, axis = 1)"
   ]
  },
  {
   "cell_type": "code",
   "execution_count": 116,
   "metadata": {
    "ExecuteTime": {
     "end_time": "2021-03-31T12:40:51.259494Z",
     "start_time": "2021-03-31T12:40:51.245495Z"
    },
    "colab": {
     "base_uri": "https://localhost:8080/"
    },
    "executionInfo": {
     "elapsed": 2853,
     "status": "ok",
     "timestamp": 1615398792612,
     "user": {
      "displayName": "L.A.K",
      "photoUrl": "https://lh3.googleusercontent.com/a-/AOh14GjwuaaIJMBxd-C-hVJfn1aom04Ryk7Wt0sM-t03=s64",
      "userId": "04026815740573691214"
     },
     "user_tz": -540
    },
    "id": "_BuVj6vsjf4o",
    "outputId": "305e9ea7-d1b6-4c7f-ce95-331e21333eb8"
   },
   "outputs": [
    {
     "data": {
      "text/plain": [
       "11.0"
      ]
     },
     "execution_count": 116,
     "metadata": {},
     "output_type": "execute_result"
    }
   ],
   "source": [
    "# 디폴트로, 배열의 요수중 최댓값을 가져온다.\n",
    "# `axis` 매개변수를 조절해서, row 별로 또는 column 별로 최댓값을 가져올 수 있다.\n",
    "np.max(b)"
   ]
  },
  {
   "cell_type": "code",
   "execution_count": 117,
   "metadata": {
    "ExecuteTime": {
     "end_time": "2021-03-31T12:40:51.997580Z",
     "start_time": "2021-03-31T12:40:51.981580Z"
    },
    "colab": {
     "base_uri": "https://localhost:8080/"
    },
    "executionInfo": {
     "elapsed": 2846,
     "status": "ok",
     "timestamp": 1615398792612,
     "user": {
      "displayName": "L.A.K",
      "photoUrl": "https://lh3.googleusercontent.com/a-/AOh14GjwuaaIJMBxd-C-hVJfn1aom04Ryk7Wt0sM-t03=s64",
      "userId": "04026815740573691214"
     },
     "user_tz": -540
    },
    "id": "ALBpbCVqjfsY",
    "outputId": "b0d55b1d-a2b3-44a8-b940-ee88293f90e4"
   },
   "outputs": [
    {
     "data": {
      "text/plain": [
       "array([ 0.,  1.,  3.,  6., 10., 15., 21., 28., 36., 45., 55., 66.],\n",
       "      dtype=float32)"
      ]
     },
     "execution_count": 117,
     "metadata": {},
     "output_type": "execute_result"
    }
   ],
   "source": [
    "# 디폴트로, 배열의 모든 요소의 누적합계를 구한다.\n",
    "# `axis` 매개변수를 조절해서, row 별로 또는 column 별로 누적합계를 구할 수 있다.\n",
    "np.cumsum(b)"
   ]
  },
  {
   "cell_type": "code",
   "execution_count": 118,
   "metadata": {
    "ExecuteTime": {
     "end_time": "2021-03-31T12:40:52.662693Z",
     "start_time": "2021-03-31T12:40:52.645723Z"
    },
    "colab": {
     "base_uri": "https://localhost:8080/"
    },
    "executionInfo": {
     "elapsed": 2841,
     "status": "ok",
     "timestamp": 1615398792613,
     "user": {
      "displayName": "L.A.K",
      "photoUrl": "https://lh3.googleusercontent.com/a-/AOh14GjwuaaIJMBxd-C-hVJfn1aom04Ryk7Wt0sM-t03=s64",
      "userId": "04026815740573691214"
     },
     "user_tz": -540
    },
    "id": "x1L4xagakitH",
    "outputId": "a6eec657-8eda-4282-c613-32724fb96d08"
   },
   "outputs": [
    {
     "data": {
      "text/plain": [
       "5.5"
      ]
     },
     "execution_count": 118,
     "metadata": {},
     "output_type": "execute_result"
    }
   ],
   "source": [
    "# 디폴트로, 배열의 요소에 대한 평균값을 구한다.\n",
    "# `axis` 매개변수를 조절해서, row 별로 또는 column 별로 평균값을 구할 수 있다.\n",
    "np.mean(b)"
   ]
  },
  {
   "cell_type": "code",
   "execution_count": 119,
   "metadata": {
    "ExecuteTime": {
     "end_time": "2021-03-31T12:40:53.505594Z",
     "start_time": "2021-03-31T12:40:53.501591Z"
    },
    "colab": {
     "base_uri": "https://localhost:8080/"
    },
    "executionInfo": {
     "elapsed": 2834,
     "status": "ok",
     "timestamp": 1615398792613,
     "user": {
      "displayName": "L.A.K",
      "photoUrl": "https://lh3.googleusercontent.com/a-/AOh14GjwuaaIJMBxd-C-hVJfn1aom04Ryk7Wt0sM-t03=s64",
      "userId": "04026815740573691214"
     },
     "user_tz": -540
    },
    "id": "sYxXMgNDkikV",
    "outputId": "dc31a1b5-0850-4418-b18a-4a34274e899a"
   },
   "outputs": [
    {
     "data": {
      "text/plain": [
       "5.5"
      ]
     },
     "execution_count": 119,
     "metadata": {},
     "output_type": "execute_result"
    }
   ],
   "source": [
    "# 디폴트로, 배열의 요소에 대한 중간값을 구한다.\n",
    "# `axis` 매개변수를 조절해서, row 별로 또는 column 별로 중간값을 구할 수 있다.\n",
    "np.median(b)"
   ]
  },
  {
   "cell_type": "code",
   "execution_count": 120,
   "metadata": {
    "ExecuteTime": {
     "end_time": "2021-03-31T12:40:53.959292Z",
     "start_time": "2021-03-31T12:40:53.949256Z"
    },
    "colab": {
     "base_uri": "https://localhost:8080/"
    },
    "executionInfo": {
     "elapsed": 2828,
     "status": "ok",
     "timestamp": 1615398792614,
     "user": {
      "displayName": "L.A.K",
      "photoUrl": "https://lh3.googleusercontent.com/a-/AOh14GjwuaaIJMBxd-C-hVJfn1aom04Ryk7Wt0sM-t03=s64",
      "userId": "04026815740573691214"
     },
     "user_tz": -540
    },
    "id": "32b0QyQCkiYV",
    "outputId": "031b02ef-dec7-40fa-c8bd-5ba6f5da74e7"
   },
   "outputs": [
    {
     "data": {
      "text/plain": [
       "3.4520526"
      ]
     },
     "execution_count": 120,
     "metadata": {},
     "output_type": "execute_result"
    }
   ],
   "source": [
    "# 디폴트로, 배열의 요소에 대한 표준편차를 구한다.\n",
    "# `axis` 매개변수를 조절해서, row 별로 또는 column 별로 표준편차를 구할 수 있다.\n",
    "np.std(b)"
   ]
  },
  {
   "cell_type": "code",
   "execution_count": 121,
   "metadata": {
    "ExecuteTime": {
     "end_time": "2021-03-31T12:40:54.909428Z",
     "start_time": "2021-03-31T12:40:54.901427Z"
    },
    "colab": {
     "base_uri": "https://localhost:8080/"
    },
    "executionInfo": {
     "elapsed": 2821,
     "status": "ok",
     "timestamp": 1615398792614,
     "user": {
      "displayName": "L.A.K",
      "photoUrl": "https://lh3.googleusercontent.com/a-/AOh14GjwuaaIJMBxd-C-hVJfn1aom04Ryk7Wt0sM-t03=s64",
      "userId": "04026815740573691214"
     },
     "user_tz": -540
    },
    "id": "OFGHXZ0NJSow",
    "outputId": "c5868ed4-fb26-4138-89f8-08fc275b6643"
   },
   "outputs": [
    {
     "data": {
      "text/plain": [
       "0.0"
      ]
     },
     "execution_count": 121,
     "metadata": {},
     "output_type": "execute_result"
    }
   ],
   "source": [
    "# 백분위수(percentile)를 이용해서, 1사분위수, ..., 4사분위수를 구할 수 있다.\n",
    "# 4사분위수란? 전체 데이터중 1/4위치의 데이터를 뜻함.\n",
    "\n",
    "np.percentile(b, 0) # 최소값"
   ]
  },
  {
   "cell_type": "code",
   "execution_count": 122,
   "metadata": {
    "ExecuteTime": {
     "end_time": "2021-03-31T12:40:55.599898Z",
     "start_time": "2021-03-31T12:40:55.589895Z"
    },
    "colab": {
     "base_uri": "https://localhost:8080/"
    },
    "executionInfo": {
     "elapsed": 2814,
     "status": "ok",
     "timestamp": 1615398792614,
     "user": {
      "displayName": "L.A.K",
      "photoUrl": "https://lh3.googleusercontent.com/a-/AOh14GjwuaaIJMBxd-C-hVJfn1aom04Ryk7Wt0sM-t03=s64",
      "userId": "04026815740573691214"
     },
     "user_tz": -540
    },
    "id": "xBiLSuQ6JyT0",
    "outputId": "788fa09f-7038-4d65-8d85-711b6cda89e7"
   },
   "outputs": [
    {
     "data": {
      "text/plain": [
       "5.5"
      ]
     },
     "execution_count": 122,
     "metadata": {},
     "output_type": "execute_result"
    }
   ],
   "source": [
    "np.percentile(b, 50) # 2사분위수"
   ]
  },
  {
   "cell_type": "code",
   "execution_count": 123,
   "metadata": {
    "ExecuteTime": {
     "end_time": "2021-03-31T12:40:56.984575Z",
     "start_time": "2021-03-31T12:40:56.973575Z"
    },
    "colab": {
     "base_uri": "https://localhost:8080/"
    },
    "executionInfo": {
     "elapsed": 2808,
     "status": "ok",
     "timestamp": 1615398792615,
     "user": {
      "displayName": "L.A.K",
      "photoUrl": "https://lh3.googleusercontent.com/a-/AOh14GjwuaaIJMBxd-C-hVJfn1aom04Ryk7Wt0sM-t03=s64",
      "userId": "04026815740573691214"
     },
     "user_tz": -540
    },
    "id": "764_S8usJyMt",
    "outputId": "e76ff4bd-f8b2-41f4-8ac6-632081b6ddd5"
   },
   "outputs": [
    {
     "data": {
      "text/plain": [
       "11.0"
      ]
     },
     "execution_count": 123,
     "metadata": {},
     "output_type": "execute_result"
    }
   ],
   "source": [
    "np.percentile(b, 100) # 최댓값"
   ]
  },
  {
   "cell_type": "markdown",
   "metadata": {
    "id": "CIobl3NblmTN"
   },
   "source": [
    "## Numpy의 Copy 3가지"
   ]
  },
  {
   "cell_type": "code",
   "execution_count": 145,
   "metadata": {
    "ExecuteTime": {
     "end_time": "2021-03-31T12:53:22.726756Z",
     "start_time": "2021-03-31T12:53:22.708725Z"
    },
    "colab": {
     "base_uri": "https://localhost:8080/"
    },
    "executionInfo": {
     "elapsed": 2801,
     "status": "ok",
     "timestamp": 1615398792615,
     "user": {
      "displayName": "L.A.K",
      "photoUrl": "https://lh3.googleusercontent.com/a-/AOh14GjwuaaIJMBxd-C-hVJfn1aom04Ryk7Wt0sM-t03=s64",
      "userId": "04026815740573691214"
     },
     "user_tz": -540
    },
    "id": "ymz94iRulohV",
    "outputId": "49a7cc9a-3e69-42ca-abf3-49d8811604e2"
   },
   "outputs": [
    {
     "data": {
      "text/plain": [
       "array([[ 0.,  1.,  2.,  3.,  4.],\n",
       "       [ 5.,  6.,  7.,  8.,  9.],\n",
       "       [10., 11., 12., 13., 14.],\n",
       "       [15., 16., 17., 18., 19.],\n",
       "       [20., 21., 22., 23., 24.]], dtype=float32)"
      ]
     },
     "execution_count": 145,
     "metadata": {},
     "output_type": "execute_result"
    }
   ],
   "source": [
    "c = np.arange(25, dtype = np.float32).reshape((5, 5))\n",
    "\n",
    "# ndarray를 어떤 변수에 할당한다고 해보자.\n",
    "tmp = c\n",
    "tmp"
   ]
  },
  {
   "cell_type": "markdown",
   "metadata": {},
   "source": [
    "### No Copy at All"
   ]
  },
  {
   "cell_type": "code",
   "execution_count": 146,
   "metadata": {
    "ExecuteTime": {
     "end_time": "2021-03-31T12:53:24.452141Z",
     "start_time": "2021-03-31T12:53:24.437141Z"
    }
   },
   "outputs": [
    {
     "data": {
      "text/plain": [
       "array([[ 0.,  1.,  2.,  3.,  4.],\n",
       "       [ 5.,  6.,  7.,  8.,  9.],\n",
       "       [10., 11., 12., 13., 14.],\n",
       "       [15., 16., 17., 18., 19.],\n",
       "       [20., 21., 22., 23., 24.]], dtype=float32)"
      ]
     },
     "execution_count": 146,
     "metadata": {},
     "output_type": "execute_result"
    }
   ],
   "source": [
    "tmp = c.view()\n",
    "tmp"
   ]
  },
  {
   "cell_type": "code",
   "execution_count": 147,
   "metadata": {
    "ExecuteTime": {
     "end_time": "2021-03-31T12:53:25.190049Z",
     "start_time": "2021-03-31T12:53:25.177081Z"
    }
   },
   "outputs": [
    {
     "name": "stdout",
     "output_type": "stream",
     "text": [
      "[[ 0.  1.  2.  3.  4.]\n",
      " [ 5.  6.  7.  8.  9.]\n",
      " [10. 11. 12. 13. 14.]\n",
      " [15. 16. 17. 18. 19.]\n",
      " [20. 21. 22. 23. 24.]]\n",
      "[[ 0.  1.  2.  3.  4.]\n",
      " [ 5.  6.  7.  8.  9.]\n",
      " [10. 11. 12. 13. 14.]\n",
      " [15. 16. 17. 18. 19.]\n",
      " [20. 21. 22. 23. 24.]]\n",
      "1990264461312\n",
      "1990264461152\n"
     ]
    }
   ],
   "source": [
    "print(tmp)\n",
    "print(c)\n",
    "print(id(tmp))\n",
    "print(id(c))"
   ]
  },
  {
   "cell_type": "code",
   "execution_count": 148,
   "metadata": {
    "ExecuteTime": {
     "end_time": "2021-03-31T12:53:26.168961Z",
     "start_time": "2021-03-31T12:53:26.165958Z"
    },
    "colab": {
     "base_uri": "https://localhost:8080/"
    },
    "executionInfo": {
     "elapsed": 2795,
     "status": "ok",
     "timestamp": 1615398792616,
     "user": {
      "displayName": "L.A.K",
      "photoUrl": "https://lh3.googleusercontent.com/a-/AOh14GjwuaaIJMBxd-C-hVJfn1aom04Ryk7Wt0sM-t03=s64",
      "userId": "04026815740573691214"
     },
     "user_tz": -540
    },
    "id": "szr9R4QSlofO",
    "outputId": "1f13db87-a401-486d-8b68-5cbd7c7ded6b"
   },
   "outputs": [
    {
     "data": {
      "text/plain": [
       "False"
      ]
     },
     "execution_count": 148,
     "metadata": {},
     "output_type": "execute_result"
    }
   ],
   "source": [
    "id(tmp) == id(c)"
   ]
  },
  {
   "cell_type": "markdown",
   "metadata": {},
   "source": [
    "### Shadow Copy"
   ]
  },
  {
   "cell_type": "code",
   "execution_count": 149,
   "metadata": {
    "ExecuteTime": {
     "end_time": "2021-03-31T12:53:28.478379Z",
     "start_time": "2021-03-31T12:53:28.461346Z"
    }
   },
   "outputs": [
    {
     "data": {
      "text/plain": [
       "array([[ 0.,  1.,  2.,  3.,  4.],\n",
       "       [ 5.,  6.,  7.,  8.,  9.],\n",
       "       [10., 11., 12., 13., 14.],\n",
       "       [15., 16., 17., 18., 19.],\n",
       "       [20., 21., 22., 23., 24.]], dtype=float32)"
      ]
     },
     "execution_count": 149,
     "metadata": {},
     "output_type": "execute_result"
    }
   ],
   "source": [
    "tmp = c\n",
    "tmp"
   ]
  },
  {
   "cell_type": "code",
   "execution_count": 150,
   "metadata": {
    "ExecuteTime": {
     "end_time": "2021-03-31T12:53:30.985100Z",
     "start_time": "2021-03-31T12:53:30.973105Z"
    }
   },
   "outputs": [
    {
     "name": "stdout",
     "output_type": "stream",
     "text": [
      "1990264461152\n",
      "1990264461152\n"
     ]
    }
   ],
   "source": [
    "print(id(tmp))\n",
    "print(id(c))"
   ]
  },
  {
   "cell_type": "code",
   "execution_count": 151,
   "metadata": {
    "ExecuteTime": {
     "end_time": "2021-03-31T12:53:36.844993Z",
     "start_time": "2021-03-31T12:53:36.829004Z"
    }
   },
   "outputs": [
    {
     "data": {
      "text/plain": [
       "True"
      ]
     },
     "execution_count": 151,
     "metadata": {},
     "output_type": "execute_result"
    }
   ],
   "source": [
    "id(tmp) == id(c)"
   ]
  },
  {
   "cell_type": "code",
   "execution_count": 152,
   "metadata": {
    "ExecuteTime": {
     "end_time": "2021-03-31T12:53:58.302093Z",
     "start_time": "2021-03-31T12:53:58.293094Z"
    },
    "colab": {
     "base_uri": "https://localhost:8080/"
    },
    "executionInfo": {
     "elapsed": 2788,
     "status": "ok",
     "timestamp": 1615398792616,
     "user": {
      "displayName": "L.A.K",
      "photoUrl": "https://lh3.googleusercontent.com/a-/AOh14GjwuaaIJMBxd-C-hVJfn1aom04Ryk7Wt0sM-t03=s64",
      "userId": "04026815740573691214"
     },
     "user_tz": -540
    },
    "id": "4O8pJNPmsadB",
    "outputId": "76f66fcc-234e-4a6c-9ee7-52d9962f75ed"
   },
   "outputs": [
    {
     "name": "stdout",
     "output_type": "stream",
     "text": [
      "tmp :\n",
      " [[-1.  1.  2.  3.  4.]\n",
      " [ 5.  6.  7.  8.  9.]\n",
      " [10. 11. 12. 13. 14.]\n",
      " [15. 16. 17. 18. 19.]\n",
      " [20. 21. 22. 23. 24.]]\n",
      "c :\n",
      " [[-1.  1.  2.  3.  4.]\n",
      " [ 5.  6.  7.  8.  9.]\n",
      " [10. 11. 12. 13. 14.]\n",
      " [15. 16. 17. 18. 19.]\n",
      " [20. 21. 22. 23. 24.]]\n"
     ]
    }
   ],
   "source": [
    "# 주소를 공유하고 있기 때문에\n",
    "# tmp의 값을 변경하면, c의 값도 변경된다.\n",
    "tmp[0][0] = -1\n",
    "\n",
    "print('tmp :\\n', tmp)\n",
    "print('c :\\n', c)"
   ]
  },
  {
   "cell_type": "markdown",
   "metadata": {},
   "source": [
    "### Deep Copy\n",
    "- 원본 배열에 영향을 끼치지 않고 동일한 배열을 만들고 싶다면 deep copy를 해야 한다."
   ]
  },
  {
   "cell_type": "code",
   "execution_count": 153,
   "metadata": {
    "ExecuteTime": {
     "end_time": "2021-03-31T12:54:24.163552Z",
     "start_time": "2021-03-31T12:54:24.149552Z"
    },
    "colab": {
     "base_uri": "https://localhost:8080/"
    },
    "executionInfo": {
     "elapsed": 2781,
     "status": "ok",
     "timestamp": 1615398792616,
     "user": {
      "displayName": "L.A.K",
      "photoUrl": "https://lh3.googleusercontent.com/a-/AOh14GjwuaaIJMBxd-C-hVJfn1aom04Ryk7Wt0sM-t03=s64",
      "userId": "04026815740573691214"
     },
     "user_tz": -540
    },
    "id": "yfgb0bcEsaZ5",
    "outputId": "cba8a85e-9a60-4c7e-ea4c-f3391807a847"
   },
   "outputs": [
    {
     "data": {
      "text/plain": [
       "False"
      ]
     },
     "execution_count": 153,
     "metadata": {},
     "output_type": "execute_result"
    }
   ],
   "source": [
    "\n",
    "\n",
    "tmp = c.copy()\n",
    "id(tmp) == id(c)"
   ]
  },
  {
   "cell_type": "code",
   "execution_count": 154,
   "metadata": {
    "ExecuteTime": {
     "end_time": "2021-03-31T12:54:26.109913Z",
     "start_time": "2021-03-31T12:54:26.100883Z"
    },
    "colab": {
     "base_uri": "https://localhost:8080/"
    },
    "executionInfo": {
     "elapsed": 2775,
     "status": "ok",
     "timestamp": 1615398792617,
     "user": {
      "displayName": "L.A.K",
      "photoUrl": "https://lh3.googleusercontent.com/a-/AOh14GjwuaaIJMBxd-C-hVJfn1aom04Ryk7Wt0sM-t03=s64",
      "userId": "04026815740573691214"
     },
     "user_tz": -540
    },
    "id": "j9k7mg5EsaTv",
    "outputId": "e26927dc-edd0-4918-9ebd-b6e43716ddc4"
   },
   "outputs": [
    {
     "name": "stdout",
     "output_type": "stream",
     "text": [
      "tmp :\n",
      " [[-9.  1.  2.  3.  4.]\n",
      " [ 5.  6.  7.  8.  9.]\n",
      " [10. 11. 12. 13. 14.]\n",
      " [15. 16. 17. 18. 19.]\n",
      " [20. 21. 22. 23. 24.]]\n",
      "c :\n",
      " [[-1.  1.  2.  3.  4.]\n",
      " [ 5.  6.  7.  8.  9.]\n",
      " [10. 11. 12. 13. 14.]\n",
      " [15. 16. 17. 18. 19.]\n",
      " [20. 21. 22. 23. 24.]]\n"
     ]
    }
   ],
   "source": [
    "# 주소를 공유하고 있지 않기 때문에\n",
    "# tmp의 값을 변경하더라도, b의 값은 변경되지 않는다.\n",
    "\n",
    "tmp[0][0] = -9\n",
    "\n",
    "print('tmp :\\n', tmp)\n",
    "print('c :\\n', c)"
   ]
  },
  {
   "cell_type": "markdown",
   "metadata": {
    "id": "wREpVhT3tsEw"
   },
   "source": [
    "## Numpy의 슬라이싱, 인덱싱, 정렬"
   ]
  },
  {
   "cell_type": "markdown",
   "metadata": {
    "id": "maLwyjq4uC4u"
   },
   "source": [
    "### 슬라이싱"
   ]
  },
  {
   "cell_type": "code",
   "execution_count": 155,
   "metadata": {
    "ExecuteTime": {
     "end_time": "2021-03-31T13:11:22.645860Z",
     "start_time": "2021-03-31T13:11:22.629860Z"
    },
    "colab": {
     "base_uri": "https://localhost:8080/"
    },
    "executionInfo": {
     "elapsed": 2768,
     "status": "ok",
     "timestamp": 1615398792617,
     "user": {
      "displayName": "L.A.K",
      "photoUrl": "https://lh3.googleusercontent.com/a-/AOh14GjwuaaIJMBxd-C-hVJfn1aom04Ryk7Wt0sM-t03=s64",
      "userId": "04026815740573691214"
     },
     "user_tz": -540
    },
    "id": "sTm-BFSBtseT",
    "outputId": "f1d94d33-f696-4c45-febd-3f8b465e5d61"
   },
   "outputs": [
    {
     "data": {
      "text/plain": [
       "array([0, 1])"
      ]
     },
     "execution_count": 155,
     "metadata": {},
     "output_type": "execute_result"
    }
   ],
   "source": [
    "# 파이썬의 List와 같은 슬라이싱을 제공한다.\n",
    "\n",
    "d = np.arange(3)\n",
    "d[0:2]"
   ]
  },
  {
   "cell_type": "markdown",
   "metadata": {
    "id": "79taNNbv6HwN"
   },
   "source": [
    "![slicing1](https://user-images.githubusercontent.com/45147152/110660254-b7343a00-8206-11eb-8224-668afa80377a.png)\n"
   ]
  },
  {
   "cell_type": "code",
   "execution_count": 156,
   "metadata": {
    "ExecuteTime": {
     "end_time": "2021-03-31T13:11:24.193946Z",
     "start_time": "2021-03-31T13:11:24.188945Z"
    },
    "colab": {
     "base_uri": "https://localhost:8080/"
    },
    "executionInfo": {
     "elapsed": 2761,
     "status": "ok",
     "timestamp": 1615398792618,
     "user": {
      "displayName": "L.A.K",
      "photoUrl": "https://lh3.googleusercontent.com/a-/AOh14GjwuaaIJMBxd-C-hVJfn1aom04Ryk7Wt0sM-t03=s64",
      "userId": "04026815740573691214"
     },
     "user_tz": -540
    },
    "id": "KQnHJDliuVz_",
    "outputId": "8b434405-8ae5-40ee-97f0-2afb8e9b441d"
   },
   "outputs": [
    {
     "data": {
      "text/plain": [
       "array([[0, 1, 2],\n",
       "       [3, 4, 5]])"
      ]
     },
     "execution_count": 156,
     "metadata": {},
     "output_type": "execute_result"
    }
   ],
   "source": [
    "# 파이썬의 List와 다르게, 축(axis)별로 슬라이싱이 가능하다.\n",
    "# `,`를 기준으로 슬라이싱을 하면 된다.\n",
    "\n",
    "e = np.arange(9).reshape((3, 3))\n",
    "e[0:2, :] # or e[0:2]"
   ]
  },
  {
   "cell_type": "markdown",
   "metadata": {
    "id": "N1LiYLDu60HV"
   },
   "source": [
    "![slicing3](https://user-images.githubusercontent.com/45147152/110660681-24e06600-8207-11eb-8006-79a75b17351a.png)\n"
   ]
  },
  {
   "cell_type": "code",
   "execution_count": 157,
   "metadata": {
    "ExecuteTime": {
     "end_time": "2021-03-31T13:11:26.337863Z",
     "start_time": "2021-03-31T13:11:26.325832Z"
    },
    "colab": {
     "base_uri": "https://localhost:8080/"
    },
    "executionInfo": {
     "elapsed": 2754,
     "status": "ok",
     "timestamp": 1615398792618,
     "user": {
      "displayName": "L.A.K",
      "photoUrl": "https://lh3.googleusercontent.com/a-/AOh14GjwuaaIJMBxd-C-hVJfn1aom04Ryk7Wt0sM-t03=s64",
      "userId": "04026815740573691214"
     },
     "user_tz": -540
    },
    "id": "jBEnWfecuVxP",
    "outputId": "e3a97d9b-7024-471e-e5a0-1e26a269a8ca"
   },
   "outputs": [
    {
     "data": {
      "text/plain": [
       "array([[0, 1],\n",
       "       [3, 4],\n",
       "       [6, 7]])"
      ]
     },
     "execution_count": 157,
     "metadata": {},
     "output_type": "execute_result"
    }
   ],
   "source": [
    "e[:, 0:2]"
   ]
  },
  {
   "cell_type": "markdown",
   "metadata": {
    "id": "jgCF3o9B6hQc"
   },
   "source": [
    "![slicing2](https://user-images.githubusercontent.com/45147152/110660481-f498c780-8206-11eb-8f92-3aef78da9cc9.png)\n"
   ]
  },
  {
   "cell_type": "code",
   "execution_count": 158,
   "metadata": {
    "ExecuteTime": {
     "end_time": "2021-03-31T13:11:29.027163Z",
     "start_time": "2021-03-31T13:11:29.015161Z"
    },
    "colab": {
     "base_uri": "https://localhost:8080/"
    },
    "executionInfo": {
     "elapsed": 2748,
     "status": "ok",
     "timestamp": 1615398792619,
     "user": {
      "displayName": "L.A.K",
      "photoUrl": "https://lh3.googleusercontent.com/a-/AOh14GjwuaaIJMBxd-C-hVJfn1aom04Ryk7Wt0sM-t03=s64",
      "userId": "04026815740573691214"
     },
     "user_tz": -540
    },
    "id": "LvIfbAoauVtE",
    "outputId": "c0a912c4-c1ac-435d-a7ee-6e105b3f1596"
   },
   "outputs": [
    {
     "data": {
      "text/plain": [
       "array([2, 5, 8])"
      ]
     },
     "execution_count": 158,
     "metadata": {},
     "output_type": "execute_result"
    }
   ],
   "source": [
    "e[:, 2]"
   ]
  },
  {
   "cell_type": "markdown",
   "metadata": {
    "id": "lFhBL-W262bD"
   },
   "source": [
    "![slicing4](https://user-images.githubusercontent.com/45147152/110660786-404b7100-8207-11eb-8033-5d654a72e660.png)"
   ]
  },
  {
   "cell_type": "code",
   "execution_count": 72,
   "metadata": {
    "colab": {
     "base_uri": "https://localhost:8080/"
    },
    "executionInfo": {
     "elapsed": 2741,
     "status": "ok",
     "timestamp": 1615398792619,
     "user": {
      "displayName": "L.A.K",
      "photoUrl": "https://lh3.googleusercontent.com/a-/AOh14GjwuaaIJMBxd-C-hVJfn1aom04Ryk7Wt0sM-t03=s64",
      "userId": "04026815740573691214"
     },
     "user_tz": -540
    },
    "id": "z6FeAi7guVZ3",
    "outputId": "4033f81f-4bb6-44ef-bf32-94baa5106235"
   },
   "outputs": [
    {
     "data": {
      "text/plain": [
       "array([[8, 7, 6],\n",
       "       [5, 4, 3],\n",
       "       [2, 1, 0]])"
      ]
     },
     "execution_count": 72,
     "metadata": {
      "tags": []
     },
     "output_type": "execute_result"
    }
   ],
   "source": [
    "# 행기준으로 뒤집고, 열기준으로 뒤집는 것도 가능하다.\n",
    "e[::-1, ::-1]"
   ]
  },
  {
   "cell_type": "markdown",
   "metadata": {
    "id": "aE3O5cc5xMdN"
   },
   "source": [
    "### boolean 인덱싱"
   ]
  },
  {
   "cell_type": "code",
   "execution_count": 161,
   "metadata": {
    "ExecuteTime": {
     "end_time": "2021-03-31T13:12:17.116108Z",
     "start_time": "2021-03-31T13:12:17.101136Z"
    },
    "colab": {
     "base_uri": "https://localhost:8080/"
    },
    "executionInfo": {
     "elapsed": 2735,
     "status": "ok",
     "timestamp": 1615398792620,
     "user": {
      "displayName": "L.A.K",
      "photoUrl": "https://lh3.googleusercontent.com/a-/AOh14GjwuaaIJMBxd-C-hVJfn1aom04Ryk7Wt0sM-t03=s64",
      "userId": "04026815740573691214"
     },
     "user_tz": -540
    },
    "id": "jKZ40MGDxNFd",
    "outputId": "45ab76a1-230e-4756-8b87-c5e0b89bf2dc"
   },
   "outputs": [
    {
     "data": {
      "text/plain": [
       "array([[0, 1, 2],\n",
       "       [3, 4, 5],\n",
       "       [6, 7, 8]])"
      ]
     },
     "execution_count": 161,
     "metadata": {},
     "output_type": "execute_result"
    }
   ],
   "source": [
    "# Numpy의 비교 연산을 이용해서 필터링을 할 수 있다.\n",
    "f = np.arange(9).reshape((3, 3))\n",
    "f"
   ]
  },
  {
   "cell_type": "code",
   "execution_count": 162,
   "metadata": {
    "ExecuteTime": {
     "end_time": "2021-03-31T13:12:30.861110Z",
     "start_time": "2021-03-31T13:12:30.845110Z"
    },
    "colab": {
     "base_uri": "https://localhost:8080/"
    },
    "executionInfo": {
     "elapsed": 2728,
     "status": "ok",
     "timestamp": 1615398792620,
     "user": {
      "displayName": "L.A.K",
      "photoUrl": "https://lh3.googleusercontent.com/a-/AOh14GjwuaaIJMBxd-C-hVJfn1aom04Ryk7Wt0sM-t03=s64",
      "userId": "04026815740573691214"
     },
     "user_tz": -540
    },
    "id": "LxXWmxO8xQcK",
    "outputId": "fe7d7dab-db7f-4f62-918d-f14043e0c669"
   },
   "outputs": [
    {
     "data": {
      "text/plain": [
       "array([0, 1, 2, 3])"
      ]
     },
     "execution_count": 162,
     "metadata": {},
     "output_type": "execute_result"
    }
   ],
   "source": [
    "f[f < 4]"
   ]
  },
  {
   "cell_type": "markdown",
   "metadata": {
    "id": "oklL-pyT7Mor"
   },
   "source": [
    "![slicing5](https://user-images.githubusercontent.com/45147152/110660897-5eb16c80-8207-11eb-83c0-537eb6af5255.png)"
   ]
  },
  {
   "cell_type": "code",
   "execution_count": 165,
   "metadata": {
    "ExecuteTime": {
     "end_time": "2021-03-31T13:13:15.186218Z",
     "start_time": "2021-03-31T13:13:15.181247Z"
    },
    "colab": {
     "base_uri": "https://localhost:8080/"
    },
    "executionInfo": {
     "elapsed": 2722,
     "status": "ok",
     "timestamp": 1615398792621,
     "user": {
      "displayName": "L.A.K",
      "photoUrl": "https://lh3.googleusercontent.com/a-/AOh14GjwuaaIJMBxd-C-hVJfn1aom04Ryk7Wt0sM-t03=s64",
      "userId": "04026815740573691214"
     },
     "user_tz": -540
    },
    "id": "xxOoRtDYx6bT",
    "outputId": "e89f664b-0cad-45b0-9076-7820a2376335"
   },
   "outputs": [
    {
     "data": {
      "text/plain": [
       "array([6, 7, 8])"
      ]
     },
     "execution_count": 165,
     "metadata": {},
     "output_type": "execute_result"
    }
   ],
   "source": [
    "f[f > 5]"
   ]
  },
  {
   "cell_type": "markdown",
   "metadata": {
    "id": "w5ptPUiqxQAL"
   },
   "source": [
    "### Fancy 인덱싱"
   ]
  },
  {
   "cell_type": "code",
   "execution_count": 166,
   "metadata": {
    "ExecuteTime": {
     "end_time": "2021-03-31T13:13:54.131030Z",
     "start_time": "2021-03-31T13:13:54.127030Z"
    },
    "colab": {
     "base_uri": "https://localhost:8080/"
    },
    "executionInfo": {
     "elapsed": 2715,
     "status": "ok",
     "timestamp": 1615398792621,
     "user": {
      "displayName": "L.A.K",
      "photoUrl": "https://lh3.googleusercontent.com/a-/AOh14GjwuaaIJMBxd-C-hVJfn1aom04Ryk7Wt0sM-t03=s64",
      "userId": "04026815740573691214"
     },
     "user_tz": -540
    },
    "id": "6y1Dt_5kxQvh",
    "outputId": "49b7dbed-b176-41f9-8ce4-af37badcf2d0"
   },
   "outputs": [
    {
     "data": {
      "text/plain": [
       "array([[ 0,  1,  2,  3],\n",
       "       [ 4,  5,  6,  7],\n",
       "       [ 8,  9, 10, 11]])"
      ]
     },
     "execution_count": 166,
     "metadata": {},
     "output_type": "execute_result"
    }
   ],
   "source": [
    "# 슬라이싱을 사용해서 인덱싱을 하는 것 뿐만 아니라\n",
    "# List와 `,`를 이용해서 원하는 요소를 인덱싱할 수 있다.\n",
    "# 그리고 앞에서 배운 boolean 인덱싱도 이용할 수 있다.\n",
    "\n",
    "g = np.arange(12).reshape((3, 4))\n",
    "g"
   ]
  },
  {
   "cell_type": "code",
   "execution_count": 167,
   "metadata": {
    "ExecuteTime": {
     "end_time": "2021-03-31T13:14:35.576470Z",
     "start_time": "2021-03-31T13:14:35.557469Z"
    },
    "colab": {
     "base_uri": "https://localhost:8080/"
    },
    "executionInfo": {
     "elapsed": 2708,
     "status": "ok",
     "timestamp": 1615398792621,
     "user": {
      "displayName": "L.A.K",
      "photoUrl": "https://lh3.googleusercontent.com/a-/AOh14GjwuaaIJMBxd-C-hVJfn1aom04Ryk7Wt0sM-t03=s64",
      "userId": "04026815740573691214"
     },
     "user_tz": -540
    },
    "id": "4tsvhMpj0DT1",
    "outputId": "46141dad-6322-4949-badb-cd96ca7a0770"
   },
   "outputs": [
    {
     "data": {
      "text/plain": [
       "array([[4, 5, 6, 7],\n",
       "       [0, 1, 2, 3]])"
      ]
     },
     "execution_count": 167,
     "metadata": {},
     "output_type": "execute_result"
    }
   ],
   "source": [
    "# g의 두 번째 행, 첫 번째 행 전체 출력\n",
    "g[[1, 0], :]"
   ]
  },
  {
   "cell_type": "markdown",
   "metadata": {
    "id": "tNufMOTi7gxs"
   },
   "source": [
    "![slicing6](https://user-images.githubusercontent.com/45147152/110661098-902a3800-8207-11eb-999f-e8c514d72b74.png)"
   ]
  },
  {
   "cell_type": "code",
   "execution_count": 168,
   "metadata": {
    "ExecuteTime": {
     "end_time": "2021-03-31T13:14:55.329331Z",
     "start_time": "2021-03-31T13:14:55.325331Z"
    }
   },
   "outputs": [
    {
     "data": {
      "text/plain": [
       "array([[8, 9],\n",
       "       [0, 1]])"
      ]
     },
     "execution_count": 168,
     "metadata": {},
     "output_type": "execute_result"
    }
   ],
   "source": [
    "g[[2, 0], :2]"
   ]
  },
  {
   "cell_type": "code",
   "execution_count": 78,
   "metadata": {
    "colab": {
     "base_uri": "https://localhost:8080/"
    },
    "executionInfo": {
     "elapsed": 2702,
     "status": "ok",
     "timestamp": 1615398792622,
     "user": {
      "displayName": "L.A.K",
      "photoUrl": "https://lh3.googleusercontent.com/a-/AOh14GjwuaaIJMBxd-C-hVJfn1aom04Ryk7Wt0sM-t03=s64",
      "userId": "04026815740573691214"
     },
     "user_tz": -540
    },
    "id": "yH8oTegS0qIm",
    "outputId": "062fcd86-3edc-4f0b-a568-da03803d37c6"
   },
   "outputs": [
    {
     "data": {
      "text/plain": [
       "array([[ 1,  3],\n",
       "       [ 5,  7],\n",
       "       [ 9, 11]])"
      ]
     },
     "execution_count": 78,
     "metadata": {
      "tags": []
     },
     "output_type": "execute_result"
    }
   ],
   "source": [
    "# g의 2, 4열의 요소만 추출\n",
    "g[:, [False, True, False, True]]"
   ]
  },
  {
   "cell_type": "code",
   "execution_count": 170,
   "metadata": {
    "ExecuteTime": {
     "end_time": "2021-03-31T13:16:16.802574Z",
     "start_time": "2021-03-31T13:16:16.798573Z"
    }
   },
   "outputs": [
    {
     "data": {
      "text/plain": [
       "array([[ 1,  3],\n",
       "       [ 5,  7],\n",
       "       [ 9, 11]])"
      ]
     },
     "execution_count": 170,
     "metadata": {},
     "output_type": "execute_result"
    }
   ],
   "source": [
    "g[:, [1, 3]]"
   ]
  },
  {
   "cell_type": "markdown",
   "metadata": {
    "id": "Q6kViUAs8UfA"
   },
   "source": [
    "![slicing7](https://user-images.githubusercontent.com/45147152/110661576-0fb80700-8208-11eb-9d80-6ad257a23897.png)\n"
   ]
  },
  {
   "cell_type": "code",
   "execution_count": 79,
   "metadata": {
    "colab": {
     "base_uri": "https://localhost:8080/"
    },
    "executionInfo": {
     "elapsed": 2695,
     "status": "ok",
     "timestamp": 1615398792622,
     "user": {
      "displayName": "L.A.K",
      "photoUrl": "https://lh3.googleusercontent.com/a-/AOh14GjwuaaIJMBxd-C-hVJfn1aom04Ryk7Wt0sM-t03=s64",
      "userId": "04026815740573691214"
     },
     "user_tz": -540
    },
    "id": "z8S0O0oSxShp",
    "outputId": "3b163e4b-89e6-4f62-ef3b-be60a76eb80c"
   },
   "outputs": [
    {
     "data": {
      "text/plain": [
       "array([4, 1, 6, 0])"
      ]
     },
     "execution_count": 79,
     "metadata": {
      "tags": []
     },
     "output_type": "execute_result"
    }
   ],
   "source": [
    "# g에서 (1, 0), (0, 1), (1, 2), (0, 0) 번째 요소를 추출\n",
    "g[[1, 0, 1, 0], [0, 1, 2, 0]]"
   ]
  },
  {
   "cell_type": "markdown",
   "metadata": {
    "id": "c4KV_O618kDO"
   },
   "source": [
    "![slicing8](https://user-images.githubusercontent.com/45147152/110661753-36763d80-8208-11eb-94cb-d6d7a35f2281.png)"
   ]
  },
  {
   "cell_type": "code",
   "execution_count": 80,
   "metadata": {
    "colab": {
     "base_uri": "https://localhost:8080/"
    },
    "executionInfo": {
     "elapsed": 2689,
     "status": "ok",
     "timestamp": 1615398792623,
     "user": {
      "displayName": "L.A.K",
      "photoUrl": "https://lh3.googleusercontent.com/a-/AOh14GjwuaaIJMBxd-C-hVJfn1aom04Ryk7Wt0sM-t03=s64",
      "userId": "04026815740573691214"
     },
     "user_tz": -540
    },
    "id": "p1289irazZim",
    "outputId": "f5bd63cd-b6e7-49a2-c6f7-8267c46b41eb"
   },
   "outputs": [
    {
     "data": {
      "text/plain": [
       "array([[4, 5, 6, 4],\n",
       "       [0, 1, 2, 0],\n",
       "       [4, 5, 6, 4],\n",
       "       [0, 1, 2, 0]])"
      ]
     },
     "execution_count": 80,
     "metadata": {
      "tags": []
     },
     "output_type": "execute_result"
    }
   ],
   "source": [
    "# g에서 첫 번째 행, 두 번째 행, 첫 번째 행, 두 번째 행을 선택하고...\n",
    "# 그렇게 만들어진 배열에 대해서...\n",
    "# 전체 행에 대해서 0, 1, 2, 0열의 요소로 인덱싱\n",
    "g[[1, 0, 1, 0]][:, [0, 1, 2, 0]]"
   ]
  },
  {
   "cell_type": "markdown",
   "metadata": {
    "id": "mh3MJfu8198U"
   },
   "source": [
    "### 정렬"
   ]
  },
  {
   "cell_type": "code",
   "execution_count": 174,
   "metadata": {
    "ExecuteTime": {
     "end_time": "2021-03-31T13:23:54.578030Z",
     "start_time": "2021-03-31T13:23:54.558031Z"
    },
    "colab": {
     "base_uri": "https://localhost:8080/"
    },
    "executionInfo": {
     "elapsed": 2683,
     "status": "ok",
     "timestamp": 1615398792623,
     "user": {
      "displayName": "L.A.K",
      "photoUrl": "https://lh3.googleusercontent.com/a-/AOh14GjwuaaIJMBxd-C-hVJfn1aom04Ryk7Wt0sM-t03=s64",
      "userId": "04026815740573691214"
     },
     "user_tz": -540
    },
    "id": "AgDRXgnM1-OI",
    "outputId": "681c5f96-92c6-4e90-a41c-23a6f77faea5"
   },
   "outputs": [
    {
     "data": {
      "text/plain": [
       "array([[0.70882697, 0.45510488, 0.45100592, 0.96763093],\n",
       "       [0.86722216, 0.01545323, 0.17150516, 0.61261096],\n",
       "       [0.7606363 , 0.29843215, 0.81782251, 0.97578721]])"
      ]
     },
     "execution_count": 174,
     "metadata": {},
     "output_type": "execute_result"
    }
   ],
   "source": [
    "# 디폴트로, 마지막 축(여기서는 column을 기준으로)에 대해서 오름차순정렬한다.\n",
    "# `axis` 매개변수를 조절해서, row 별로 또는 column 별로 정렬할 수 있다.\n",
    "\n",
    "h = np.random.random((3, 4))\n",
    "h"
   ]
  },
  {
   "cell_type": "code",
   "execution_count": 175,
   "metadata": {
    "ExecuteTime": {
     "end_time": "2021-03-31T13:24:11.670867Z",
     "start_time": "2021-03-31T13:24:11.654847Z"
    },
    "colab": {
     "base_uri": "https://localhost:8080/"
    },
    "executionInfo": {
     "elapsed": 2676,
     "status": "ok",
     "timestamp": 1615398792624,
     "user": {
      "displayName": "L.A.K",
      "photoUrl": "https://lh3.googleusercontent.com/a-/AOh14GjwuaaIJMBxd-C-hVJfn1aom04Ryk7Wt0sM-t03=s64",
      "userId": "04026815740573691214"
     },
     "user_tz": -540
    },
    "id": "ZqUoUPgn2Oj4",
    "outputId": "67b2fdb0-7923-4483-9ace-5bf7fda485ce"
   },
   "outputs": [
    {
     "data": {
      "text/plain": [
       "array([[0.45100592, 0.45510488, 0.70882697, 0.96763093],\n",
       "       [0.01545323, 0.17150516, 0.61261096, 0.86722216],\n",
       "       [0.29843215, 0.7606363 , 0.81782251, 0.97578721]])"
      ]
     },
     "execution_count": 175,
     "metadata": {},
     "output_type": "execute_result"
    }
   ],
   "source": [
    "# column 별로 오름차순정렬\n",
    "np.sort(h)"
   ]
  },
  {
   "cell_type": "code",
   "execution_count": 179,
   "metadata": {
    "ExecuteTime": {
     "end_time": "2021-03-31T13:26:10.163439Z",
     "start_time": "2021-03-31T13:26:10.148439Z"
    },
    "colab": {
     "base_uri": "https://localhost:8080/"
    },
    "executionInfo": {
     "elapsed": 2668,
     "status": "ok",
     "timestamp": 1615398792624,
     "user": {
      "displayName": "L.A.K",
      "photoUrl": "https://lh3.googleusercontent.com/a-/AOh14GjwuaaIJMBxd-C-hVJfn1aom04Ryk7Wt0sM-t03=s64",
      "userId": "04026815740573691214"
     },
     "user_tz": -540
    },
    "id": "8Q5l7YO12OZH",
    "outputId": "8db62946-ed9b-4553-d572-4874119c893a",
    "scrolled": true
   },
   "outputs": [
    {
     "data": {
      "text/plain": [
       "array([[0.70882697, 0.01545323, 0.17150516, 0.61261096],\n",
       "       [0.7606363 , 0.29843215, 0.45100592, 0.96763093],\n",
       "       [0.86722216, 0.45510488, 0.81782251, 0.97578721]])"
      ]
     },
     "execution_count": 179,
     "metadata": {},
     "output_type": "execute_result"
    }
   ],
   "source": [
    "# row 별로 오름차순 정렬\n",
    "np.sort(h, axis = 0)"
   ]
  },
  {
   "cell_type": "code",
   "execution_count": 180,
   "metadata": {
    "ExecuteTime": {
     "end_time": "2021-03-31T13:26:10.846854Z",
     "start_time": "2021-03-31T13:26:10.837854Z"
    }
   },
   "outputs": [
    {
     "data": {
      "text/plain": [
       "array([[0.45100592, 0.45510488, 0.70882697, 0.96763093],\n",
       "       [0.01545323, 0.17150516, 0.61261096, 0.86722216],\n",
       "       [0.29843215, 0.7606363 , 0.81782251, 0.97578721]])"
      ]
     },
     "execution_count": 180,
     "metadata": {},
     "output_type": "execute_result"
    }
   ],
   "source": [
    "np.sort(h, axis=1)"
   ]
  },
  {
   "cell_type": "code",
   "execution_count": 181,
   "metadata": {
    "ExecuteTime": {
     "end_time": "2021-03-31T13:26:32.128810Z",
     "start_time": "2021-03-31T13:26:32.117809Z"
    },
    "colab": {
     "base_uri": "https://localhost:8080/"
    },
    "executionInfo": {
     "elapsed": 2662,
     "status": "ok",
     "timestamp": 1615398792624,
     "user": {
      "displayName": "L.A.K",
      "photoUrl": "https://lh3.googleusercontent.com/a-/AOh14GjwuaaIJMBxd-C-hVJfn1aom04Ryk7Wt0sM-t03=s64",
      "userId": "04026815740573691214"
     },
     "user_tz": -540
    },
    "id": "u5hSakna3bdT",
    "outputId": "4e10ea3d-402d-4ece-b63f-b043d77a0299"
   },
   "outputs": [
    {
     "data": {
      "text/plain": [
       "array([[0.45100592, 0.45510488, 0.70882697, 0.96763093],\n",
       "       [0.01545323, 0.17150516, 0.61261096, 0.86722216],\n",
       "       [0.29843215, 0.7606363 , 0.81782251, 0.97578721]])"
      ]
     },
     "execution_count": 181,
     "metadata": {},
     "output_type": "execute_result"
    }
   ],
   "source": [
    "# np.sort()는 정렬된 배열을 반환하지만.\n",
    "# ndarray.sort()는 inplace 정렬이 일어난다.\n",
    "h.sort()\n",
    "h"
   ]
  },
  {
   "cell_type": "markdown",
   "metadata": {
    "id": "Hb5AXUdtv0mx"
   },
   "source": [
    "## Numpy 배열 조작"
   ]
  },
  {
   "cell_type": "markdown",
   "metadata": {
    "id": "LTQUKUGzv155"
   },
   "source": [
    "### shape 조작하기"
   ]
  },
  {
   "cell_type": "code",
   "execution_count": 190,
   "metadata": {
    "ExecuteTime": {
     "end_time": "2021-03-31T14:55:37.947335Z",
     "start_time": "2021-03-31T14:55:37.935337Z"
    },
    "colab": {
     "base_uri": "https://localhost:8080/"
    },
    "executionInfo": {
     "elapsed": 2951,
     "status": "ok",
     "timestamp": 1615398792921,
     "user": {
      "displayName": "L.A.K",
      "photoUrl": "https://lh3.googleusercontent.com/a-/AOh14GjwuaaIJMBxd-C-hVJfn1aom04Ryk7Wt0sM-t03=s64",
      "userId": "04026815740573691214"
     },
     "user_tz": -540
    },
    "id": "3qCxMIR7AxUu",
    "outputId": "967e892a-c26b-4c64-9d6d-d29384d4af6d"
   },
   "outputs": [
    {
     "data": {
      "text/plain": [
       "array([ 0,  1,  2,  3,  4,  5,  6,  7,  8,  9, 10, 11, 12, 13, 14, 15])"
      ]
     },
     "execution_count": 190,
     "metadata": {},
     "output_type": "execute_result"
    }
   ],
   "source": [
    "# reshape()를 통해서, 배열의 shape 모양을 바꾼다. (원본 배열을 바꾸지 않는다.)\n",
    "tmp = np.arange(16)\n",
    "tmp"
   ]
  },
  {
   "cell_type": "code",
   "execution_count": 193,
   "metadata": {
    "ExecuteTime": {
     "end_time": "2021-03-31T14:56:08.628245Z",
     "start_time": "2021-03-31T14:56:08.614246Z"
    },
    "scrolled": true
   },
   "outputs": [
    {
     "data": {
      "text/plain": [
       "array([[ 0,  1,  2,  3],\n",
       "       [ 4,  5,  6,  7],\n",
       "       [ 8,  9, 10, 11],\n",
       "       [12, 13, 14, 15]])"
      ]
     },
     "execution_count": 193,
     "metadata": {},
     "output_type": "execute_result"
    }
   ],
   "source": [
    "tmp.reshape((4, 4))"
   ]
  },
  {
   "cell_type": "code",
   "execution_count": 194,
   "metadata": {
    "ExecuteTime": {
     "end_time": "2021-03-31T14:56:22.423154Z",
     "start_time": "2021-03-31T14:56:22.413154Z"
    }
   },
   "outputs": [
    {
     "data": {
      "text/plain": [
       "array([[ 0,  1,  2,  3,  4,  5,  6,  7],\n",
       "       [ 8,  9, 10, 11, 12, 13, 14, 15]])"
      ]
     },
     "execution_count": 194,
     "metadata": {},
     "output_type": "execute_result"
    }
   ],
   "source": [
    "tmp.reshape((2, 8))"
   ]
  },
  {
   "cell_type": "code",
   "execution_count": 195,
   "metadata": {
    "ExecuteTime": {
     "end_time": "2021-03-31T14:56:39.027788Z",
     "start_time": "2021-03-31T14:56:39.015789Z"
    },
    "colab": {
     "base_uri": "https://localhost:8080/"
    },
    "executionInfo": {
     "elapsed": 2945,
     "status": "ok",
     "timestamp": 1615398792922,
     "user": {
      "displayName": "L.A.K",
      "photoUrl": "https://lh3.googleusercontent.com/a-/AOh14GjwuaaIJMBxd-C-hVJfn1aom04Ryk7Wt0sM-t03=s64",
      "userId": "04026815740573691214"
     },
     "user_tz": -540
    },
    "id": "fnQ4F7LPA-Qh",
    "outputId": "32e6a532-07cb-4e6a-f2ef-116d0701748b",
    "scrolled": true
   },
   "outputs": [
    {
     "data": {
      "text/plain": [
       "array([[ 0,  1],\n",
       "       [ 2,  3],\n",
       "       [ 4,  5],\n",
       "       [ 6,  7],\n",
       "       [ 8,  9],\n",
       "       [10, 11],\n",
       "       [12, 13],\n",
       "       [14, 15]])"
      ]
     },
     "execution_count": 195,
     "metadata": {},
     "output_type": "execute_result"
    }
   ],
   "source": [
    "# -1을 사용하면, 현재 주어진 정보를 토대로 나머지 부분을 채워준다.\n",
    "tmp.reshape((8, -1))"
   ]
  },
  {
   "cell_type": "code",
   "execution_count": 198,
   "metadata": {
    "ExecuteTime": {
     "end_time": "2021-03-31T14:57:43.680374Z",
     "start_time": "2021-03-31T14:57:43.670373Z"
    }
   },
   "outputs": [
    {
     "data": {
      "text/plain": [
       "array([[[ 0,  1],\n",
       "        [ 2,  3],\n",
       "        [ 4,  5],\n",
       "        [ 6,  7]],\n",
       "\n",
       "       [[ 8,  9],\n",
       "        [10, 11],\n",
       "        [12, 13],\n",
       "        [14, 15]]])"
      ]
     },
     "execution_count": 198,
     "metadata": {},
     "output_type": "execute_result"
    }
   ],
   "source": [
    "tmp.reshape(2,4,2)"
   ]
  },
  {
   "cell_type": "code",
   "execution_count": 87,
   "metadata": {
    "colab": {
     "base_uri": "https://localhost:8080/"
    },
    "executionInfo": {
     "elapsed": 2938,
     "status": "ok",
     "timestamp": 1615398792922,
     "user": {
      "displayName": "L.A.K",
      "photoUrl": "https://lh3.googleusercontent.com/a-/AOh14GjwuaaIJMBxd-C-hVJfn1aom04Ryk7Wt0sM-t03=s64",
      "userId": "04026815740573691214"
     },
     "user_tz": -540
    },
    "id": "AqTjWMHyEqGQ",
    "outputId": "c3845bd5-946d-44a5-e321-aa3a968d6b3e"
   },
   "outputs": [
    {
     "data": {
      "text/plain": [
       "array([[ 0,  1,  2,  3,  4],\n",
       "       [ 5,  6,  7,  8,  9],\n",
       "       [10, 11, 12, 13, 14]])"
      ]
     },
     "execution_count": 87,
     "metadata": {
      "tags": []
     },
     "output_type": "execute_result"
    }
   ],
   "source": [
    "# ndarray.resize()를 통해서, 배열의 shape 모양을 바꾼다. (inplace 연산)\n",
    "tmp.resize((3, 5)); tmp"
   ]
  },
  {
   "cell_type": "code",
   "execution_count": 199,
   "metadata": {
    "ExecuteTime": {
     "end_time": "2021-03-31T14:59:54.980328Z",
     "start_time": "2021-03-31T14:59:54.974328Z"
    },
    "colab": {
     "base_uri": "https://localhost:8080/"
    },
    "executionInfo": {
     "elapsed": 2933,
     "status": "ok",
     "timestamp": 1615398792923,
     "user": {
      "displayName": "L.A.K",
      "photoUrl": "https://lh3.googleusercontent.com/a-/AOh14GjwuaaIJMBxd-C-hVJfn1aom04Ryk7Wt0sM-t03=s64",
      "userId": "04026815740573691214"
     },
     "user_tz": -540
    },
    "id": "t0gX8WJ7Acg_",
    "outputId": "a0c72692-dcce-4cd6-9561-487c2836a0fe"
   },
   "outputs": [
    {
     "data": {
      "text/plain": [
       "array([[ 0,  1,  2,  3,  4],\n",
       "       [ 5,  6,  7,  8,  9],\n",
       "       [10, 11, 12, 13, 14]])"
      ]
     },
     "execution_count": 199,
     "metadata": {},
     "output_type": "execute_result"
    }
   ],
   "source": [
    "# 전치연산을 통해서, 행과 열의 위치를 변경할 수 있다.\n",
    "tmp = np.arange(15).reshape((3, 5))\n",
    "tmp"
   ]
  },
  {
   "cell_type": "code",
   "execution_count": 200,
   "metadata": {
    "ExecuteTime": {
     "end_time": "2021-03-31T14:59:57.454401Z",
     "start_time": "2021-03-31T14:59:57.440404Z"
    }
   },
   "outputs": [
    {
     "data": {
      "text/plain": [
       "array([[ 0,  5, 10],\n",
       "       [ 1,  6, 11],\n",
       "       [ 2,  7, 12],\n",
       "       [ 3,  8, 13],\n",
       "       [ 4,  9, 14]])"
      ]
     },
     "execution_count": 200,
     "metadata": {},
     "output_type": "execute_result"
    }
   ],
   "source": [
    "np.transpose(tmp) # tmp.T"
   ]
  },
  {
   "cell_type": "code",
   "execution_count": 201,
   "metadata": {
    "ExecuteTime": {
     "end_time": "2021-03-31T15:00:21.623245Z",
     "start_time": "2021-03-31T15:00:21.613251Z"
    }
   },
   "outputs": [
    {
     "data": {
      "text/plain": [
       "array([[ 0,  5, 10],\n",
       "       [ 1,  6, 11],\n",
       "       [ 2,  7, 12],\n",
       "       [ 3,  8, 13],\n",
       "       [ 4,  9, 14]])"
      ]
     },
     "execution_count": 201,
     "metadata": {},
     "output_type": "execute_result"
    }
   ],
   "source": [
    "tmp.T"
   ]
  },
  {
   "cell_type": "markdown",
   "metadata": {},
   "source": [
    "- ravel(), flatten()을 통해서, 다차원 배열을 1차원 배열로 변환\n",
    "- ravel()은 shallow copy\n",
    "- flatten()은 deep copy를 수행"
   ]
  },
  {
   "cell_type": "code",
   "execution_count": 202,
   "metadata": {
    "ExecuteTime": {
     "end_time": "2021-03-31T15:01:39.350627Z",
     "start_time": "2021-03-31T15:01:39.335597Z"
    },
    "colab": {
     "base_uri": "https://localhost:8080/"
    },
    "executionInfo": {
     "elapsed": 2926,
     "status": "ok",
     "timestamp": 1615398792923,
     "user": {
      "displayName": "L.A.K",
      "photoUrl": "https://lh3.googleusercontent.com/a-/AOh14GjwuaaIJMBxd-C-hVJfn1aom04Ryk7Wt0sM-t03=s64",
      "userId": "04026815740573691214"
     },
     "user_tz": -540
    },
    "id": "vHuqPpNuBcax",
    "outputId": "65ad545f-27e9-46c8-efea-dcb84700113d"
   },
   "outputs": [
    {
     "data": {
      "text/plain": [
       "(array([[0, 1, 2],\n",
       "        [3, 4, 5],\n",
       "        [6, 7, 8]]), array([0, 1, 2, 3, 4, 5, 6, 7, 8]))"
      ]
     },
     "execution_count": 202,
     "metadata": {},
     "output_type": "execute_result"
    }
   ],
   "source": [
    "tmp1 = np.arange(9).reshape((3, 3))\n",
    "tmp2 = tmp1.ravel()\n",
    "\n",
    "tmp1, tmp2"
   ]
  },
  {
   "cell_type": "code",
   "execution_count": 90,
   "metadata": {
    "colab": {
     "base_uri": "https://localhost:8080/"
    },
    "executionInfo": {
     "elapsed": 2919,
     "status": "ok",
     "timestamp": 1615398792923,
     "user": {
      "displayName": "L.A.K",
      "photoUrl": "https://lh3.googleusercontent.com/a-/AOh14GjwuaaIJMBxd-C-hVJfn1aom04Ryk7Wt0sM-t03=s64",
      "userId": "04026815740573691214"
     },
     "user_tz": -540
    },
    "id": "1h_Rfj04Do-y",
    "outputId": "a029bf6a-dc47-4927-e764-b663dcb8e978"
   },
   "outputs": [
    {
     "data": {
      "text/plain": [
       "(array([[-1,  1,  2],\n",
       "        [ 3,  4,  5],\n",
       "        [ 6,  7,  8]]), array([-1,  1,  2,  3,  4,  5,  6,  7,  8]))"
      ]
     },
     "execution_count": 90,
     "metadata": {
      "tags": []
     },
     "output_type": "execute_result"
    }
   ],
   "source": [
    "tmp2[0] = -1\n",
    "tmp1, tmp2"
   ]
  },
  {
   "cell_type": "code",
   "execution_count": 203,
   "metadata": {
    "ExecuteTime": {
     "end_time": "2021-03-31T15:03:58.625745Z",
     "start_time": "2021-03-31T15:03:58.606743Z"
    },
    "colab": {
     "base_uri": "https://localhost:8080/"
    },
    "executionInfo": {
     "elapsed": 2912,
     "status": "ok",
     "timestamp": 1615398792924,
     "user": {
      "displayName": "L.A.K",
      "photoUrl": "https://lh3.googleusercontent.com/a-/AOh14GjwuaaIJMBxd-C-hVJfn1aom04Ryk7Wt0sM-t03=s64",
      "userId": "04026815740573691214"
     },
     "user_tz": -540
    },
    "id": "EetkYsFgD3Ra",
    "outputId": "fd674ee4-88b3-4407-baa9-3046d0f6a865"
   },
   "outputs": [
    {
     "data": {
      "text/plain": [
       "(array([[0, 1, 2],\n",
       "        [3, 4, 5],\n",
       "        [6, 7, 8]]), array([0, 1, 2, 3, 4, 5, 6, 7, 8]))"
      ]
     },
     "execution_count": 203,
     "metadata": {},
     "output_type": "execute_result"
    }
   ],
   "source": [
    "# flatten()의 경우\n",
    "tmp1 = np.arange(9).reshape((3, 3))\n",
    "tmp2 = tmp1.flatten()\n",
    "\n",
    "tmp1, tmp2"
   ]
  },
  {
   "cell_type": "code",
   "execution_count": 204,
   "metadata": {
    "ExecuteTime": {
     "end_time": "2021-03-31T15:04:01.896156Z",
     "start_time": "2021-03-31T15:04:01.877122Z"
    },
    "colab": {
     "base_uri": "https://localhost:8080/"
    },
    "executionInfo": {
     "elapsed": 2905,
     "status": "ok",
     "timestamp": 1615398792924,
     "user": {
      "displayName": "L.A.K",
      "photoUrl": "https://lh3.googleusercontent.com/a-/AOh14GjwuaaIJMBxd-C-hVJfn1aom04Ryk7Wt0sM-t03=s64",
      "userId": "04026815740573691214"
     },
     "user_tz": -540
    },
    "id": "kEMDF7guD9F7",
    "outputId": "dbcb26a0-80ec-4a81-8962-c5af2782842f"
   },
   "outputs": [
    {
     "data": {
      "text/plain": [
       "(array([[0, 1, 2],\n",
       "        [3, 4, 5],\n",
       "        [6, 7, 8]]), array([-1,  1,  2,  3,  4,  5,  6,  7,  8]))"
      ]
     },
     "execution_count": 204,
     "metadata": {},
     "output_type": "execute_result"
    }
   ],
   "source": [
    "tmp2[0] = -1\n",
    "tmp1, tmp2"
   ]
  },
  {
   "cell_type": "markdown",
   "metadata": {
    "id": "me7X04LoGYCJ"
   },
   "source": [
    "### 배열에 값 넣기, 값 삭제하기\n",
    "\n",
    "- np.append()를 이용해서 배열의 끝에 값(배열, 스칼라)을 추가할 수 있다.\n",
    "- `axis=None`일 경우, 주어진 배열, 값을 1차원으로 바꾸고, 주어진 배열 끝에 값을 추가한다."
   ]
  },
  {
   "cell_type": "code",
   "execution_count": 206,
   "metadata": {
    "ExecuteTime": {
     "end_time": "2021-03-31T15:06:40.576456Z",
     "start_time": "2021-03-31T15:06:40.566457Z"
    },
    "colab": {
     "base_uri": "https://localhost:8080/"
    },
    "executionInfo": {
     "elapsed": 2899,
     "status": "ok",
     "timestamp": 1615398792925,
     "user": {
      "displayName": "L.A.K",
      "photoUrl": "https://lh3.googleusercontent.com/a-/AOh14GjwuaaIJMBxd-C-hVJfn1aom04Ryk7Wt0sM-t03=s64",
      "userId": "04026815740573691214"
     },
     "user_tz": -540
    },
    "id": "SZKKCbkGE8dw",
    "outputId": "fde27f60-16ef-46d7-969d-5ca836f246ab"
   },
   "outputs": [
    {
     "name": "stdout",
     "output_type": "stream",
     "text": [
      "[[0 1 2]\n",
      " [3 4 5]\n",
      " [6 7 8]]\n",
      "\n",
      "\n",
      "[[ 0 10 20]\n",
      " [30 40 50]\n",
      " [60 70 80]]\n"
     ]
    }
   ],
   "source": [
    "\n",
    "tmp1 = np.arange(9).reshape((3, 3))\n",
    "tmp2 = np.arange(9).reshape((3, 3)) * 10\n",
    "print(tmp1)\n",
    "print(\"\\n\")\n",
    "print(tmp2)"
   ]
  },
  {
   "cell_type": "code",
   "execution_count": 207,
   "metadata": {
    "ExecuteTime": {
     "end_time": "2021-03-31T15:06:50.755300Z",
     "start_time": "2021-03-31T15:06:50.743304Z"
    }
   },
   "outputs": [
    {
     "data": {
      "text/plain": [
       "array([ 0,  1,  2,  3,  4,  5,  6,  7,  8,  0, 10, 20, 30, 40, 50, 60, 70,\n",
       "       80])"
      ]
     },
     "execution_count": 207,
     "metadata": {},
     "output_type": "execute_result"
    }
   ],
   "source": [
    "np.append(tmp1, tmp2)"
   ]
  },
  {
   "cell_type": "markdown",
   "metadata": {},
   "source": [
    "- `axis = 0`일 경우, horizontal 하게 값을 추가한다."
   ]
  },
  {
   "cell_type": "code",
   "execution_count": 209,
   "metadata": {
    "ExecuteTime": {
     "end_time": "2021-03-31T15:09:02.892849Z",
     "start_time": "2021-03-31T15:09:02.878886Z"
    },
    "colab": {
     "base_uri": "https://localhost:8080/"
    },
    "executionInfo": {
     "elapsed": 2892,
     "status": "ok",
     "timestamp": 1615398792925,
     "user": {
      "displayName": "L.A.K",
      "photoUrl": "https://lh3.googleusercontent.com/a-/AOh14GjwuaaIJMBxd-C-hVJfn1aom04Ryk7Wt0sM-t03=s64",
      "userId": "04026815740573691214"
     },
     "user_tz": -540
    },
    "id": "N6EkBsK4E8XM",
    "outputId": "3d7bb8ec-e716-47f1-f90d-9201d070af8d"
   },
   "outputs": [
    {
     "data": {
      "text/plain": [
       "array([[ 0,  1,  2],\n",
       "       [ 3,  4,  5],\n",
       "       [ 6,  7,  8],\n",
       "       [ 0, 10, 20],\n",
       "       [30, 40, 50],\n",
       "       [60, 70, 80]])"
      ]
     },
     "execution_count": 209,
     "metadata": {},
     "output_type": "execute_result"
    }
   ],
   "source": [
    "np.append(tmp1, tmp2, axis=0)"
   ]
  },
  {
   "cell_type": "markdown",
   "metadata": {},
   "source": [
    "- `axis = 1`일 경우, vertical 하게 값을 추가한다."
   ]
  },
  {
   "cell_type": "code",
   "execution_count": 213,
   "metadata": {
    "ExecuteTime": {
     "end_time": "2021-03-31T15:09:19.787013Z",
     "start_time": "2021-03-31T15:09:19.774013Z"
    },
    "colab": {
     "base_uri": "https://localhost:8080/"
    },
    "executionInfo": {
     "elapsed": 2884,
     "status": "ok",
     "timestamp": 1615398792925,
     "user": {
      "displayName": "L.A.K",
      "photoUrl": "https://lh3.googleusercontent.com/a-/AOh14GjwuaaIJMBxd-C-hVJfn1aom04Ryk7Wt0sM-t03=s64",
      "userId": "04026815740573691214"
     },
     "user_tz": -540
    },
    "id": "JjcyL3LyE8U8",
    "outputId": "57741fd0-b3a4-4a3b-9f98-788e24ee3c95"
   },
   "outputs": [
    {
     "data": {
      "text/plain": [
       "array([[ 0,  1,  2,  0, 10, 20],\n",
       "       [ 3,  4,  5, 30, 40, 50],\n",
       "       [ 6,  7,  8, 60, 70, 80]])"
      ]
     },
     "execution_count": 213,
     "metadata": {},
     "output_type": "execute_result"
    }
   ],
   "source": [
    "np.append(tmp1, tmp2, axis=1)"
   ]
  },
  {
   "cell_type": "markdown",
   "metadata": {},
   "source": [
    "- np.insert()를 이용해서 원하는 위치에 값(배열, 스칼라)을 추가할 수 있다.\n",
    "- `axis=None`일 경우, 원하는 위치에 값을 집어 넣고, 배열을 1차원으로 바꾼다. (원본 배열에 영향을 주지 않는다.)"
   ]
  },
  {
   "cell_type": "code",
   "execution_count": 215,
   "metadata": {
    "ExecuteTime": {
     "end_time": "2021-03-31T15:11:34.498290Z",
     "start_time": "2021-03-31T15:11:34.486290Z"
    },
    "colab": {
     "base_uri": "https://localhost:8080/"
    },
    "executionInfo": {
     "elapsed": 2879,
     "status": "ok",
     "timestamp": 1615398792926,
     "user": {
      "displayName": "L.A.K",
      "photoUrl": "https://lh3.googleusercontent.com/a-/AOh14GjwuaaIJMBxd-C-hVJfn1aom04Ryk7Wt0sM-t03=s64",
      "userId": "04026815740573691214"
     },
     "user_tz": -540
    },
    "id": "I_1DnrUkG0WF",
    "outputId": "962633da-1a5a-44ed-f912-022eb34d3170"
   },
   "outputs": [
    {
     "data": {
      "text/plain": [
       "array([[0, 1, 2],\n",
       "       [3, 4, 5]])"
      ]
     },
     "execution_count": 215,
     "metadata": {},
     "output_type": "execute_result"
    }
   ],
   "source": [
    "tmp = np.arange(6).reshape((2, 3))\n",
    "tmp"
   ]
  },
  {
   "cell_type": "code",
   "execution_count": 216,
   "metadata": {
    "ExecuteTime": {
     "end_time": "2021-03-31T15:11:38.066257Z",
     "start_time": "2021-03-31T15:11:38.062253Z"
    }
   },
   "outputs": [
    {
     "data": {
      "text/plain": [
       "array([ 0, -1,  1,  2,  3,  4,  5])"
      ]
     },
     "execution_count": 216,
     "metadata": {},
     "output_type": "execute_result"
    }
   ],
   "source": [
    "np.insert(tmp, 1, -1)"
   ]
  },
  {
   "cell_type": "markdown",
   "metadata": {},
   "source": [
    "- `axis = 0`일 경우, row를 기준으로 값을 집어 넣는다."
   ]
  },
  {
   "cell_type": "code",
   "execution_count": 217,
   "metadata": {
    "ExecuteTime": {
     "end_time": "2021-03-31T15:12:11.713793Z",
     "start_time": "2021-03-31T15:12:11.701793Z"
    },
    "colab": {
     "base_uri": "https://localhost:8080/"
    },
    "executionInfo": {
     "elapsed": 2871,
     "status": "ok",
     "timestamp": 1615398792926,
     "user": {
      "displayName": "L.A.K",
      "photoUrl": "https://lh3.googleusercontent.com/a-/AOh14GjwuaaIJMBxd-C-hVJfn1aom04Ryk7Wt0sM-t03=s64",
      "userId": "04026815740573691214"
     },
     "user_tz": -540
    },
    "id": "SH8tvVYEHW0x",
    "outputId": "ac450a0e-57b4-487e-fdcc-615f07cc413d",
    "scrolled": true
   },
   "outputs": [
    {
     "data": {
      "text/plain": [
       "array([[ 0,  1,  2],\n",
       "       [-1, -1, -1],\n",
       "       [ 3,  4,  5]])"
      ]
     },
     "execution_count": 217,
     "metadata": {},
     "output_type": "execute_result"
    }
   ],
   "source": [
    "np.insert(tmp, 1, -1, axis=0)"
   ]
  },
  {
   "cell_type": "markdown",
   "metadata": {},
   "source": [
    "- np.delete()를 이용해서 원하는 위치에 값을 삭제할 수 있다.\n",
    "- ` axis = None`일 경우, 원하는 위치의 값을 삭제하고, 배열을 1차원으로 바꾼다. (원본 배열에 영향을 주지 않는다.)"
   ]
  },
  {
   "cell_type": "code",
   "execution_count": 221,
   "metadata": {
    "ExecuteTime": {
     "end_time": "2021-03-31T15:13:02.222166Z",
     "start_time": "2021-03-31T15:13:02.214169Z"
    },
    "colab": {
     "base_uri": "https://localhost:8080/"
    },
    "executionInfo": {
     "elapsed": 2865,
     "status": "ok",
     "timestamp": 1615398792926,
     "user": {
      "displayName": "L.A.K",
      "photoUrl": "https://lh3.googleusercontent.com/a-/AOh14GjwuaaIJMBxd-C-hVJfn1aom04Ryk7Wt0sM-t03=s64",
      "userId": "04026815740573691214"
     },
     "user_tz": -540
    },
    "id": "FfnRqJmmHWoZ",
    "outputId": "4e44b06f-dff8-4c96-b4be-c10591ba682a"
   },
   "outputs": [
    {
     "data": {
      "text/plain": [
       "array([0, 2, 3, 4, 5])"
      ]
     },
     "execution_count": 221,
     "metadata": {},
     "output_type": "execute_result"
    }
   ],
   "source": [
    "np.delete(tmp, 1)"
   ]
  },
  {
   "cell_type": "code",
   "execution_count": 223,
   "metadata": {
    "ExecuteTime": {
     "end_time": "2021-03-31T15:13:24.397031Z",
     "start_time": "2021-03-31T15:13:24.383032Z"
    }
   },
   "outputs": [
    {
     "data": {
      "text/plain": [
       "array([[0, 1, 2],\n",
       "       [3, 4, 5]])"
      ]
     },
     "execution_count": 223,
     "metadata": {},
     "output_type": "execute_result"
    }
   ],
   "source": [
    "tmp"
   ]
  },
  {
   "cell_type": "code",
   "execution_count": 222,
   "metadata": {
    "ExecuteTime": {
     "end_time": "2021-03-31T15:13:10.171775Z",
     "start_time": "2021-03-31T15:13:10.157814Z"
    },
    "colab": {
     "base_uri": "https://localhost:8080/"
    },
    "executionInfo": {
     "elapsed": 2859,
     "status": "ok",
     "timestamp": 1615398792927,
     "user": {
      "displayName": "L.A.K",
      "photoUrl": "https://lh3.googleusercontent.com/a-/AOh14GjwuaaIJMBxd-C-hVJfn1aom04Ryk7Wt0sM-t03=s64",
      "userId": "04026815740573691214"
     },
     "user_tz": -540
    },
    "id": "krUsaw7xE8Px",
    "outputId": "4d609c0b-74fc-4dbd-f8b8-b1626b1c0ffe"
   },
   "outputs": [
    {
     "data": {
      "text/plain": [
       "array([[0, 2],\n",
       "       [3, 5]])"
      ]
     },
     "execution_count": 222,
     "metadata": {},
     "output_type": "execute_result"
    }
   ],
   "source": [
    "np.delete(tmp, 1, axis=1)"
   ]
  },
  {
   "cell_type": "markdown",
   "metadata": {
    "id": "HIcOTiJ9E8NO"
   },
   "source": [
    "### 배열 결합하기"
   ]
  },
  {
   "cell_type": "markdown",
   "metadata": {
    "id": "8T1j7LEqKx8v"
   },
   "source": [
    "행의 수나 열의 수가 같은 두 개 이상의 배열을 연결하여 새로운 배열을 만들 때 아래의 명령어를 사용할 수 있다.\n",
    "\n",
    "- np.concatenate()\n",
    "- np.vstack()\n",
    "- np.hstack()\n",
    "- np.r_\n",
    "- np.c_\n",
    "- np.row_stack\n",
    "- np.column_stack"
   ]
  },
  {
   "cell_type": "code",
   "execution_count": 226,
   "metadata": {
    "ExecuteTime": {
     "end_time": "2021-03-31T15:15:37.806317Z",
     "start_time": "2021-03-31T15:15:37.790317Z"
    },
    "colab": {
     "base_uri": "https://localhost:8080/"
    },
    "executionInfo": {
     "elapsed": 2852,
     "status": "ok",
     "timestamp": 1615398792927,
     "user": {
      "displayName": "L.A.K",
      "photoUrl": "https://lh3.googleusercontent.com/a-/AOh14GjwuaaIJMBxd-C-hVJfn1aom04Ryk7Wt0sM-t03=s64",
      "userId": "04026815740573691214"
     },
     "user_tz": -540
    },
    "id": "T3FT5F6AE8Jr",
    "outputId": "34fc52de-fe87-41a7-bc98-663da12d705f"
   },
   "outputs": [
    {
     "data": {
      "text/plain": [
       "array([[1., 1.],\n",
       "       [1., 1.],\n",
       "       [1., 1.],\n",
       "       [1., 1.],\n",
       "       [1., 1.],\n",
       "       [0., 0.],\n",
       "       [0., 0.],\n",
       "       [0., 0.]])"
      ]
     },
     "execution_count": 226,
     "metadata": {},
     "output_type": "execute_result"
    }
   ],
   "source": [
    "tmp1 = np.ones((5, 2))\n",
    "tmp2 = np.zeros((3, 2))\n",
    "\n",
    "# np.concatenate()는 `axis` 매개변수를 통해서 원하는 축에 두 배열을 연결할 수 있다.\n",
    "\n",
    "np.concatenate([tmp1, tmp2] ) # 두 배열을 위아래로 연결한다 (`axis = 0`이 디폴트로 설정되어있다.)"
   ]
  },
  {
   "cell_type": "code",
   "execution_count": 101,
   "metadata": {
    "colab": {
     "base_uri": "https://localhost:8080/"
    },
    "executionInfo": {
     "elapsed": 2845,
     "status": "ok",
     "timestamp": 1615398792928,
     "user": {
      "displayName": "L.A.K",
      "photoUrl": "https://lh3.googleusercontent.com/a-/AOh14GjwuaaIJMBxd-C-hVJfn1aom04Ryk7Wt0sM-t03=s64",
      "userId": "04026815740573691214"
     },
     "user_tz": -540
    },
    "id": "iZ9KIFs0E7_H",
    "outputId": "ed23e61c-3319-474f-cee0-36a9d7e6dd9a"
   },
   "outputs": [
    {
     "data": {
      "text/plain": [
       "array([[1., 1., 1., 1., 1., 0., 0., 0.],\n",
       "       [1., 1., 1., 1., 1., 0., 0., 0.]])"
      ]
     },
     "execution_count": 101,
     "metadata": {
      "tags": []
     },
     "output_type": "execute_result"
    }
   ],
   "source": [
    "tmp1 = np.ones((2, 5))\n",
    "tmp2 = np.zeros((2, 3))\n",
    "\n",
    "np.concatenate([tmp1, tmp2], axis = 1) # 두 배열을 좌우로 연결한다."
   ]
  },
  {
   "cell_type": "code",
   "execution_count": 102,
   "metadata": {
    "colab": {
     "base_uri": "https://localhost:8080/"
    },
    "executionInfo": {
     "elapsed": 2838,
     "status": "ok",
     "timestamp": 1615398792928,
     "user": {
      "displayName": "L.A.K",
      "photoUrl": "https://lh3.googleusercontent.com/a-/AOh14GjwuaaIJMBxd-C-hVJfn1aom04Ryk7Wt0sM-t03=s64",
      "userId": "04026815740573691214"
     },
     "user_tz": -540
    },
    "id": "MrcPaFvfL47N",
    "outputId": "e5814baf-d9cf-4740-94bd-0a9fcfc057e4"
   },
   "outputs": [
    {
     "data": {
      "text/plain": [
       "array([[1., 1.],\n",
       "       [1., 1.],\n",
       "       [1., 1.],\n",
       "       [1., 1.],\n",
       "       [1., 1.],\n",
       "       [0., 0.],\n",
       "       [0., 0.],\n",
       "       [0., 0.]])"
      ]
     },
     "execution_count": 102,
     "metadata": {
      "tags": []
     },
     "output_type": "execute_result"
    }
   ],
   "source": [
    "tmp1 = np.ones((5, 2))\n",
    "tmp2 = np.zeros((3, 2))\n",
    "\n",
    "# np.vstack()은 두 배열을 위아래로 연결할때 사용한다.\n",
    "np.vstack([tmp1, tmp2])"
   ]
  },
  {
   "cell_type": "code",
   "execution_count": 103,
   "metadata": {
    "colab": {
     "base_uri": "https://localhost:8080/"
    },
    "executionInfo": {
     "elapsed": 3198,
     "status": "ok",
     "timestamp": 1615398793296,
     "user": {
      "displayName": "L.A.K",
      "photoUrl": "https://lh3.googleusercontent.com/a-/AOh14GjwuaaIJMBxd-C-hVJfn1aom04Ryk7Wt0sM-t03=s64",
      "userId": "04026815740573691214"
     },
     "user_tz": -540
    },
    "id": "8zgbFFJVMLik",
    "outputId": "20fc8075-6677-4d9f-8ccb-a77bb89839cf"
   },
   "outputs": [
    {
     "data": {
      "text/plain": [
       "array([[1., 1., 1., 1., 1., 0., 0., 0.],\n",
       "       [1., 1., 1., 1., 1., 0., 0., 0.]])"
      ]
     },
     "execution_count": 103,
     "metadata": {
      "tags": []
     },
     "output_type": "execute_result"
    }
   ],
   "source": [
    "tmp1 = np.ones((2, 5))\n",
    "tmp2 = np.zeros((2, 3))\n",
    "\n",
    "# np.hstack()은 두 배열을 좌우로 연결할때 사용한다.\n",
    "np.hstack([tmp1, tmp2])"
   ]
  },
  {
   "cell_type": "code",
   "execution_count": 104,
   "metadata": {
    "colab": {
     "base_uri": "https://localhost:8080/"
    },
    "executionInfo": {
     "elapsed": 3192,
     "status": "ok",
     "timestamp": 1615398793297,
     "user": {
      "displayName": "L.A.K",
      "photoUrl": "https://lh3.googleusercontent.com/a-/AOh14GjwuaaIJMBxd-C-hVJfn1aom04Ryk7Wt0sM-t03=s64",
      "userId": "04026815740573691214"
     },
     "user_tz": -540
    },
    "id": "Q1BQjnSfMt_j",
    "outputId": "f1dee360-b58b-4a51-912f-b98f7185f4b3"
   },
   "outputs": [
    {
     "data": {
      "text/plain": [
       "array([[1., 1.],\n",
       "       [1., 1.],\n",
       "       [1., 1.],\n",
       "       [1., 1.],\n",
       "       [1., 1.],\n",
       "       [0., 0.],\n",
       "       [0., 0.],\n",
       "       [0., 0.]])"
      ]
     },
     "execution_count": 104,
     "metadata": {
      "tags": []
     },
     "output_type": "execute_result"
    }
   ],
   "source": [
    "tmp1 = np.ones((5, 2))\n",
    "tmp2 = np.zeros((3, 2))\n",
    "\n",
    "# np.r_ 는 두 배열을 위아래로 연결할때 사용한다.\n",
    "# 인덱싱할 때 처럼, 대괄호를 사용해서 메서드를 호출한다.\n",
    "np.r_[tmp1, tmp2]"
   ]
  },
  {
   "cell_type": "code",
   "execution_count": 105,
   "metadata": {
    "colab": {
     "base_uri": "https://localhost:8080/"
    },
    "executionInfo": {
     "elapsed": 3185,
     "status": "ok",
     "timestamp": 1615398793297,
     "user": {
      "displayName": "L.A.K",
      "photoUrl": "https://lh3.googleusercontent.com/a-/AOh14GjwuaaIJMBxd-C-hVJfn1aom04Ryk7Wt0sM-t03=s64",
      "userId": "04026815740573691214"
     },
     "user_tz": -540
    },
    "id": "UNtZq96uMT1-",
    "outputId": "c66c1878-6507-4d3c-fe48-17b067fefe5c"
   },
   "outputs": [
    {
     "data": {
      "text/plain": [
       "array([[1., 1., 1., 1., 1., 0., 0., 0.],\n",
       "       [1., 1., 1., 1., 1., 0., 0., 0.]])"
      ]
     },
     "execution_count": 105,
     "metadata": {
      "tags": []
     },
     "output_type": "execute_result"
    }
   ],
   "source": [
    "tmp1 = np.ones((2, 5))\n",
    "tmp2 = np.zeros((2, 3))\n",
    "\n",
    "# np.c_ 는 두 배열을 좌우로 연결할때 사용한다.\n",
    "# 인덱싱할 때 처럼, 대괄호를 사용해서 메서드를 호출한다.\n",
    "np.c_[tmp1, tmp2]"
   ]
  },
  {
   "cell_type": "code",
   "execution_count": 106,
   "metadata": {
    "colab": {
     "base_uri": "https://localhost:8080/"
    },
    "executionInfo": {
     "elapsed": 3179,
     "status": "ok",
     "timestamp": 1615398793298,
     "user": {
      "displayName": "L.A.K",
      "photoUrl": "https://lh3.googleusercontent.com/a-/AOh14GjwuaaIJMBxd-C-hVJfn1aom04Ryk7Wt0sM-t03=s64",
      "userId": "04026815740573691214"
     },
     "user_tz": -540
    },
    "id": "jDWyDucFNzU9",
    "outputId": "45dd0078-695d-49f3-a9b7-b57721792910"
   },
   "outputs": [
    {
     "data": {
      "text/plain": [
       "array([[1., 1.],\n",
       "       [1., 1.],\n",
       "       [1., 1.],\n",
       "       [1., 1.],\n",
       "       [1., 1.],\n",
       "       [0., 0.],\n",
       "       [0., 0.],\n",
       "       [0., 0.]])"
      ]
     },
     "execution_count": 106,
     "metadata": {
      "tags": []
     },
     "output_type": "execute_result"
    }
   ],
   "source": [
    "tmp1 = np.ones((5, 2))\n",
    "tmp2 = np.zeros((3, 2))\n",
    "\n",
    "# np.row_stack()은 두 배열을 위아래로 연결할때 사용한다.\n",
    "np.row_stack([tmp1, tmp2])"
   ]
  },
  {
   "cell_type": "code",
   "execution_count": 107,
   "metadata": {
    "colab": {
     "base_uri": "https://localhost:8080/"
    },
    "executionInfo": {
     "elapsed": 3172,
     "status": "ok",
     "timestamp": 1615398793298,
     "user": {
      "displayName": "L.A.K",
      "photoUrl": "https://lh3.googleusercontent.com/a-/AOh14GjwuaaIJMBxd-C-hVJfn1aom04Ryk7Wt0sM-t03=s64",
      "userId": "04026815740573691214"
     },
     "user_tz": -540
    },
    "id": "EAbuW-_NNl2L",
    "outputId": "32b16b50-2cb2-43ab-a4f0-8d8de853071c"
   },
   "outputs": [
    {
     "data": {
      "text/plain": [
       "array([[1., 1., 1., 1., 1., 0., 0., 0.],\n",
       "       [1., 1., 1., 1., 1., 0., 0., 0.]])"
      ]
     },
     "execution_count": 107,
     "metadata": {
      "tags": []
     },
     "output_type": "execute_result"
    }
   ],
   "source": [
    "tmp1 = np.ones((2, 5))\n",
    "tmp2 = np.zeros((2, 3))\n",
    "\n",
    "# np.column_stack()은 두 배열을 좌우로 연결할때 사용한다.\n",
    "np.column_stack([tmp1, tmp2])"
   ]
  },
  {
   "cell_type": "markdown",
   "metadata": {
    "id": "d-vtUJ6DPQSI"
   },
   "source": [
    "### 배열 스플릿하기"
   ]
  },
  {
   "cell_type": "code",
   "execution_count": 232,
   "metadata": {
    "ExecuteTime": {
     "end_time": "2021-03-31T15:19:41.915214Z",
     "start_time": "2021-03-31T15:19:41.903218Z"
    },
    "colab": {
     "base_uri": "https://localhost:8080/"
    },
    "executionInfo": {
     "elapsed": 3166,
     "status": "ok",
     "timestamp": 1615398793299,
     "user": {
      "displayName": "L.A.K",
      "photoUrl": "https://lh3.googleusercontent.com/a-/AOh14GjwuaaIJMBxd-C-hVJfn1aom04Ryk7Wt0sM-t03=s64",
      "userId": "04026815740573691214"
     },
     "user_tz": -540
    },
    "id": "X5PieFz9OSpl",
    "outputId": "b2a74db6-a80d-4fa9-e573-c2552ece19a3"
   },
   "outputs": [
    {
     "data": {
      "text/plain": [
       "array([0, 1, 2])"
      ]
     },
     "execution_count": 232,
     "metadata": {},
     "output_type": "execute_result"
    }
   ],
   "source": [
    "tmp = np.arange(3)\n",
    "tmp"
   ]
  },
  {
   "cell_type": "code",
   "execution_count": 233,
   "metadata": {
    "ExecuteTime": {
     "end_time": "2021-03-31T15:19:42.548971Z",
     "start_time": "2021-03-31T15:19:42.541975Z"
    }
   },
   "outputs": [
    {
     "data": {
      "text/plain": [
       "[array([0]), array([1]), array([2])]"
      ]
     },
     "execution_count": 233,
     "metadata": {},
     "output_type": "execute_result"
    }
   ],
   "source": [
    "# np.hsplit()은 좌우로(column-wise) 배열을 스플릿할 때 사용한다.\n",
    "np.hsplit(tmp, 3)"
   ]
  },
  {
   "cell_type": "code",
   "execution_count": 236,
   "metadata": {
    "ExecuteTime": {
     "end_time": "2021-03-31T15:20:45.107847Z",
     "start_time": "2021-03-31T15:20:45.093816Z"
    },
    "colab": {
     "base_uri": "https://localhost:8080/"
    },
    "executionInfo": {
     "elapsed": 3159,
     "status": "ok",
     "timestamp": 1615398793299,
     "user": {
      "displayName": "L.A.K",
      "photoUrl": "https://lh3.googleusercontent.com/a-/AOh14GjwuaaIJMBxd-C-hVJfn1aom04Ryk7Wt0sM-t03=s64",
      "userId": "04026815740573691214"
     },
     "user_tz": -540
    },
    "id": "pODSiWuUOiOa",
    "outputId": "9a29c6d0-fdd9-4648-f843-7d3cf2092f3b"
   },
   "outputs": [
    {
     "data": {
      "text/plain": [
       "array([[[ 0,  1,  2],\n",
       "        [ 3,  4,  5]],\n",
       "\n",
       "       [[ 6,  7,  8],\n",
       "        [ 9, 10, 11]]])"
      ]
     },
     "execution_count": 236,
     "metadata": {},
     "output_type": "execute_result"
    }
   ],
   "source": [
    "tmp = np.arange(12).reshape(2,2,3)\n",
    "tmp"
   ]
  },
  {
   "cell_type": "code",
   "execution_count": 237,
   "metadata": {
    "ExecuteTime": {
     "end_time": "2021-03-31T15:20:49.157846Z",
     "start_time": "2021-03-31T15:20:49.150847Z"
    }
   },
   "outputs": [
    {
     "data": {
      "text/plain": [
       "[array([[[0, 1, 2],\n",
       "         [3, 4, 5]]]), array([[[ 6,  7,  8],\n",
       "         [ 9, 10, 11]]])]"
      ]
     },
     "execution_count": 237,
     "metadata": {},
     "output_type": "execute_result"
    }
   ],
   "source": [
    "# np.vsplit()은 위아래로(row-wise) 배열을 스플릿할 때 사용한다.\n",
    "np.vsplit(tmp, 2)"
   ]
  }
 ],
 "metadata": {
  "colab": {
   "authorship_tag": "ABX9TyNAwTz6WIZDPqnzgZjZhWYf",
   "collapsed_sections": [
    "hSyWbVXHabtI",
    "8aYH4ogEia7a",
    "HHajMK_ei7BM",
    "4xt0-aJst1en",
    "270rJbcrnB-x",
    "3PN4olyAvyqB",
    "hcGcB9W-YiTz",
    "gPfF_5c-amrQ",
    "BBW0tFCiaqRT",
    "pNBE1-I8figP",
    "T113ZE9igL3y",
    "CIobl3NblmTN",
    "wREpVhT3tsEw",
    "maLwyjq4uC4u",
    "aE3O5cc5xMdN",
    "w5ptPUiqxQAL",
    "mh3MJfu8198U",
    "Hb5AXUdtv0mx",
    "LTQUKUGzv155",
    "me7X04LoGYCJ",
    "HIcOTiJ9E8NO",
    "d-vtUJ6DPQSI"
   ],
   "name": "NumPy for Data Science.ipynb",
   "provenance": []
  },
  "kernelspec": {
   "display_name": "Python 3",
   "language": "python",
   "name": "python3"
  },
  "language_info": {
   "codemirror_mode": {
    "name": "ipython",
    "version": 3
   },
   "file_extension": ".py",
   "mimetype": "text/x-python",
   "name": "python",
   "nbconvert_exporter": "python",
   "pygments_lexer": "ipython3",
   "version": "3.7.1"
  },
  "toc": {
   "base_numbering": 1,
   "nav_menu": {},
   "number_sections": true,
   "sideBar": true,
   "skip_h1_title": false,
   "title_cell": "Table of Contents",
   "title_sidebar": "Contents",
   "toc_cell": false,
   "toc_position": {},
   "toc_section_display": true,
   "toc_window_display": true
  },
  "varInspector": {
   "cols": {
    "lenName": 16,
    "lenType": 16,
    "lenVar": 40
   },
   "kernels_config": {
    "python": {
     "delete_cmd_postfix": "",
     "delete_cmd_prefix": "del ",
     "library": "var_list.py",
     "varRefreshCmd": "print(var_dic_list())"
    },
    "r": {
     "delete_cmd_postfix": ") ",
     "delete_cmd_prefix": "rm(",
     "library": "var_list.r",
     "varRefreshCmd": "cat(var_dic_list()) "
    }
   },
   "types_to_exclude": [
    "module",
    "function",
    "builtin_function_or_method",
    "instance",
    "_Feature"
   ],
   "window_display": false
  }
 },
 "nbformat": 4,
 "nbformat_minor": 1
}
