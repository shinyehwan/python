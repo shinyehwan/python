{
  "nbformat": 4,
  "nbformat_minor": 0,
  "metadata": {
    "colab": {
      "name": "자료형2",
      "provenance": [],
      "authorship_tag": "ABX9TyNu3RqGoxxtKqeVLACJVy+S",
      "include_colab_link": true
    },
    "kernelspec": {
      "name": "python3",
      "display_name": "Python 3"
    },
    "language_info": {
      "name": "python"
    }
  },
  "cells": [
    {
      "cell_type": "markdown",
      "metadata": {
        "id": "view-in-github",
        "colab_type": "text"
      },
      "source": [
        "<a href=\"https://colab.research.google.com/github/shinyehwan/python_basic/blob/main/%EC%9E%90%EB%A3%8C%ED%98%952.ipynb\" target=\"_parent\"><img src=\"https://colab.research.google.com/assets/colab-badge.svg\" alt=\"Open In Colab\"/></a>"
      ]
    },
    {
      "cell_type": "code",
      "execution_count": 3,
      "metadata": {
        "colab": {
          "base_uri": "https://localhost:8080/"
        },
        "id": "ky1_WpFoTtCv",
        "outputId": "6a81c7ee-0cb2-45d3-82a9-6086f0156a97"
      },
      "outputs": [
        {
          "output_type": "stream",
          "name": "stdout",
          "text": [
            "Hello World\n",
            "StringStringString\n",
            "CD\n"
          ]
        }
      ],
      "source": [
        "# 문자열에 대한 연산도 지원\n",
        "a = 'Hello'\n",
        "b = 'World'\n",
        "\n",
        "print(a + \" \" + b)\n",
        "\n",
        "# 문자열 변수를 양의 정수와 곱하는경우\n",
        "a = \"String\"\n",
        "print(a*3)\n",
        "\n",
        "# 내부적으로 리스트와 같이 처리된다 -> 인덱싱과 슬라이싱 사용가능\n",
        "a = 'ABCDEF'\n",
        "print(a[2:4])"
      ]
    },
    {
      "cell_type": "code",
      "source": [
        "# 튜플 자료형\n",
        "# 리스트와의 차이점\n",
        "# -> 튜플은 한번 선언된 값을 변경할 수 없다.\n",
        "# -> 리스트는 대괄호[]를 이용하지만, 튜플은 소괄호()를 이용한다.\n",
        "\n",
        "a = (1,2,3,4)\n",
        "print(a)\n",
        "\n",
        "# a[2]=7 -> 원소의 대입이 불가능"
      ],
      "metadata": {
        "colab": {
          "base_uri": "https://localhost:8080/"
        },
        "id": "8IMYiGxcUYhC",
        "outputId": "95846bf7-6f2d-4e75-f60e-df5e40095ca5"
      },
      "execution_count": 6,
      "outputs": [
        {
          "output_type": "stream",
          "name": "stdout",
          "text": [
            "(1, 2, 3, 4)\n"
          ]
        }
      ]
    },
    {
      "cell_type": "code",
      "source": [
        "# 사전 자료형 -> 키와 값의 쌍을 데이터로 가지는자료형\n",
        "# 리스트나 튜플은 값을 순차적으로 저장한다는 특징\n",
        "# 내부적으로 해시 테이블이용 -> 리스트보다 훨씬 빠르게 동작\n",
        "\n",
        "data = dict()\n",
        "data['사과'] = 'apple'\n",
        "data['바나나'] = 'banana'\n",
        "data['코코넛'] = 'coconut'\n",
        "\n",
        "print(data)\n",
        "\n",
        "if '사과' in data :\n",
        "  print(\"'사과'를 키로 가지는 데이터가 존재합니다.\")\n",
        "\n",
        "# 키 데이터만 담은 리스트\n",
        "key_list = data.keys()\n",
        "# 값 데이터만 담은 리스트\n",
        "value_list = data.values()\n",
        "print(key_list)\n",
        "print(value_list)\n",
        "\n",
        "# 각 키에 따른 값을 하나씩 출력\n",
        "for key in key_list:\n",
        "  print(data[key])"
      ],
      "metadata": {
        "colab": {
          "base_uri": "https://localhost:8080/"
        },
        "id": "n6xd0CknV12Q",
        "outputId": "94b82a52-28f9-427a-af17-f176dbb55031"
      },
      "execution_count": 12,
      "outputs": [
        {
          "output_type": "stream",
          "name": "stdout",
          "text": [
            "{'사과': 'apple', '바나나': 'banana', '코코넛': 'coconut'}\n",
            "'사과'를 키로 가지는 데이터가 존재합니다.\n",
            "dict_keys(['사과', '바나나', '코코넛'])\n",
            "dict_values(['apple', 'banana', 'coconut'])\n",
            "apple\n",
            "banana\n",
            "coconut\n"
          ]
        }
      ]
    },
    {
      "cell_type": "code",
      "source": [
        "# 집합 자료형 -> 리스트 혹은 문자열을 이용해서 만듬, 키가 존재하지 않고 값만 존재\n",
        "# -> 중복을 허용하지 않는다.\n",
        "# -> 순서가 없다.\n",
        "# 리스트나 튜플은 순서가 있어 인덱싱 가능 하지만, 사전, 집합 자료형은 순서가 없기 때문에 인덱싱 사용 할 수 없다.\n",
        "# 특정 데이터가 이미 등장한 적이 있는지 여부 체크할 때 효과적\n",
        "\n",
        "# 집합 자료형 초기화 방법\n",
        "data = set([1,1,2,3,4,4,5])\n",
        "print(data)\n",
        "data = {1,1,2,3,4,4,5}\n",
        "print(data)\n",
        "\n",
        "# 연산\n",
        "a={1,2,3,4,5}\n",
        "b={3,4,5,6,7}\n",
        "\n",
        "print(a|b)\n",
        "print(a&b)\n",
        "print(a-b)\n",
        "\n",
        "# 관련 함수\n",
        "\n",
        "data={1,2,3}\n",
        "print(data)\n",
        "# 새로운 원소 추가\n",
        "data.add(4)\n",
        "print(data)\n",
        "# 새로운 원소 여러 개 추가\n",
        "data.update([5,6])\n",
        "print(data)\n",
        "# 특정한 값는 원소 삭제\n",
        "data.remove(3)\n",
        "print(data)"
      ],
      "metadata": {
        "colab": {
          "base_uri": "https://localhost:8080/"
        },
        "id": "yPLtD7euYU1x",
        "outputId": "caa64f8e-be77-4487-8a35-e13c86b6151e"
      },
      "execution_count": 22,
      "outputs": [
        {
          "output_type": "stream",
          "name": "stdout",
          "text": [
            "{1, 2, 3, 4, 5}\n",
            "{1, 2, 3, 4, 5}\n",
            "{1, 2, 3, 4, 5, 6, 7}\n",
            "{3, 4, 5}\n",
            "{1, 2}\n",
            "{1, 2, 3}\n",
            "{1, 2, 3, 4}\n",
            "{1, 2, 3, 4, 5, 6}\n",
            "{1, 2, 4, 5, 6}\n"
          ]
        }
      ]
    }
  ]
}