{
  "nbformat": 4,
  "nbformat_minor": 0,
  "metadata": {
    "colab": {
      "name": "함수.ipynb",
      "provenance": [],
      "authorship_tag": "ABX9TyMvPYrHuRTrtvXVOjo/HsQW",
      "include_colab_link": true
    },
    "kernelspec": {
      "name": "python3",
      "display_name": "Python 3"
    },
    "language_info": {
      "name": "python"
    }
  },
  "cells": [
    {
      "cell_type": "markdown",
      "metadata": {
        "id": "view-in-github",
        "colab_type": "text"
      },
      "source": [
        "<a href=\"https://colab.research.google.com/github/shinyehwan/python_basic/blob/main/%ED%95%A8%EC%88%98.ipynb\" target=\"_parent\"><img src=\"https://colab.research.google.com/assets/colab-badge.svg\" alt=\"Open In Colab\"/></a>"
      ]
    },
    {
      "cell_type": "code",
      "execution_count": 8,
      "metadata": {
        "colab": {
          "base_uri": "https://localhost:8080/"
        },
        "id": "W2lmi60yh74c",
        "outputId": "a5cadf4c-6887-4084-dc41-8885b1965c95"
      },
      "outputs": [
        {
          "output_type": "stream",
          "name": "stdout",
          "text": [
            "10\n",
            "10\n",
            "함수의 결과: 10\n",
            "함수의 결과: 10\n"
          ]
        }
      ],
      "source": [
        "# 함수\n",
        "\n",
        "def add(a,b):\n",
        "  return a+b\n",
        "\n",
        "print(add(3,7))\n",
        "\n",
        "# 람다 표현식으로 구현한 add() 메소드\n",
        "print((lambda a, b: a+b)(3,7))\n",
        "\n",
        "\n",
        "def add(a,b):\n",
        "  print('함수의 결과:', a+b)\n",
        "\n",
        "add(3,7)\n",
        "add(b=7, a=3)"
      ]
    },
    {
      "cell_type": "code",
      "source": [
        "a = 0\n",
        "\n",
        "def func():\n",
        "  global a\n",
        "  a+=1\n",
        "\n",
        "for i in range(10):\n",
        "  func()\n",
        "\n",
        "print(a)"
      ],
      "metadata": {
        "colab": {
          "base_uri": "https://localhost:8080/"
        },
        "id": "QCM68yIzkOqc",
        "outputId": "b8bbff3f-45c1-445a-ba80-ac2b566a66a0"
      },
      "execution_count": 5,
      "outputs": [
        {
          "output_type": "stream",
          "name": "stdout",
          "text": [
            "10\n"
          ]
        }
      ]
    }
  ]
}