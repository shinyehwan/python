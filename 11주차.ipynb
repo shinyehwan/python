{
  "nbformat": 4,
  "nbformat_minor": 0,
  "metadata": {
    "colab": {
      "name": "11주차.ipynb",
      "provenance": [],
      "authorship_tag": "ABX9TyP1oQmWbMg7i1tQoTj9mEwA",
      "include_colab_link": true
    },
    "kernelspec": {
      "name": "python3",
      "display_name": "Python 3"
    },
    "language_info": {
      "name": "python"
    }
  },
  "cells": [
    {
      "cell_type": "markdown",
      "metadata": {
        "id": "view-in-github",
        "colab_type": "text"
      },
      "source": [
        "<a href=\"https://colab.research.google.com/github/shinyehwan/python_basic/blob/main/11%EC%A3%BC%EC%B0%A8.ipynb\" target=\"_parent\"><img src=\"https://colab.research.google.com/assets/colab-badge.svg\" alt=\"Open In Colab\"/></a>"
      ]
    },
    {
      "cell_type": "code",
      "execution_count": 2,
      "metadata": {
        "colab": {
          "base_uri": "https://localhost:8080/"
        },
        "id": "N_bcoA8OmN26",
        "outputId": "d56aa947-a327-4da5-8c32-8abaff3f9ef0"
      },
      "outputs": [
        {
          "output_type": "stream",
          "name": "stdout",
          "text": [
            "Hello\n"
          ]
        }
      ],
      "source": [
        "# 클래스\n",
        "# 객체는 클래스의 인스턴스이다\n",
        "# 클래스 안에 속성, 메서드가 있다\n",
        "\n",
        "# 클래스 - 메서드 사용하기\n",
        "\n",
        "class Person:\n",
        "  def greeting(self):\n",
        "    print('Hello')\n",
        "\n",
        "# 인스턴스 = 클래스()\n",
        "james = Person()\n",
        "# 인스턴스 = 메서드()\n",
        "james.greeting()"
      ]
    },
    {
      "cell_type": "code",
      "source": [
        "# self -> 인스턴스 자기자신\n",
        "\n",
        "class Person:\n",
        "  def __init__(self): # __(더블 언더스코어, 던더)가 앞뒤로 붙은 메서드를 매직 매서드라고 한다.\n",
        "    self.hello = '안녕하세요.'\n",
        "\n",
        "  def greeting(self):\n",
        "    print(self.hello)\n",
        "\n",
        "\n",
        "james=Person()\n",
        "james.greeting() # 안녕하세요"
      ],
      "metadata": {
        "colab": {
          "base_uri": "https://localhost:8080/"
        },
        "id": "QGipaF7cm4Q8",
        "outputId": "eacddd07-3bbe-497c-d9b0-db1d9c4794e7"
      },
      "execution_count": 3,
      "outputs": [
        {
          "output_type": "stream",
          "name": "stdout",
          "text": [
            "안녕하세요.\n"
          ]
        }
      ]
    },
    {
      "cell_type": "code",
      "source": [
        "# self -> 인스턴스 자기자신\n",
        "# 인스턴스 자기자신의 변수명 (self.hello, self.name...) = 매개변수(name, age, address)\n",
        "\n",
        "class Person:\n",
        "  def __init__(self, name, age, address) :\n",
        "    self.hello = '안녕하세요'\n",
        "    self.name = name\n",
        "    self.age = age\n",
        "    self.address = address\n",
        "\n",
        "  def greeting(self):\n",
        "    print('{0} 저는 {1}입니다.'.format(self.hello, self.name))\n",
        "\n",
        "maria = Person('마리아', 20, '서울시 서초구 반포동')\n",
        "maria.greeting() #안녕하세요. 저는 마리아입니다.\n",
        "\n",
        "print('이름:', maria.name) # 마리아\n",
        "print('나이:', maria.age) # 20\n",
        "print('주소:', maria.address) # 서울시 서초구 반포동\n"
      ],
      "metadata": {
        "colab": {
          "base_uri": "https://localhost:8080/"
        },
        "id": "Cvnu42qenlLw",
        "outputId": "ebb40516-3546-4f5c-dd71-862a5b0ac039"
      },
      "execution_count": 10,
      "outputs": [
        {
          "output_type": "stream",
          "name": "stdout",
          "text": [
            "안녕하세요 저는 마리아입니다.\n",
            "이름: 마리아\n",
            "나이: 20\n",
            "주소: 서울시 서초구 반포동\n"
          ]
        }
      ]
    },
    {
      "cell_type": "code",
      "source": [
        "# 클래스 - 키워드 인수 & 딕셔너리 언패킹\n",
        "\n",
        "class Person:\n",
        "  def __init__(self, **kwargs): # 키워드 인수\n",
        "    self.name = kwargs['name']\n",
        "    self.age = kwargs['age']\n",
        "    self.address = kwargs['address']\n",
        "\n",
        "maria1 = Person(name='마리아', age=20, address='서울시 서초구 반포동')\n",
        "maria2 = Person(**{'name' : '마리아','age' : 20,'address' : '서울시 서초구 반포동'})\n"
      ],
      "metadata": {
        "colab": {
          "base_uri": "https://localhost:8080/",
          "height": 35
        },
        "id": "3f-81yZuplbh",
        "outputId": "d48dee4e-56fa-4fbd-fd5d-76a3e61343b9"
      },
      "execution_count": 16,
      "outputs": [
        {
          "output_type": "execute_result",
          "data": {
            "application/vnd.google.colaboratory.intrinsic+json": {
              "type": "string"
            },
            "text/plain": [
              "'서울시 서초구 반포동'"
            ]
          },
          "metadata": {},
          "execution_count": 16
        }
      ]
    },
    {
      "cell_type": "code",
      "source": [
        "# 클래스 속성 & 인스턴스 속성\n",
        "# 아래 코드와 차이점 비교 할 수 있어야 해\n",
        "class Person:\n",
        "  bag=[]\n",
        "\n",
        "  def put_bag(self, stuff):\n",
        "    self.bag.append(stuff)\n",
        "\n",
        "\n",
        "james=Person()\n",
        "james.put_bag('책')\n",
        "\n",
        "maria = Person()\n",
        "maria.put_bag('열쇠')\n",
        "\n",
        "print(james.bag)\n",
        "print(maria.bag)\n"
      ],
      "metadata": {
        "colab": {
          "base_uri": "https://localhost:8080/"
        },
        "id": "onEKwD_9qeu9",
        "outputId": "8844dbc6-71e8-4629-a06b-61933e4b7a66"
      },
      "execution_count": 20,
      "outputs": [
        {
          "output_type": "stream",
          "name": "stdout",
          "text": [
            "['책', '열쇠']\n",
            "['책', '열쇠']\n"
          ]
        }
      ]
    },
    {
      "cell_type": "code",
      "source": [
        "# 클래스 속성 & 인스턴스 속성\n",
        "\n",
        "class Person:\n",
        "  def __init__(self):\n",
        "    self.bag=[]\n",
        "\n",
        "  def put_bag(self, stuff):\n",
        "    self.bag.append(stuff)\n",
        "\n",
        "\n",
        "james=Person()\n",
        "james.put_bag('책')\n",
        "\n",
        "maria = Person()\n",
        "maria.put_bag('열쇠')\n",
        "\n",
        "print(james.bag)\n",
        "print(maria.bag)"
      ],
      "metadata": {
        "colab": {
          "base_uri": "https://localhost:8080/"
        },
        "id": "CFmh61zmrAh3",
        "outputId": "785b4ff8-f921-4894-c063-3ff0db80f333"
      },
      "execution_count": 23,
      "outputs": [
        {
          "output_type": "stream",
          "name": "stdout",
          "text": [
            "['책']\n",
            "['열쇠']\n"
          ]
        }
      ]
    },
    {
      "cell_type": "code",
      "source": [
        "class Person:\n",
        "  count = 0 # 클래스 속성\n",
        "\n",
        "  def __init__(self):\n",
        "    Person.count += 1 # 인스턴스가 만들어 질 때 클래스 속성 count에 1을 더함\n",
        "\n",
        "  @classmethod\n",
        "  def print_count(cls):\n",
        "    print('{0}명 생성되었습니다.'.format(cls.count)) # cls로 클래스 속성에 접근\n",
        "\n",
        "james=Person()\n",
        "maria=Person()\n",
        "\n",
        "Person.print_count()"
      ],
      "metadata": {
        "colab": {
          "base_uri": "https://localhost:8080/"
        },
        "id": "jcr3NztOrSW3",
        "outputId": "7e42f7d4-f507-4813-c259-25e175840be2"
      },
      "execution_count": 25,
      "outputs": [
        {
          "output_type": "stream",
          "name": "stdout",
          "text": [
            "2명 생성되었습니다.\n"
          ]
        }
      ]
    }
  ]
}