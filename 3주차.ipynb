{
  "nbformat": 4,
  "nbformat_minor": 0,
  "metadata": {
    "colab": {
      "name": "3주차.ipynb",
      "provenance": [],
      "collapsed_sections": [],
      "authorship_tag": "ABX9TyM323JbBDuwwREQ8uLJXMRM",
      "include_colab_link": true
    },
    "kernelspec": {
      "name": "python3",
      "display_name": "Python 3"
    },
    "language_info": {
      "name": "python"
    }
  },
  "cells": [
    {
      "cell_type": "markdown",
      "metadata": {
        "id": "view-in-github",
        "colab_type": "text"
      },
      "source": [
        "<a href=\"https://colab.research.google.com/github/shinyehwan/python_basic/blob/main/3%EC%A3%BC%EC%B0%A8.ipynb\" target=\"_parent\"><img src=\"https://colab.research.google.com/assets/colab-badge.svg\" alt=\"Open In Colab\"/></a>"
      ]
    },
    {
      "cell_type": "code",
      "metadata": {
        "colab": {
          "base_uri": "https://localhost:8080/"
        },
        "id": "8eYQv1sTvH2n",
        "outputId": "01117500-a5a3-4e58-f674-9dc9916eed98"
      },
      "source": [
        "print(\"Hello, World\")\n",
        "\n",
        "print(\"Hello, World\"); # 파이썬에서는 C언어 처럼; (세미콜론)은 끝에 꼭 붙여주지 않아도 되지만 실행 코드의 마무리를 알려주는 역할을 하기도한다\n",
        "\n",
        "print(\"Hello, \"); print(\"World\");\n",
        "\n",
        "print('Hello, World')\n",
        "\n",
        "\n",
        "\n",
        "# 데이터 타입을 알아내는 함수 : type()\n",
        "print(type(5))\n",
        "print(type(3.14))\n",
        "print(type(\"D K U\"))\n",
        "print(type(True))\n",
        "\n",
        "\n",
        "# +, -, *, / 연산자\n",
        "print(1+1)\n",
        "print(1-1)\n",
        "print(5*2)\n",
        "print(100/5)\n",
        "\n",
        "# //, %, ** 연산자\n",
        "print(9//2)\n",
        "print(9%2)\n",
        "print(2**10)\n",
        "\n",
        "print(int(3.14))\n",
        "print(float(5))\n",
        "\n",
        "print(type(str(50000)))\n",
        "print(type(int(\"50000\")))"
      ],
      "execution_count": null,
      "outputs": [
        {
          "output_type": "stream",
          "name": "stdout",
          "text": [
            "Hello, World\n",
            "Hello, World\n",
            "Hello, \n",
            "World\n",
            "Hello, World\n",
            "<class 'int'>\n",
            "<class 'float'>\n",
            "<class 'str'>\n",
            "<class 'bool'>\n",
            "2\n",
            "0\n",
            "10\n",
            "20.0\n",
            "4\n",
            "1\n",
            "1024\n",
            "3\n",
            "5.0\n",
            "<class 'str'>\n",
            "<class 'int'>\n"
          ]
        }
      ]
    }
  ]
}